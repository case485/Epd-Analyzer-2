{
 "cells": [
  {
   "cell_type": "code",
   "execution_count": null,
   "metadata": {},
   "outputs": [],
   "source": [
    "import requests"
   ]
  },
  {
   "cell_type": "code",
   "execution_count": 1,
   "metadata": {},
   "outputs": [
    {
     "name": "stdout",
     "output_type": "stream",
     "text": [
      "Request successful!\n",
      "Response: {'csp': None, 'country_state': 'TX', 'consent': None, 'ts': 1730559988, 'link_swapping_domains': [], 'bv': '4.7.0-9103ecb7', 'merchant_domains': [], 'country': 'US', 'sessid': None, 'guid': None}\n"
     ]
    }
   ],
   "source": [
    "import requests\n",
    "\n",
    "def send_skimresources_request():\n",
    "    url = \"https://r.skimresources.com/api/\"\n",
    "    headers = {\n",
    "        \"accept\": \"*/*\",\n",
    "        \"accept-language\": \"en-US,en;q=0.9\",\n",
    "        \"content-type\": \"application/x-www-form-urlencoded\",\n",
    "        \"origin\": \"https://www.cattletoday.com\",\n",
    "        \"priority\": \"u=1, i\",\n",
    "        \"referer\": \"https://www.cattletoday.com/\",\n",
    "        \"sec-ch-ua\": '\"Chromium\";v=\"130\", \"Google Chrome\";v=\"130\", \"Not?A_Brand\";v=\"99\"',\n",
    "        \"sec-ch-ua-mobile\": \"?0\",\n",
    "        \"sec-ch-ua-platform\": '\"Windows\"',\n",
    "        \"sec-fetch-dest\": \"empty\",\n",
    "        \"sec-fetch-mode\": \"cors\",\n",
    "        \"sec-fetch-site\": \"cross-site\",\n",
    "        \"user-agent\": \"Mozilla/5.0 (Windows NT 10.0; Win64; x64) AppleWebKit/537.36 (KHTML, like Gecko) Chrome/130.0.0.0 Safari/537.36\"\n",
    "    }\n",
    "    data = {\n",
    "        \"data\": '{\"pubcode\":\"269642X1755086\",\"page\":\"https://www.cattletoday.com/whats-new/posts/2498453/\",\"domains\":[\"google.com\",\"xenforo.com\"],\"link_swapping\":true}'\n",
    "    }\n",
    "\n",
    "    response = requests.post(url, headers=headers, data=data)\n",
    "    \n",
    "    if response.ok:\n",
    "        print(\"Request successful!\")\n",
    "        print(\"Response:\", response.json())\n",
    "    else:\n",
    "        print(\"Request failed with status code:\", response.status_code)\n",
    "        print(\"Error:\", response.text)\n",
    "\n",
    "# Call the function\n",
    "send_skimresources_request()\n"
   ]
  },
  {
   "cell_type": "code",
   "execution_count": null,
   "metadata": {},
   "outputs": [],
   "source": []
  }
 ],
 "metadata": {
  "kernelspec": {
   "display_name": "Python 3",
   "language": "python",
   "name": "python3"
  },
  "language_info": {
   "codemirror_mode": {
    "name": "ipython",
    "version": 3
   },
   "file_extension": ".py",
   "mimetype": "text/x-python",
   "name": "python",
   "nbconvert_exporter": "python",
   "pygments_lexer": "ipython3",
   "version": "3.12.7"
  }
 },
 "nbformat": 4,
 "nbformat_minor": 2
}
