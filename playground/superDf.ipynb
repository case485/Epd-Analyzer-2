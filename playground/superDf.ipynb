{
 "cells": [
  {
   "cell_type": "code",
   "execution_count": 1,
   "metadata": {},
   "outputs": [],
   "source": [
    "#Imports\n",
    "import pandas as pd\n",
    "from datetime import datetime\n",
    "import pickle\n",
    "pd.set_option('display.max_rows', None)\n",
    "pd.set_option('display.max_columns', None)"
   ]
  },
  {
   "cell_type": "code",
   "execution_count": 2,
   "metadata": {},
   "outputs": [
    {
     "ename": "ImportError",
     "evalue": "Missing optional dependency 'openpyxl'.  Use pip or conda to install openpyxl.",
     "output_type": "error",
     "traceback": [
      "\u001b[1;31m---------------------------------------------------------------------------\u001b[0m",
      "\u001b[1;31mModuleNotFoundError\u001b[0m                       Traceback (most recent call last)",
      "File \u001b[1;32mc:\\Users\\case4\\.conda\\envs\\epdAnalyzer2Env\\Lib\\site-packages\\pandas\\compat\\_optional.py:135\u001b[0m, in \u001b[0;36mimport_optional_dependency\u001b[1;34m(name, extra, errors, min_version)\u001b[0m\n\u001b[0;32m    134\u001b[0m \u001b[38;5;28;01mtry\u001b[39;00m:\n\u001b[1;32m--> 135\u001b[0m     module \u001b[38;5;241m=\u001b[39m \u001b[43mimportlib\u001b[49m\u001b[38;5;241;43m.\u001b[39;49m\u001b[43mimport_module\u001b[49m\u001b[43m(\u001b[49m\u001b[43mname\u001b[49m\u001b[43m)\u001b[49m\n\u001b[0;32m    136\u001b[0m \u001b[38;5;28;01mexcept\u001b[39;00m \u001b[38;5;167;01mImportError\u001b[39;00m:\n",
      "File \u001b[1;32mc:\\Users\\case4\\.conda\\envs\\epdAnalyzer2Env\\Lib\\importlib\\__init__.py:88\u001b[0m, in \u001b[0;36mimport_module\u001b[1;34m(name, package)\u001b[0m\n\u001b[0;32m     87\u001b[0m         level \u001b[38;5;241m+\u001b[39m\u001b[38;5;241m=\u001b[39m \u001b[38;5;241m1\u001b[39m\n\u001b[1;32m---> 88\u001b[0m \u001b[38;5;28;01mreturn\u001b[39;00m \u001b[43m_bootstrap\u001b[49m\u001b[38;5;241;43m.\u001b[39;49m\u001b[43m_gcd_import\u001b[49m\u001b[43m(\u001b[49m\u001b[43mname\u001b[49m\u001b[43m[\u001b[49m\u001b[43mlevel\u001b[49m\u001b[43m:\u001b[49m\u001b[43m]\u001b[49m\u001b[43m,\u001b[49m\u001b[43m \u001b[49m\u001b[43mpackage\u001b[49m\u001b[43m,\u001b[49m\u001b[43m \u001b[49m\u001b[43mlevel\u001b[49m\u001b[43m)\u001b[49m\n",
      "File \u001b[1;32m<frozen importlib._bootstrap>:1387\u001b[0m, in \u001b[0;36m_gcd_import\u001b[1;34m(name, package, level)\u001b[0m\n",
      "File \u001b[1;32m<frozen importlib._bootstrap>:1360\u001b[0m, in \u001b[0;36m_find_and_load\u001b[1;34m(name, import_)\u001b[0m\n",
      "File \u001b[1;32m<frozen importlib._bootstrap>:1324\u001b[0m, in \u001b[0;36m_find_and_load_unlocked\u001b[1;34m(name, import_)\u001b[0m\n",
      "\u001b[1;31mModuleNotFoundError\u001b[0m: No module named 'openpyxl'",
      "\nDuring handling of the above exception, another exception occurred:\n",
      "\u001b[1;31mImportError\u001b[0m                               Traceback (most recent call last)",
      "Cell \u001b[1;32mIn[2], line 3\u001b[0m\n\u001b[0;32m      1\u001b[0m \u001b[38;5;66;03m#Load and Clean Carcass Data 2021 Version\u001b[39;00m\n\u001b[0;32m      2\u001b[0m sheet_name \u001b[38;5;241m=\u001b[39m \u001b[38;5;124m\"\u001b[39m\u001b[38;5;124mIndividual Grades \u001b[39m\u001b[38;5;124m\"\u001b[39m\n\u001b[1;32m----> 3\u001b[0m carcassDf \u001b[38;5;241m=\u001b[39m \u001b[43mpd\u001b[49m\u001b[38;5;241;43m.\u001b[39;49m\u001b[43mread_excel\u001b[49m\u001b[43m(\u001b[49m\u001b[38;5;124;43m\"\u001b[39;49m\u001b[38;5;124;43m../datafiles/ArtesianCarcassData2021GRADE Form 11-8-21 HEARTBRAND-.xlsx\u001b[39;49m\u001b[38;5;124;43m\"\u001b[39;49m\u001b[43m,\u001b[49m\u001b[43m \u001b[49m\u001b[43msheet_name\u001b[49m\u001b[38;5;241;43m=\u001b[39;49m\u001b[43msheet_name\u001b[49m\u001b[43m,\u001b[49m\u001b[43m \u001b[49m\u001b[43mengine\u001b[49m\u001b[38;5;241;43m=\u001b[39;49m\u001b[38;5;124;43m'\u001b[39;49m\u001b[38;5;124;43mopenpyxl\u001b[39;49m\u001b[38;5;124;43m'\u001b[39;49m\u001b[43m)\u001b[49m\n\u001b[0;32m      4\u001b[0m carcassDf \u001b[38;5;241m=\u001b[39m carcassDf\u001b[38;5;241m.\u001b[39miloc[\u001b[38;5;241m5\u001b[39m:]\u001b[38;5;241m.\u001b[39mreset_index(drop\u001b[38;5;241m=\u001b[39m\u001b[38;5;28;01mTrue\u001b[39;00m)\n\u001b[0;32m      5\u001b[0m carcassDf \u001b[38;5;241m=\u001b[39m carcassDf\u001b[38;5;241m.\u001b[39mdropna(axis\u001b[38;5;241m=\u001b[39m\u001b[38;5;241m1\u001b[39m, how\u001b[38;5;241m=\u001b[39m\u001b[38;5;124m'\u001b[39m\u001b[38;5;124mall\u001b[39m\u001b[38;5;124m'\u001b[39m)\n",
      "File \u001b[1;32mc:\\Users\\case4\\.conda\\envs\\epdAnalyzer2Env\\Lib\\site-packages\\pandas\\io\\excel\\_base.py:495\u001b[0m, in \u001b[0;36mread_excel\u001b[1;34m(io, sheet_name, header, names, index_col, usecols, dtype, engine, converters, true_values, false_values, skiprows, nrows, na_values, keep_default_na, na_filter, verbose, parse_dates, date_parser, date_format, thousands, decimal, comment, skipfooter, storage_options, dtype_backend, engine_kwargs)\u001b[0m\n\u001b[0;32m    493\u001b[0m \u001b[38;5;28;01mif\u001b[39;00m \u001b[38;5;129;01mnot\u001b[39;00m \u001b[38;5;28misinstance\u001b[39m(io, ExcelFile):\n\u001b[0;32m    494\u001b[0m     should_close \u001b[38;5;241m=\u001b[39m \u001b[38;5;28;01mTrue\u001b[39;00m\n\u001b[1;32m--> 495\u001b[0m     io \u001b[38;5;241m=\u001b[39m \u001b[43mExcelFile\u001b[49m\u001b[43m(\u001b[49m\n\u001b[0;32m    496\u001b[0m \u001b[43m        \u001b[49m\u001b[43mio\u001b[49m\u001b[43m,\u001b[49m\n\u001b[0;32m    497\u001b[0m \u001b[43m        \u001b[49m\u001b[43mstorage_options\u001b[49m\u001b[38;5;241;43m=\u001b[39;49m\u001b[43mstorage_options\u001b[49m\u001b[43m,\u001b[49m\n\u001b[0;32m    498\u001b[0m \u001b[43m        \u001b[49m\u001b[43mengine\u001b[49m\u001b[38;5;241;43m=\u001b[39;49m\u001b[43mengine\u001b[49m\u001b[43m,\u001b[49m\n\u001b[0;32m    499\u001b[0m \u001b[43m        \u001b[49m\u001b[43mengine_kwargs\u001b[49m\u001b[38;5;241;43m=\u001b[39;49m\u001b[43mengine_kwargs\u001b[49m\u001b[43m,\u001b[49m\n\u001b[0;32m    500\u001b[0m \u001b[43m    \u001b[49m\u001b[43m)\u001b[49m\n\u001b[0;32m    501\u001b[0m \u001b[38;5;28;01melif\u001b[39;00m engine \u001b[38;5;129;01mand\u001b[39;00m engine \u001b[38;5;241m!=\u001b[39m io\u001b[38;5;241m.\u001b[39mengine:\n\u001b[0;32m    502\u001b[0m     \u001b[38;5;28;01mraise\u001b[39;00m \u001b[38;5;167;01mValueError\u001b[39;00m(\n\u001b[0;32m    503\u001b[0m         \u001b[38;5;124m\"\u001b[39m\u001b[38;5;124mEngine should not be specified when passing \u001b[39m\u001b[38;5;124m\"\u001b[39m\n\u001b[0;32m    504\u001b[0m         \u001b[38;5;124m\"\u001b[39m\u001b[38;5;124man ExcelFile - ExcelFile already has the engine set\u001b[39m\u001b[38;5;124m\"\u001b[39m\n\u001b[0;32m    505\u001b[0m     )\n",
      "File \u001b[1;32mc:\\Users\\case4\\.conda\\envs\\epdAnalyzer2Env\\Lib\\site-packages\\pandas\\io\\excel\\_base.py:1567\u001b[0m, in \u001b[0;36mExcelFile.__init__\u001b[1;34m(self, path_or_buffer, engine, storage_options, engine_kwargs)\u001b[0m\n\u001b[0;32m   1564\u001b[0m \u001b[38;5;28mself\u001b[39m\u001b[38;5;241m.\u001b[39mengine \u001b[38;5;241m=\u001b[39m engine\n\u001b[0;32m   1565\u001b[0m \u001b[38;5;28mself\u001b[39m\u001b[38;5;241m.\u001b[39mstorage_options \u001b[38;5;241m=\u001b[39m storage_options\n\u001b[1;32m-> 1567\u001b[0m \u001b[38;5;28mself\u001b[39m\u001b[38;5;241m.\u001b[39m_reader \u001b[38;5;241m=\u001b[39m \u001b[38;5;28;43mself\u001b[39;49m\u001b[38;5;241;43m.\u001b[39;49m\u001b[43m_engines\u001b[49m\u001b[43m[\u001b[49m\u001b[43mengine\u001b[49m\u001b[43m]\u001b[49m\u001b[43m(\u001b[49m\n\u001b[0;32m   1568\u001b[0m \u001b[43m    \u001b[49m\u001b[38;5;28;43mself\u001b[39;49m\u001b[38;5;241;43m.\u001b[39;49m\u001b[43m_io\u001b[49m\u001b[43m,\u001b[49m\n\u001b[0;32m   1569\u001b[0m \u001b[43m    \u001b[49m\u001b[43mstorage_options\u001b[49m\u001b[38;5;241;43m=\u001b[39;49m\u001b[43mstorage_options\u001b[49m\u001b[43m,\u001b[49m\n\u001b[0;32m   1570\u001b[0m \u001b[43m    \u001b[49m\u001b[43mengine_kwargs\u001b[49m\u001b[38;5;241;43m=\u001b[39;49m\u001b[43mengine_kwargs\u001b[49m\u001b[43m,\u001b[49m\n\u001b[0;32m   1571\u001b[0m \u001b[43m\u001b[49m\u001b[43m)\u001b[49m\n",
      "File \u001b[1;32mc:\\Users\\case4\\.conda\\envs\\epdAnalyzer2Env\\Lib\\site-packages\\pandas\\io\\excel\\_openpyxl.py:552\u001b[0m, in \u001b[0;36mOpenpyxlReader.__init__\u001b[1;34m(self, filepath_or_buffer, storage_options, engine_kwargs)\u001b[0m\n\u001b[0;32m    534\u001b[0m \u001b[38;5;129m@doc\u001b[39m(storage_options\u001b[38;5;241m=\u001b[39m_shared_docs[\u001b[38;5;124m\"\u001b[39m\u001b[38;5;124mstorage_options\u001b[39m\u001b[38;5;124m\"\u001b[39m])\n\u001b[0;32m    535\u001b[0m \u001b[38;5;28;01mdef\u001b[39;00m \u001b[38;5;21m__init__\u001b[39m(\n\u001b[0;32m    536\u001b[0m     \u001b[38;5;28mself\u001b[39m,\n\u001b[1;32m   (...)\u001b[0m\n\u001b[0;32m    539\u001b[0m     engine_kwargs: \u001b[38;5;28mdict\u001b[39m \u001b[38;5;241m|\u001b[39m \u001b[38;5;28;01mNone\u001b[39;00m \u001b[38;5;241m=\u001b[39m \u001b[38;5;28;01mNone\u001b[39;00m,\n\u001b[0;32m    540\u001b[0m ) \u001b[38;5;241m-\u001b[39m\u001b[38;5;241m>\u001b[39m \u001b[38;5;28;01mNone\u001b[39;00m:\n\u001b[0;32m    541\u001b[0m \u001b[38;5;250m    \u001b[39m\u001b[38;5;124;03m\"\"\"\u001b[39;00m\n\u001b[0;32m    542\u001b[0m \u001b[38;5;124;03m    Reader using openpyxl engine.\u001b[39;00m\n\u001b[0;32m    543\u001b[0m \n\u001b[1;32m   (...)\u001b[0m\n\u001b[0;32m    550\u001b[0m \u001b[38;5;124;03m        Arbitrary keyword arguments passed to excel engine.\u001b[39;00m\n\u001b[0;32m    551\u001b[0m \u001b[38;5;124;03m    \"\"\"\u001b[39;00m\n\u001b[1;32m--> 552\u001b[0m     \u001b[43mimport_optional_dependency\u001b[49m\u001b[43m(\u001b[49m\u001b[38;5;124;43m\"\u001b[39;49m\u001b[38;5;124;43mopenpyxl\u001b[39;49m\u001b[38;5;124;43m\"\u001b[39;49m\u001b[43m)\u001b[49m\n\u001b[0;32m    553\u001b[0m     \u001b[38;5;28msuper\u001b[39m()\u001b[38;5;241m.\u001b[39m\u001b[38;5;21m__init__\u001b[39m(\n\u001b[0;32m    554\u001b[0m         filepath_or_buffer,\n\u001b[0;32m    555\u001b[0m         storage_options\u001b[38;5;241m=\u001b[39mstorage_options,\n\u001b[0;32m    556\u001b[0m         engine_kwargs\u001b[38;5;241m=\u001b[39mengine_kwargs,\n\u001b[0;32m    557\u001b[0m     )\n",
      "File \u001b[1;32mc:\\Users\\case4\\.conda\\envs\\epdAnalyzer2Env\\Lib\\site-packages\\pandas\\compat\\_optional.py:138\u001b[0m, in \u001b[0;36mimport_optional_dependency\u001b[1;34m(name, extra, errors, min_version)\u001b[0m\n\u001b[0;32m    136\u001b[0m \u001b[38;5;28;01mexcept\u001b[39;00m \u001b[38;5;167;01mImportError\u001b[39;00m:\n\u001b[0;32m    137\u001b[0m     \u001b[38;5;28;01mif\u001b[39;00m errors \u001b[38;5;241m==\u001b[39m \u001b[38;5;124m\"\u001b[39m\u001b[38;5;124mraise\u001b[39m\u001b[38;5;124m\"\u001b[39m:\n\u001b[1;32m--> 138\u001b[0m         \u001b[38;5;28;01mraise\u001b[39;00m \u001b[38;5;167;01mImportError\u001b[39;00m(msg)\n\u001b[0;32m    139\u001b[0m     \u001b[38;5;28;01mreturn\u001b[39;00m \u001b[38;5;28;01mNone\u001b[39;00m\n\u001b[0;32m    141\u001b[0m \u001b[38;5;66;03m# Handle submodules: if we have submodule, grab parent module from sys.modules\u001b[39;00m\n",
      "\u001b[1;31mImportError\u001b[0m: Missing optional dependency 'openpyxl'.  Use pip or conda to install openpyxl."
     ]
    }
   ],
   "source": [
    "#Load and Clean Carcass Data 2021 Version\n",
    "sheet_name = \"Individual Grades \"\n",
    "carcassDf = pd.read_excel(\"../datafiles/ArtesianCarcassData2021GRADE Form 11-8-21 HEARTBRAND-.xlsx\", sheet_name=sheet_name, engine='openpyxl')\n",
    "carcassDf = carcassDf.iloc[5:].reset_index(drop=True)\n",
    "carcassDf = carcassDf.dropna(axis=1, how='all')\n",
    "display(carcassDf.head(3))\n",
    "carcassDf.columns = carcassDf.iloc[0]\n",
    "carcassDf = carcassDf[1:].reset_index(drop=True) \n",
    "new_column_names = ['index', 'Carcass_Number', 'TAG ID','ID_1','Tattoo', \"Sex\",'Color', 'Carcass_Weight','Quality', 'Yield', 'ID_2','Member_ID','Member_Name',\"blank\"]\n",
    "carcassDf.columns = new_column_names\n",
    "carcassDf['Tattoo'] = carcassDf['Tattoo'].astype(str)\n",
    "carcassDf = carcassDf.dropna(how='all')\n",
    "carcassDf = carcassDf.dropna(subset=['Tattoo'])\n",
    "columns_to_copy = ['Carcass_Number','Tattoo', \"Sex\",'Color', 'Carcass_Weight','Quality', 'Yield','Member_ID','Member_Name']    \n",
    "carcass21Df = carcassDf[columns_to_copy].copy()\n",
    "display (carcass21Df.head(3))\n"
   ]
  },
  {
   "cell_type": "code",
   "execution_count": null,
   "metadata": {},
   "outputs": [
    {
     "data": {
      "text/html": [
       "<div>\n",
       "<style scoped>\n",
       "    .dataframe tbody tr th:only-of-type {\n",
       "        vertical-align: middle;\n",
       "    }\n",
       "\n",
       "    .dataframe tbody tr th {\n",
       "        vertical-align: top;\n",
       "    }\n",
       "\n",
       "    .dataframe thead th {\n",
       "        text-align: right;\n",
       "    }\n",
       "</style>\n",
       "<table border=\"1\" class=\"dataframe\">\n",
       "  <thead>\n",
       "    <tr style=\"text-align: right;\">\n",
       "      <th></th>\n",
       "      <th>Carcass_Number</th>\n",
       "      <th>Tattoo</th>\n",
       "      <th>Sex</th>\n",
       "      <th>Color</th>\n",
       "      <th>Carcass_Weight</th>\n",
       "      <th>Quality</th>\n",
       "      <th>Yield</th>\n",
       "      <th>Member_ID</th>\n",
       "      <th>Member_Name</th>\n",
       "    </tr>\n",
       "  </thead>\n",
       "  <tbody>\n",
       "    <tr>\n",
       "      <th>0</th>\n",
       "      <td>741</td>\n",
       "      <td>N133</td>\n",
       "      <td>STEER</td>\n",
       "      <td>RED</td>\n",
       "      <td>796</td>\n",
       "      <td>CH</td>\n",
       "      <td>2</td>\n",
       "      <td>NaN</td>\n",
       "      <td>D. Faulhaber</td>\n",
       "    </tr>\n",
       "    <tr>\n",
       "      <th>1</th>\n",
       "      <td>743</td>\n",
       "      <td>N30</td>\n",
       "      <td>HEIFER</td>\n",
       "      <td>BLACK</td>\n",
       "      <td>550</td>\n",
       "      <td>CH</td>\n",
       "      <td>2</td>\n",
       "      <td>NaN</td>\n",
       "      <td>D. Faulhaber</td>\n",
       "    </tr>\n",
       "    <tr>\n",
       "      <th>2</th>\n",
       "      <td>744</td>\n",
       "      <td>K74</td>\n",
       "      <td>HEIFER</td>\n",
       "      <td>RED</td>\n",
       "      <td>549</td>\n",
       "      <td>CH</td>\n",
       "      <td>2</td>\n",
       "      <td>NaN</td>\n",
       "      <td>D. Faulhaber</td>\n",
       "    </tr>\n",
       "  </tbody>\n",
       "</table>\n",
       "</div>"
      ],
      "text/plain": [
       "  Carcass_Number Tattoo     Sex  Color Carcass_Weight Quality Yield Member_ID  \\\n",
       "0            741   N133   STEER    RED            796      CH     2       NaN   \n",
       "1            743    N30  HEIFER  BLACK            550      CH     2       NaN   \n",
       "2            744    K74  HEIFER    RED            549      CH     2       NaN   \n",
       "\n",
       "    Member_Name  \n",
       "0  D. Faulhaber  \n",
       "1  D. Faulhaber  \n",
       "2  D. Faulhaber  "
      ]
     },
     "metadata": {},
     "output_type": "display_data"
    },
    {
     "data": {
      "text/plain": [
       "['Carcass_Number',\n",
       " 'Tattoo',\n",
       " 'Sex',\n",
       " 'Color',\n",
       " 'Carcass_Weight',\n",
       " 'Quality',\n",
       " 'Yield',\n",
       " 'Member_ID',\n",
       " 'Member_Name']"
      ]
     },
     "execution_count": 5,
     "metadata": {},
     "output_type": "execute_result"
    }
   ],
   "source": [
    "#Load and Clean Carcass Data 2018 Version\n",
    "sheet_name = \"Individual Grades -Bovina\"\n",
    "carcassDf2 = pd.read_excel(\"../datafiles/ArtesianCarcassData2018Grade Form 4-9-18 HeartBrand.xlsx\", sheet_name=sheet_name, engine='openpyxl')\n",
    "carcassDf2 = carcassDf2.iloc[5:].reset_index(drop=True)\n",
    "carcassDf2 = carcassDf2.dropna(axis=1, how='all')\n",
    "carcassDf2.columns = carcassDf.iloc[0]\n",
    "carcassDf2 = carcassDf2[1:].reset_index(drop=True) \n",
    "new_column_names = ['index', 'Carcass_Number', 'TAG ID','ID_1','ID_2', 'Tattoo', \"Sex\",'Color', 'Carcass_Weight','Quality', 'Yield', 'ID_3','Member_ID','Member_Name']\n",
    "carcassDf2.columns = new_column_names\n",
    "carcassDf['Tattoo'] = carcassDf2['Tattoo'].astype(str)\n",
    "carcassDf2 = carcassDf2.dropna(how='all')\n",
    "carcassDf2 = carcassDf2.dropna(subset=['Tattoo'])\n",
    "columns_to_copy = ['Carcass_Number','Tattoo', \"Sex\",'Color', 'Carcass_Weight','Quality', 'Yield','Member_ID','Member_Name']    \n",
    "carcass18Df = carcassDf2[columns_to_copy].copy()\n",
    "display (carcass18Df.head(3))\n",
    "carcass18Df.columns.to_list()"
   ]
  },
  {
   "cell_type": "code",
   "execution_count": null,
   "metadata": {},
   "outputs": [
    {
     "data": {
      "text/html": [
       "<div>\n",
       "<style scoped>\n",
       "    .dataframe tbody tr th:only-of-type {\n",
       "        vertical-align: middle;\n",
       "    }\n",
       "\n",
       "    .dataframe tbody tr th {\n",
       "        vertical-align: top;\n",
       "    }\n",
       "\n",
       "    .dataframe thead th {\n",
       "        text-align: right;\n",
       "    }\n",
       "</style>\n",
       "<table border=\"1\" class=\"dataframe\">\n",
       "  <thead>\n",
       "    <tr style=\"text-align: right;\">\n",
       "      <th></th>\n",
       "      <th>Grade Date</th>\n",
       "      <th>Carcass #</th>\n",
       "      <th>EID 1</th>\n",
       "      <th>EID tag</th>\n",
       "      <th>Lot 1</th>\n",
       "      <th>Lot 2</th>\n",
       "      <th>Ear Tag 1</th>\n",
       "      <th>Sex</th>\n",
       "      <th>Color</th>\n",
       "      <th>Weight</th>\n",
       "      <th>Grade</th>\n",
       "      <th>Yield</th>\n",
       "      <th>No-Roll code</th>\n",
       "      <th>Feed Yard</th>\n",
       "      <th>Breeder</th>\n",
       "      <th>Reg #</th>\n",
       "      <th>Sire</th>\n",
       "    </tr>\n",
       "  </thead>\n",
       "  <tbody>\n",
       "    <tr>\n",
       "      <th>0</th>\n",
       "      <td>2018-04-09</td>\n",
       "      <td>802</td>\n",
       "      <td>C027116</td>\n",
       "      <td>6164.0</td>\n",
       "      <td>6082</td>\n",
       "      <td>NaN</td>\n",
       "      <td>6164.0</td>\n",
       "      <td>STEER</td>\n",
       "      <td>WF</td>\n",
       "      <td>820</td>\n",
       "      <td>CH</td>\n",
       "      <td>2</td>\n",
       "      <td>BF</td>\n",
       "      <td>NaN</td>\n",
       "      <td>Artesian</td>\n",
       "      <td>1T94696</td>\n",
       "      <td>AF28735</td>\n",
       "    </tr>\n",
       "    <tr>\n",
       "      <th>1</th>\n",
       "      <td>2018-04-09</td>\n",
       "      <td>803</td>\n",
       "      <td>C027116</td>\n",
       "      <td>6082.0</td>\n",
       "      <td>6082</td>\n",
       "      <td>NaN</td>\n",
       "      <td>6082.0</td>\n",
       "      <td>STEER</td>\n",
       "      <td>RED</td>\n",
       "      <td>892</td>\n",
       "      <td>CH</td>\n",
       "      <td>2</td>\n",
       "      <td>BF</td>\n",
       "      <td>NaN</td>\n",
       "      <td>Artesian</td>\n",
       "      <td>1T94614</td>\n",
       "      <td>AF28735</td>\n",
       "    </tr>\n",
       "    <tr>\n",
       "      <th>2</th>\n",
       "      <td>2018-04-09</td>\n",
       "      <td>917</td>\n",
       "      <td>C027116</td>\n",
       "      <td>6168.0</td>\n",
       "      <td>6082</td>\n",
       "      <td>NaN</td>\n",
       "      <td>6168.0</td>\n",
       "      <td>STEER</td>\n",
       "      <td>BLACK</td>\n",
       "      <td>946</td>\n",
       "      <td>CH</td>\n",
       "      <td>2</td>\n",
       "      <td>BF</td>\n",
       "      <td>NaN</td>\n",
       "      <td>Artesian</td>\n",
       "      <td>1T94700</td>\n",
       "      <td>AF28735</td>\n",
       "    </tr>\n",
       "  </tbody>\n",
       "</table>\n",
       "</div>"
      ],
      "text/plain": [
       "  Grade Date  Carcass #    EID 1  EID tag  Lot 1  Lot 2  Ear Tag 1    Sex  \\\n",
       "0 2018-04-09        802  C027116   6164.0   6082    NaN     6164.0  STEER   \n",
       "1 2018-04-09        803  C027116   6082.0   6082    NaN     6082.0  STEER   \n",
       "2 2018-04-09        917  C027116   6168.0   6082    NaN     6168.0  STEER   \n",
       "\n",
       "   Color  Weight Grade  Yield No-Roll code Feed Yard   Breeder    Reg #  \\\n",
       "0     WF     820    CH      2           BF       NaN  Artesian  1T94696   \n",
       "1    RED     892    CH      2           BF       NaN  Artesian  1T94614   \n",
       "2  BLACK     946    CH      2           BF       NaN  Artesian  1T94700   \n",
       "\n",
       "      Sire  \n",
       "0  AF28735  \n",
       "1  AF28735  \n",
       "2  AF28735  "
      ]
     },
     "metadata": {},
     "output_type": "display_data"
    },
    {
     "data": {
      "text/html": [
       "<div>\n",
       "<style scoped>\n",
       "    .dataframe tbody tr th:only-of-type {\n",
       "        vertical-align: middle;\n",
       "    }\n",
       "\n",
       "    .dataframe tbody tr th {\n",
       "        vertical-align: top;\n",
       "    }\n",
       "\n",
       "    .dataframe thead th {\n",
       "        text-align: right;\n",
       "    }\n",
       "</style>\n",
       "<table border=\"1\" class=\"dataframe\">\n",
       "  <thead>\n",
       "    <tr style=\"text-align: right;\">\n",
       "      <th></th>\n",
       "      <th>Carcass_Number</th>\n",
       "      <th>Tattoo</th>\n",
       "      <th>Sex</th>\n",
       "      <th>Color</th>\n",
       "      <th>Carcass_Weight</th>\n",
       "      <th>Quality</th>\n",
       "      <th>Yield</th>\n",
       "      <th>Member_Name</th>\n",
       "      <th>Registration Number</th>\n",
       "      <th>Sire</th>\n",
       "    </tr>\n",
       "  </thead>\n",
       "  <tbody>\n",
       "    <tr>\n",
       "      <th>0</th>\n",
       "      <td>802</td>\n",
       "      <td>6164</td>\n",
       "      <td>STEER</td>\n",
       "      <td>WF</td>\n",
       "      <td>820</td>\n",
       "      <td>CH</td>\n",
       "      <td>2</td>\n",
       "      <td>Artesian</td>\n",
       "      <td>1T94696</td>\n",
       "      <td>AF28735</td>\n",
       "    </tr>\n",
       "    <tr>\n",
       "      <th>1</th>\n",
       "      <td>803</td>\n",
       "      <td>6082</td>\n",
       "      <td>STEER</td>\n",
       "      <td>RED</td>\n",
       "      <td>892</td>\n",
       "      <td>CH</td>\n",
       "      <td>2</td>\n",
       "      <td>Artesian</td>\n",
       "      <td>1T94614</td>\n",
       "      <td>AF28735</td>\n",
       "    </tr>\n",
       "    <tr>\n",
       "      <th>2</th>\n",
       "      <td>917</td>\n",
       "      <td>6168</td>\n",
       "      <td>STEER</td>\n",
       "      <td>BLACK</td>\n",
       "      <td>946</td>\n",
       "      <td>CH</td>\n",
       "      <td>2</td>\n",
       "      <td>Artesian</td>\n",
       "      <td>1T94700</td>\n",
       "      <td>AF28735</td>\n",
       "    </tr>\n",
       "  </tbody>\n",
       "</table>\n",
       "</div>"
      ],
      "text/plain": [
       "   Carcass_Number Tattoo    Sex  Color  Carcass_Weight Quality  Yield  \\\n",
       "0             802   6164  STEER     WF             820      CH      2   \n",
       "1             803   6082  STEER    RED             892      CH      2   \n",
       "2             917   6168  STEER  BLACK             946      CH      2   \n",
       "\n",
       "  Member_Name Registration Number     Sire  \n",
       "0    Artesian             1T94696  AF28735  \n",
       "1    Artesian             1T94614  AF28735  \n",
       "2    Artesian             1T94700  AF28735  "
      ]
     },
     "metadata": {},
     "output_type": "display_data"
    },
    {
     "data": {
      "text/plain": [
       "['Carcass_Number',\n",
       " 'Tattoo',\n",
       " 'Sex',\n",
       " 'Color',\n",
       " 'Carcass_Weight',\n",
       " 'Quality',\n",
       " 'Yield',\n",
       " 'Member_Name',\n",
       " 'Registration Number',\n",
       " 'Sire']"
      ]
     },
     "execution_count": 6,
     "metadata": {},
     "output_type": "execute_result"
    }
   ],
   "source": [
    "#Load and Clean Carcass Data Orange and Grey Table 2018-2019\n",
    "sheet_name = \"data table\"\n",
    "carcassOrangeDf = pd.read_excel(\"../datafiles/C0271 Artesian Carcass Data 2019.xlsx\", sheet_name=sheet_name, engine='openpyxl')\n",
    "carcassOrangeDf = carcassOrangeDf.dropna(axis=1, how='all')\n",
    "new_column_names = ['Grade Date', 'Carcass_Number', 'EID 1', 'EID tag', 'Lot 1', 'Lot 2',\n",
    "       'Tattoo', 'Sex', 'Color', 'Carcass_Weight', 'Quality', 'Yield', 'No-Roll code',\n",
    "       'Feed Yard', 'Member_Name', 'Registration Number', 'Sire']\n",
    "display(carcassOrangeDf.head(3))\n",
    "carcassOrangeDf.columns = new_column_names\n",
    "carcassOrangeDf['Tattoo'] = carcassOrangeDf['Tattoo'].astype(str).str.split('.').str[0]\n",
    "carcassOrangeDf = carcassOrangeDf.dropna(subset=['Registration Number'])\n",
    "columns_to_copy = ['Carcass_Number','Tattoo', \"Sex\",'Color', 'Carcass_Weight','Quality', 'Yield','Member_Name', 'Registration Number', 'Sire']    \n",
    "carcassOrangeDf = carcassOrangeDf[columns_to_copy].copy()\n",
    "display (carcassOrangeDf.head(3))\n",
    "carcassOrangeDf.columns.to_list()"
   ]
  },
  {
   "cell_type": "code",
   "execution_count": null,
   "metadata": {},
   "outputs": [
    {
     "name": "stdout",
     "output_type": "stream",
     "text": [
      "Length of carcass21Df: 379\n",
      "Length of carcass18Df: 213\n",
      "Length of carcassOrangeDf: 247\n",
      "Length of fullCarcassDf: 738\n"
     ]
    },
    {
     "data": {
      "text/html": [
       "<div>\n",
       "<style scoped>\n",
       "    .dataframe tbody tr th:only-of-type {\n",
       "        vertical-align: middle;\n",
       "    }\n",
       "\n",
       "    .dataframe tbody tr th {\n",
       "        vertical-align: top;\n",
       "    }\n",
       "\n",
       "    .dataframe thead th {\n",
       "        text-align: right;\n",
       "    }\n",
       "</style>\n",
       "<table border=\"1\" class=\"dataframe\">\n",
       "  <thead>\n",
       "    <tr style=\"text-align: right;\">\n",
       "      <th></th>\n",
       "      <th>Carcass_Number</th>\n",
       "      <th>Tattoo</th>\n",
       "      <th>Sex</th>\n",
       "      <th>Color</th>\n",
       "      <th>Carcass_Weight</th>\n",
       "      <th>Quality</th>\n",
       "      <th>Yield</th>\n",
       "      <th>Member_Name</th>\n",
       "      <th>Registration Number</th>\n",
       "      <th>Sire</th>\n",
       "      <th>Member_ID</th>\n",
       "    </tr>\n",
       "  </thead>\n",
       "  <tbody>\n",
       "    <tr>\n",
       "      <th>0</th>\n",
       "      <td>802</td>\n",
       "      <td>6164</td>\n",
       "      <td>STEER</td>\n",
       "      <td>WF</td>\n",
       "      <td>820</td>\n",
       "      <td>CH</td>\n",
       "      <td>2</td>\n",
       "      <td>Artesian</td>\n",
       "      <td>1T94696</td>\n",
       "      <td>AF28735</td>\n",
       "      <td>NaN</td>\n",
       "    </tr>\n",
       "    <tr>\n",
       "      <th>1</th>\n",
       "      <td>803</td>\n",
       "      <td>6082</td>\n",
       "      <td>STEER</td>\n",
       "      <td>RED</td>\n",
       "      <td>892</td>\n",
       "      <td>CH</td>\n",
       "      <td>2</td>\n",
       "      <td>Artesian</td>\n",
       "      <td>1T94614</td>\n",
       "      <td>AF28735</td>\n",
       "      <td>NaN</td>\n",
       "    </tr>\n",
       "    <tr>\n",
       "      <th>2</th>\n",
       "      <td>917</td>\n",
       "      <td>6168</td>\n",
       "      <td>STEER</td>\n",
       "      <td>BLACK</td>\n",
       "      <td>946</td>\n",
       "      <td>CH</td>\n",
       "      <td>2</td>\n",
       "      <td>Artesian</td>\n",
       "      <td>1T94700</td>\n",
       "      <td>AF28735</td>\n",
       "      <td>NaN</td>\n",
       "    </tr>\n",
       "    <tr>\n",
       "      <th>3</th>\n",
       "      <td>790</td>\n",
       "      <td>6207</td>\n",
       "      <td>STEER</td>\n",
       "      <td>BLACK</td>\n",
       "      <td>903</td>\n",
       "      <td>CH</td>\n",
       "      <td>3</td>\n",
       "      <td>Artesian</td>\n",
       "      <td>1T94739</td>\n",
       "      <td>AF28735</td>\n",
       "      <td>NaN</td>\n",
       "    </tr>\n",
       "    <tr>\n",
       "      <th>4</th>\n",
       "      <td>841</td>\n",
       "      <td>6202</td>\n",
       "      <td>STEER</td>\n",
       "      <td>BLACK</td>\n",
       "      <td>910</td>\n",
       "      <td>CH</td>\n",
       "      <td>3</td>\n",
       "      <td>Artesian</td>\n",
       "      <td>1T94734</td>\n",
       "      <td>AF28735</td>\n",
       "      <td>NaN</td>\n",
       "    </tr>\n",
       "  </tbody>\n",
       "</table>\n",
       "</div>"
      ],
      "text/plain": [
       "  Carcass_Number Tattoo    Sex  Color Carcass_Weight Quality Yield  \\\n",
       "0            802   6164  STEER     WF            820      CH     2   \n",
       "1            803   6082  STEER    RED            892      CH     2   \n",
       "2            917   6168  STEER  BLACK            946      CH     2   \n",
       "3            790   6207  STEER  BLACK            903      CH     3   \n",
       "4            841   6202  STEER  BLACK            910      CH     3   \n",
       "\n",
       "  Member_Name Registration Number     Sire Member_ID  \n",
       "0    Artesian             1T94696  AF28735       NaN  \n",
       "1    Artesian             1T94614  AF28735       NaN  \n",
       "2    Artesian             1T94700  AF28735       NaN  \n",
       "3    Artesian             1T94739  AF28735       NaN  \n",
       "4    Artesian             1T94734  AF28735       NaN  "
      ]
     },
     "metadata": {},
     "output_type": "display_data"
    }
   ],
   "source": [
    "#Concat both of the caracass dataframes \n",
    "print(f\"Length of carcass21Df: {len(carcass21Df)}\")\n",
    "print(f\"Length of carcass18Df: {len(carcass18Df)}\")\n",
    "print(f\"Length of carcassOrangeDf: {len(carcassOrangeDf)}\")\n",
    "partialCarcassDf = pd.concat([carcass21Df, carcass18Df])\n",
    "partialCarcassDf = partialCarcassDf[partialCarcassDf['Tattoo'] != 'nan']\n",
    "fullCarcassDf = pd.concat([carcassOrangeDf, partialCarcassDf], axis=0, ignore_index=True)\n",
    "print(f\"Length of fullCarcassDf: {len(fullCarcassDf)}\")\n",
    "display(fullCarcassDf.head())"
   ]
  },
  {
   "cell_type": "code",
   "execution_count": null,
   "metadata": {},
   "outputs": [],
   "source": [
    "# artesianCaracassDf = fullCarcassDf[fullCarcassDf['Member_Name'].str.contains('Artesian', case=False, na=False)]\n",
    "# print(f\"Length of artesianDf:{artesianCaracassDf.shape[0]}\")\n",
    "# artesianCaracassDf.to_csv('../datafiles/artesianCaracassDf.csv',index=False)\n",
    "# print(f\"Type: {type(artesianCaracassDf)}\")"
   ]
  },
  {
   "cell_type": "code",
   "execution_count": null,
   "metadata": {},
   "outputs": [
    {
     "data": {
      "text/html": [
       "<div>\n",
       "<style scoped>\n",
       "    .dataframe tbody tr th:only-of-type {\n",
       "        vertical-align: middle;\n",
       "    }\n",
       "\n",
       "    .dataframe tbody tr th {\n",
       "        vertical-align: top;\n",
       "    }\n",
       "\n",
       "    .dataframe thead th {\n",
       "        text-align: right;\n",
       "    }\n",
       "</style>\n",
       "<table border=\"1\" class=\"dataframe\">\n",
       "  <thead>\n",
       "    <tr style=\"text-align: right;\">\n",
       "      <th></th>\n",
       "      <th>Status/Disposal</th>\n",
       "      <th>Brand</th>\n",
       "      <th>Brand Location</th>\n",
       "      <th>Tattoo</th>\n",
       "      <th>Tattoo Location</th>\n",
       "      <th>Name</th>\n",
       "      <th>Registration Number</th>\n",
       "      <th>Breeder</th>\n",
       "      <th>Breeder Member Number</th>\n",
       "      <th>Owner</th>\n",
       "      <th>Owner Member Number</th>\n",
       "      <th>Date of Birth</th>\n",
       "      <th>Birth Method</th>\n",
       "      <th>Sire</th>\n",
       "      <th>Dam</th>\n",
       "      <th>Status</th>\n",
       "      <th>Type or Sex</th>\n",
       "      <th>Breed 1</th>\n",
       "      <th>Breed 2</th>\n",
       "      <th>Breed 3</th>\n",
       "      <th>Breed Comp 1</th>\n",
       "      <th>Breed Comp 2</th>\n",
       "      <th>Breed Comp 3</th>\n",
       "      <th>Horns</th>\n",
       "      <th>EPDType</th>\n",
       "      <th>EPD Reporting Period</th>\n",
       "      <th>CED</th>\n",
       "      <th>CED Acc</th>\n",
       "      <th>BW</th>\n",
       "      <th>BW Acc</th>\n",
       "      <th>WW</th>\n",
       "      <th>WW Acc</th>\n",
       "      <th>YW</th>\n",
       "      <th>YW Acc</th>\n",
       "      <th>MK</th>\n",
       "      <th>MK Acc</th>\n",
       "      <th>TM</th>\n",
       "      <th>Birth Weight</th>\n",
       "      <th>Adjusted Birth Weight</th>\n",
       "      <th>Birth Contemp Group</th>\n",
       "      <th>Birth contemporaries</th>\n",
       "      <th>Birth Weight Ratio</th>\n",
       "      <th>Calving Ease</th>\n",
       "      <th>Twin code</th>\n",
       "      <th>Weaning Date</th>\n",
       "      <th>Weaning Weight Date</th>\n",
       "      <th>Weaning Weight</th>\n",
       "      <th>Adjusted Weaning Weight</th>\n",
       "      <th>Weaning Contemp Group</th>\n",
       "      <th>Weaning Contemporaries</th>\n",
       "      <th>Weaning Weight Ratio</th>\n",
       "      <th>Weaning WDA</th>\n",
       "      <th>Weaning Mgmt Code</th>\n",
       "      <th>Weaning Pasture Code</th>\n",
       "      <th>Yearling Date</th>\n",
       "      <th>Yearling Weight Date</th>\n",
       "      <th>Yearling Weight</th>\n",
       "      <th>Adjusted Yearling Weight</th>\n",
       "      <th>Yearling Contemp Group</th>\n",
       "      <th>Yearling Contemporaries</th>\n",
       "      <th>Yearling Weight Ratio</th>\n",
       "      <th>Yearling WDA</th>\n",
       "      <th>Yearling ADG</th>\n",
       "      <th>Yearling Mgmt Code</th>\n",
       "      <th>Yearling Pasture Code</th>\n",
       "      <th>Growth</th>\n",
       "      <th>Year_Born</th>\n",
       "      <th>Age</th>\n",
       "      <th>Designation</th>\n",
       "    </tr>\n",
       "  </thead>\n",
       "  <tbody>\n",
       "    <tr>\n",
       "      <th>0</th>\n",
       "      <td>0</td>\n",
       "      <td>C0271</td>\n",
       "      <td>RH</td>\n",
       "      <td>7022</td>\n",
       "      <td>RE</td>\n",
       "      <td>7022</td>\n",
       "      <td>1A110014</td>\n",
       "      <td>ARTESIAN CATTLE &amp; FARMING LLC</td>\n",
       "      <td>291.0</td>\n",
       "      <td>ARTESIAN CATTLE &amp; FARMING LLC</td>\n",
       "      <td>291.0</td>\n",
       "      <td>2017-02-10</td>\n",
       "      <td>NS</td>\n",
       "      <td>AF36497</td>\n",
       "      <td>X93968</td>\n",
       "      <td>Active</td>\n",
       "      <td>C</td>\n",
       "      <td>AA</td>\n",
       "      <td>AN</td>\n",
       "      <td>XX</td>\n",
       "      <td>50.0</td>\n",
       "      <td>25.0</td>\n",
       "      <td>25.0</td>\n",
       "      <td>H</td>\n",
       "      <td>P</td>\n",
       "      <td>20240808.0</td>\n",
       "      <td>-3.8</td>\n",
       "      <td>0.12</td>\n",
       "      <td>2.3</td>\n",
       "      <td>0.08</td>\n",
       "      <td>46.0</td>\n",
       "      <td>0.05</td>\n",
       "      <td>84.0</td>\n",
       "      <td>0.01</td>\n",
       "      <td>26.0</td>\n",
       "      <td>0.04</td>\n",
       "      <td>49.4180</td>\n",
       "      <td>0.0</td>\n",
       "      <td>NaN</td>\n",
       "      <td>5650-4754</td>\n",
       "      <td>60.0</td>\n",
       "      <td>NaN</td>\n",
       "      <td>1.0</td>\n",
       "      <td>1.0</td>\n",
       "      <td>NaN</td>\n",
       "      <td>NaN</td>\n",
       "      <td>NaN</td>\n",
       "      <td>NaN</td>\n",
       "      <td>NaN</td>\n",
       "      <td>NaN</td>\n",
       "      <td>NaN</td>\n",
       "      <td>NaN</td>\n",
       "      <td>NaN</td>\n",
       "      <td>NaN</td>\n",
       "      <td>NaN</td>\n",
       "      <td>NaN</td>\n",
       "      <td>NaN</td>\n",
       "      <td>NaN</td>\n",
       "      <td>NaN</td>\n",
       "      <td>NaN</td>\n",
       "      <td>NaN</td>\n",
       "      <td>NaN</td>\n",
       "      <td>NaN</td>\n",
       "      <td>NaN</td>\n",
       "      <td>NaN</td>\n",
       "      <td>86.5187</td>\n",
       "      <td>2017.0</td>\n",
       "      <td>7.0</td>\n",
       "      <td>Dam</td>\n",
       "    </tr>\n",
       "    <tr>\n",
       "      <th>1</th>\n",
       "      <td>0</td>\n",
       "      <td>C0271</td>\n",
       "      <td>RH</td>\n",
       "      <td>7180</td>\n",
       "      <td>RE</td>\n",
       "      <td>7180</td>\n",
       "      <td>1A110015</td>\n",
       "      <td>ARTESIAN CATTLE &amp; FARMING LLC</td>\n",
       "      <td>291.0</td>\n",
       "      <td>ARTESIAN CATTLE &amp; FARMING LLC</td>\n",
       "      <td>291.0</td>\n",
       "      <td>2017-02-13</td>\n",
       "      <td>NS</td>\n",
       "      <td>AF62396</td>\n",
       "      <td>X93894</td>\n",
       "      <td>Active</td>\n",
       "      <td>C</td>\n",
       "      <td>AA</td>\n",
       "      <td>AN</td>\n",
       "      <td>XX</td>\n",
       "      <td>50.0</td>\n",
       "      <td>25.0</td>\n",
       "      <td>25.0</td>\n",
       "      <td>H</td>\n",
       "      <td>P</td>\n",
       "      <td>20240808.0</td>\n",
       "      <td>-5.5</td>\n",
       "      <td>0.11</td>\n",
       "      <td>1.7</td>\n",
       "      <td>0.08</td>\n",
       "      <td>44.0</td>\n",
       "      <td>0.04</td>\n",
       "      <td>79.0</td>\n",
       "      <td>0.01</td>\n",
       "      <td>26.0</td>\n",
       "      <td>0.03</td>\n",
       "      <td>47.6465</td>\n",
       "      <td>0.0</td>\n",
       "      <td>NaN</td>\n",
       "      <td>5650-4754</td>\n",
       "      <td>60.0</td>\n",
       "      <td>NaN</td>\n",
       "      <td>1.0</td>\n",
       "      <td>1.0</td>\n",
       "      <td>NaN</td>\n",
       "      <td>NaN</td>\n",
       "      <td>NaN</td>\n",
       "      <td>NaN</td>\n",
       "      <td>NaN</td>\n",
       "      <td>NaN</td>\n",
       "      <td>NaN</td>\n",
       "      <td>NaN</td>\n",
       "      <td>NaN</td>\n",
       "      <td>NaN</td>\n",
       "      <td>NaN</td>\n",
       "      <td>NaN</td>\n",
       "      <td>NaN</td>\n",
       "      <td>NaN</td>\n",
       "      <td>NaN</td>\n",
       "      <td>NaN</td>\n",
       "      <td>NaN</td>\n",
       "      <td>NaN</td>\n",
       "      <td>NaN</td>\n",
       "      <td>NaN</td>\n",
       "      <td>NaN</td>\n",
       "      <td>81.1313</td>\n",
       "      <td>2017.0</td>\n",
       "      <td>7.0</td>\n",
       "      <td>Dam</td>\n",
       "    </tr>\n",
       "    <tr>\n",
       "      <th>2</th>\n",
       "      <td>0</td>\n",
       "      <td>C0271</td>\n",
       "      <td>RH</td>\n",
       "      <td>7038</td>\n",
       "      <td>RE</td>\n",
       "      <td>7038</td>\n",
       "      <td>1A110016</td>\n",
       "      <td>ARTESIAN CATTLE &amp; FARMING LLC</td>\n",
       "      <td>291.0</td>\n",
       "      <td>ARTESIAN CATTLE &amp; FARMING LLC</td>\n",
       "      <td>291.0</td>\n",
       "      <td>2017-02-13</td>\n",
       "      <td>NS</td>\n",
       "      <td>AF42330</td>\n",
       "      <td>X109562</td>\n",
       "      <td>Active</td>\n",
       "      <td>C</td>\n",
       "      <td>AA</td>\n",
       "      <td>NaN</td>\n",
       "      <td>XX</td>\n",
       "      <td>50.0</td>\n",
       "      <td>NaN</td>\n",
       "      <td>50.0</td>\n",
       "      <td>P</td>\n",
       "      <td>P</td>\n",
       "      <td>20240808.0</td>\n",
       "      <td>-5.1</td>\n",
       "      <td>0.11</td>\n",
       "      <td>2.1</td>\n",
       "      <td>0.08</td>\n",
       "      <td>42.0</td>\n",
       "      <td>0.05</td>\n",
       "      <td>77.0</td>\n",
       "      <td>0.01</td>\n",
       "      <td>27.0</td>\n",
       "      <td>0.04</td>\n",
       "      <td>48.2155</td>\n",
       "      <td>0.0</td>\n",
       "      <td>NaN</td>\n",
       "      <td>5650-4754</td>\n",
       "      <td>60.0</td>\n",
       "      <td>NaN</td>\n",
       "      <td>1.0</td>\n",
       "      <td>1.0</td>\n",
       "      <td>NaN</td>\n",
       "      <td>NaN</td>\n",
       "      <td>NaN</td>\n",
       "      <td>NaN</td>\n",
       "      <td>NaN</td>\n",
       "      <td>NaN</td>\n",
       "      <td>NaN</td>\n",
       "      <td>NaN</td>\n",
       "      <td>NaN</td>\n",
       "      <td>NaN</td>\n",
       "      <td>NaN</td>\n",
       "      <td>NaN</td>\n",
       "      <td>NaN</td>\n",
       "      <td>NaN</td>\n",
       "      <td>NaN</td>\n",
       "      <td>NaN</td>\n",
       "      <td>NaN</td>\n",
       "      <td>NaN</td>\n",
       "      <td>NaN</td>\n",
       "      <td>NaN</td>\n",
       "      <td>NaN</td>\n",
       "      <td>78.7369</td>\n",
       "      <td>2017.0</td>\n",
       "      <td>7.0</td>\n",
       "      <td>Dam</td>\n",
       "    </tr>\n",
       "  </tbody>\n",
       "</table>\n",
       "</div>"
      ],
      "text/plain": [
       "   Status/Disposal  Brand Brand Location Tattoo Tattoo Location  Name  \\\n",
       "0                0  C0271             RH   7022              RE  7022   \n",
       "1                0  C0271             RH   7180              RE  7180   \n",
       "2                0  C0271             RH   7038              RE  7038   \n",
       "\n",
       "  Registration Number                        Breeder  Breeder Member Number  \\\n",
       "0            1A110014  ARTESIAN CATTLE & FARMING LLC                  291.0   \n",
       "1            1A110015  ARTESIAN CATTLE & FARMING LLC                  291.0   \n",
       "2            1A110016  ARTESIAN CATTLE & FARMING LLC                  291.0   \n",
       "\n",
       "                           Owner  Owner Member Number Date of Birth  \\\n",
       "0  ARTESIAN CATTLE & FARMING LLC                291.0    2017-02-10   \n",
       "1  ARTESIAN CATTLE & FARMING LLC                291.0    2017-02-13   \n",
       "2  ARTESIAN CATTLE & FARMING LLC                291.0    2017-02-13   \n",
       "\n",
       "  Birth Method     Sire      Dam  Status Type or Sex Breed 1 Breed 2 Breed 3  \\\n",
       "0           NS  AF36497   X93968  Active           C      AA      AN      XX   \n",
       "1           NS  AF62396   X93894  Active           C      AA      AN      XX   \n",
       "2           NS  AF42330  X109562  Active           C      AA     NaN      XX   \n",
       "\n",
       "   Breed Comp 1  Breed Comp 2  Breed Comp 3 Horns EPDType  \\\n",
       "0          50.0          25.0          25.0     H       P   \n",
       "1          50.0          25.0          25.0     H       P   \n",
       "2          50.0           NaN          50.0     P       P   \n",
       "\n",
       "   EPD Reporting Period  CED  CED Acc   BW  BW Acc    WW  WW Acc    YW  \\\n",
       "0            20240808.0 -3.8     0.12  2.3    0.08  46.0    0.05  84.0   \n",
       "1            20240808.0 -5.5     0.11  1.7    0.08  44.0    0.04  79.0   \n",
       "2            20240808.0 -5.1     0.11  2.1    0.08  42.0    0.05  77.0   \n",
       "\n",
       "   YW Acc    MK  MK Acc       TM  Birth Weight  Adjusted Birth Weight  \\\n",
       "0    0.01  26.0    0.04  49.4180           0.0                    NaN   \n",
       "1    0.01  26.0    0.03  47.6465           0.0                    NaN   \n",
       "2    0.01  27.0    0.04  48.2155           0.0                    NaN   \n",
       "\n",
       "  Birth Contemp Group  Birth contemporaries  Birth Weight Ratio  Calving Ease  \\\n",
       "0           5650-4754                  60.0                 NaN           1.0   \n",
       "1           5650-4754                  60.0                 NaN           1.0   \n",
       "2           5650-4754                  60.0                 NaN           1.0   \n",
       "\n",
       "   Twin code Weaning Date Weaning Weight Date  Weaning Weight  \\\n",
       "0        1.0          NaN                 NaN             NaN   \n",
       "1        1.0          NaN                 NaN             NaN   \n",
       "2        1.0          NaN                 NaN             NaN   \n",
       "\n",
       "   Adjusted Weaning Weight Weaning Contemp Group  Weaning Contemporaries  \\\n",
       "0                      NaN                   NaN                     NaN   \n",
       "1                      NaN                   NaN                     NaN   \n",
       "2                      NaN                   NaN                     NaN   \n",
       "\n",
       "   Weaning Weight Ratio  Weaning WDA  Weaning Mgmt Code Weaning Pasture Code  \\\n",
       "0                   NaN          NaN                NaN                  NaN   \n",
       "1                   NaN          NaN                NaN                  NaN   \n",
       "2                   NaN          NaN                NaN                  NaN   \n",
       "\n",
       "  Yearling Date Yearling Weight Date  Yearling Weight  \\\n",
       "0           NaN                  NaN              NaN   \n",
       "1           NaN                  NaN              NaN   \n",
       "2           NaN                  NaN              NaN   \n",
       "\n",
       "   Adjusted Yearling Weight Yearling Contemp Group  Yearling Contemporaries  \\\n",
       "0                       NaN                    NaN                      NaN   \n",
       "1                       NaN                    NaN                      NaN   \n",
       "2                       NaN                    NaN                      NaN   \n",
       "\n",
       "   Yearling Weight Ratio  Yearling WDA  Yearling ADG  Yearling Mgmt Code  \\\n",
       "0                    NaN           NaN           NaN                 NaN   \n",
       "1                    NaN           NaN           NaN                 NaN   \n",
       "2                    NaN           NaN           NaN                 NaN   \n",
       "\n",
       "  Yearling Pasture Code   Growth  Year_Born  Age Designation  \n",
       "0                   NaN  86.5187     2017.0  7.0         Dam  \n",
       "1                   NaN  81.1313     2017.0  7.0         Dam  \n",
       "2                   NaN  78.7369     2017.0  7.0         Dam  "
      ]
     },
     "execution_count": 8,
     "metadata": {},
     "output_type": "execute_result"
    }
   ],
   "source": [
    "#Load and Clean CattleMax data\n",
    "def clean_and_modify_CattlemaxDfs(df):\n",
    "    # st.write(\"In clean_and_modify_CattlemaxDfs\")\n",
    "    # st.dataframe(df)\n",
    "    today = datetime.today()\n",
    "    df = df.rename(columns={\n",
    "        'Calving Ease Direct EPD': 'CED',\n",
    "        'Calving Ease Direct Acc': 'CED Acc',\n",
    "        'Birth Weight EPD': 'BW',\n",
    "        'Birth Weight Acc': 'BW Acc',\n",
    "        'Weaning Weight EPD': 'WW',\n",
    "        'Weaning Weight Acc': 'WW Acc',\n",
    "        'Yearling Weight EPD': 'YW',\n",
    "        'Yearling Weight Acc': 'YW Acc',\n",
    "        'Milk EPD': 'MK',\n",
    "        'Milk Acc': 'MK Acc',\n",
    "        'Total Maternal EPD': 'TM'\n",
    "    })\n",
    "    df = df.dropna(axis=1, how='all')\n",
    "    df['Growth'] = (- 0.301 * df['BW'] ) + \\\n",
    "                   ( 0.039 * df['WW']) + \\\n",
    "                   (1.098 * df['YW'] ) - 6.815\n",
    "    df['Date of Birth'] = pd.to_datetime(df['Date of Birth'], errors='coerce')\n",
    "    df['Year_Born'] = df['Date of Birth'].dt.year\n",
    "    df['Age'] = (pd.to_datetime('today').year) - df['Date of Birth'].dt.year\n",
    "    df['Tattoo'] = df['Tattoo'].astype(str)\n",
    "    def assign_designation(row):\n",
    "        if pd.isnull(row['Year_Born']):\n",
    "            return 'Unknown'  # Handle cases where Year_Born is missing\n",
    "        \n",
    "        age_in_years = today.year - int(row['Year_Born'])\n",
    "        \n",
    "        if row['Type or Sex'] == 'B' and age_in_years >= 2:\n",
    "            return 'Bull'\n",
    "        elif row['Type or Sex'] == 'C' and age_in_years >= 2:\n",
    "            return 'Dam'\n",
    "        elif row['Type or Sex'] in ['B', 'C'] and age_in_years < 2:\n",
    "            return 'Non-Parent'\n",
    "        elif row['Type or Sex'] == 'S':\n",
    "            return 'Steer'\n",
    "        \n",
    "        return 'Unknown'  # Default for rows that don't match any condition\n",
    "    df['Designation'] = df.apply(assign_designation, axis=1)\n",
    "    \n",
    "    return(df)\n",
    "cattleMaxDf = pd.read_csv(\"../datafiles/Artesian_Full2cattlemax_herdfile_291.csv\",index_col=False)\n",
    "cattleMaxDf = clean_and_modify_CattlemaxDfs(cattleMaxDf)\n",
    "cattleMaxDf.head(3)\n",
    "#If you now need to go get the pedigree for this herd file you can use the following code\n",
    "# cattleMaxDf[\"Registration Number\"].to_csv(\"Registration_numbers.csv\", index=False, header=False)"
   ]
  },
  {
   "cell_type": "code",
   "execution_count": null,
   "metadata": {},
   "outputs": [
    {
     "data": {
      "text/html": [
       "<div>\n",
       "<style scoped>\n",
       "    .dataframe tbody tr th:only-of-type {\n",
       "        vertical-align: middle;\n",
       "    }\n",
       "\n",
       "    .dataframe tbody tr th {\n",
       "        vertical-align: top;\n",
       "    }\n",
       "\n",
       "    .dataframe thead th {\n",
       "        text-align: right;\n",
       "    }\n",
       "</style>\n",
       "<table border=\"1\" class=\"dataframe\">\n",
       "  <thead>\n",
       "    <tr style=\"text-align: right;\">\n",
       "      <th></th>\n",
       "      <th>Registration Number</th>\n",
       "      <th>phn</th>\n",
       "      <th>animal_name</th>\n",
       "      <th>sire</th>\n",
       "      <th>sire_phn</th>\n",
       "      <th>sire_name</th>\n",
       "      <th>dam</th>\n",
       "      <th>dam_phn</th>\n",
       "      <th>dam_name</th>\n",
       "      <th>sire_sire</th>\n",
       "      <th>sire_sire_phn</th>\n",
       "      <th>sire_sire_name</th>\n",
       "      <th>sire_dam</th>\n",
       "      <th>sire_dam_phn</th>\n",
       "      <th>sire_dam_name</th>\n",
       "      <th>dam_sire</th>\n",
       "      <th>dam_sire_phn</th>\n",
       "      <th>dam_sire_name</th>\n",
       "      <th>dam_dam</th>\n",
       "      <th>dam_dam_phn</th>\n",
       "      <th>dam_dam_name</th>\n",
       "      <th>sire_sire_sire</th>\n",
       "      <th>sire_sire_sire_phn</th>\n",
       "      <th>sire_sire_sire_name</th>\n",
       "      <th>sire_sire_dam</th>\n",
       "      <th>sire_sire_dam_phn</th>\n",
       "      <th>sire_sire_dam_name</th>\n",
       "      <th>sire_dam_sire</th>\n",
       "      <th>sire_dam_sire_phn</th>\n",
       "      <th>sire_dam_sire_name</th>\n",
       "      <th>sire_dam_dam</th>\n",
       "      <th>sire_dam_dam_phn</th>\n",
       "      <th>sire_dam_dam_name</th>\n",
       "      <th>dam_sire_sire</th>\n",
       "      <th>dam_sire_sire_phn</th>\n",
       "      <th>dam_sire_sire_name</th>\n",
       "      <th>dam_sire_dam</th>\n",
       "      <th>dam_sire_dam_phn</th>\n",
       "      <th>dam_sire_dam_name</th>\n",
       "      <th>dam_dam_sire</th>\n",
       "      <th>dam_dam_sire_phn</th>\n",
       "      <th>dam_dam_sire_name</th>\n",
       "      <th>dam_dam_dam</th>\n",
       "      <th>dam_dam_dam_phn</th>\n",
       "      <th>dam_dam_dam_name</th>\n",
       "      <th>sire_sire_sire_sire</th>\n",
       "      <th>sire_sire_sire_sire_phn</th>\n",
       "      <th>sire_sire_sire_sire_name</th>\n",
       "      <th>sire_sire_sire_dam</th>\n",
       "      <th>sire_sire_sire_dam_phn</th>\n",
       "      <th>sire_sire_sire_dam_name</th>\n",
       "      <th>sire_sire_dam_sire</th>\n",
       "      <th>sire_sire_dam_sire_phn</th>\n",
       "      <th>sire_sire_dam_sire_name</th>\n",
       "      <th>sire_sire_dam_dam</th>\n",
       "      <th>sire_sire_dam_dam_phn</th>\n",
       "      <th>sire_sire_dam_dam_name</th>\n",
       "      <th>dam_sire_sire_sire</th>\n",
       "      <th>dam_sire_sire_sire_phn</th>\n",
       "      <th>dam_sire_sire_sire_name</th>\n",
       "      <th>dam_sire_sire_dam</th>\n",
       "      <th>dam_sire_sire_dam_phn</th>\n",
       "      <th>dam_sire_sire_dam_name</th>\n",
       "      <th>dam_sire_dam_sire</th>\n",
       "      <th>dam_sire_dam_sire_phn</th>\n",
       "      <th>dam_sire_dam_sire_name</th>\n",
       "      <th>dam_sire_dam_dam</th>\n",
       "      <th>dam_sire_dam_dam_phn</th>\n",
       "      <th>dam_sire_dam_dam_name</th>\n",
       "      <th>sire_dam_sire_sire</th>\n",
       "      <th>sire_dam_sire_sire_phn</th>\n",
       "      <th>sire_dam_sire_sire_name</th>\n",
       "      <th>sire_dam_sire_dam</th>\n",
       "      <th>sire_dam_sire_dam_phn</th>\n",
       "      <th>sire_dam_sire_dam_name</th>\n",
       "      <th>sire_dam_dam_sire</th>\n",
       "      <th>sire_dam_dam_sire_phn</th>\n",
       "      <th>sire_dam_dam_sire_name</th>\n",
       "      <th>sire_dam_dam_dam</th>\n",
       "      <th>sire_dam_dam_dam_phn</th>\n",
       "      <th>sire_dam_dam_dam_name</th>\n",
       "      <th>dam_dam_sire_sire</th>\n",
       "      <th>dam_dam_sire_sire_phn</th>\n",
       "      <th>dam_dam_sire_sire_name</th>\n",
       "      <th>dam_dam_sire_dam</th>\n",
       "      <th>dam_dam_sire_dam_phn</th>\n",
       "      <th>dam_dam_sire_dam_name</th>\n",
       "      <th>dam_dam_dam_sire</th>\n",
       "      <th>dam_dam_dam_sire_phn</th>\n",
       "      <th>dam_dam_dam_sire_name</th>\n",
       "      <th>dam_dam_dam_dam</th>\n",
       "      <th>dam_dam_dam_dam_phn</th>\n",
       "      <th>dam_dam_dam_dam_name</th>\n",
       "    </tr>\n",
       "  </thead>\n",
       "  <tbody>\n",
       "    <tr>\n",
       "      <th>0</th>\n",
       "      <td>X93971</td>\n",
       "      <td>932</td>\n",
       "      <td>932</td>\n",
       "      <td>NaN</td>\n",
       "      <td>NaN</td>\n",
       "      <td>NaN</td>\n",
       "      <td>NaN</td>\n",
       "      <td>NaN</td>\n",
       "      <td>NaN</td>\n",
       "      <td>NaN</td>\n",
       "      <td>NaN</td>\n",
       "      <td>NaN</td>\n",
       "      <td>NaN</td>\n",
       "      <td>NaN</td>\n",
       "      <td>NaN</td>\n",
       "      <td>NaN</td>\n",
       "      <td>NaN</td>\n",
       "      <td>NaN</td>\n",
       "      <td>NaN</td>\n",
       "      <td>NaN</td>\n",
       "      <td>NaN</td>\n",
       "      <td>NaN</td>\n",
       "      <td>NaN</td>\n",
       "      <td>NaN</td>\n",
       "      <td>NaN</td>\n",
       "      <td>NaN</td>\n",
       "      <td>NaN</td>\n",
       "      <td>NaN</td>\n",
       "      <td>NaN</td>\n",
       "      <td>NaN</td>\n",
       "      <td>NaN</td>\n",
       "      <td>NaN</td>\n",
       "      <td>NaN</td>\n",
       "      <td>NaN</td>\n",
       "      <td>NaN</td>\n",
       "      <td>NaN</td>\n",
       "      <td>NaN</td>\n",
       "      <td>NaN</td>\n",
       "      <td>NaN</td>\n",
       "      <td>NaN</td>\n",
       "      <td>NaN</td>\n",
       "      <td>NaN</td>\n",
       "      <td>NaN</td>\n",
       "      <td>NaN</td>\n",
       "      <td>NaN</td>\n",
       "      <td>NaN</td>\n",
       "      <td>NaN</td>\n",
       "      <td>NaN</td>\n",
       "      <td>NaN</td>\n",
       "      <td>NaN</td>\n",
       "      <td>NaN</td>\n",
       "      <td>NaN</td>\n",
       "      <td>NaN</td>\n",
       "      <td>NaN</td>\n",
       "      <td>NaN</td>\n",
       "      <td>NaN</td>\n",
       "      <td>NaN</td>\n",
       "      <td>NaN</td>\n",
       "      <td>NaN</td>\n",
       "      <td>NaN</td>\n",
       "      <td>NaN</td>\n",
       "      <td>NaN</td>\n",
       "      <td>NaN</td>\n",
       "      <td>NaN</td>\n",
       "      <td>NaN</td>\n",
       "      <td>NaN</td>\n",
       "      <td>NaN</td>\n",
       "      <td>NaN</td>\n",
       "      <td>NaN</td>\n",
       "      <td>NaN</td>\n",
       "      <td>NaN</td>\n",
       "      <td>NaN</td>\n",
       "      <td>NaN</td>\n",
       "      <td>NaN</td>\n",
       "      <td>NaN</td>\n",
       "      <td>NaN</td>\n",
       "      <td>NaN</td>\n",
       "      <td>NaN</td>\n",
       "      <td>NaN</td>\n",
       "      <td>NaN</td>\n",
       "      <td>NaN</td>\n",
       "      <td>NaN</td>\n",
       "      <td>NaN</td>\n",
       "      <td>NaN</td>\n",
       "      <td>NaN</td>\n",
       "      <td>NaN</td>\n",
       "      <td>NaN</td>\n",
       "      <td>NaN</td>\n",
       "      <td>NaN</td>\n",
       "      <td>NaN</td>\n",
       "      <td>NaN</td>\n",
       "      <td>NaN</td>\n",
       "      <td>NaN</td>\n",
       "    </tr>\n",
       "    <tr>\n",
       "      <th>1</th>\n",
       "      <td>1T110153</td>\n",
       "      <td>7019</td>\n",
       "      <td>7019-722</td>\n",
       "      <td>AF36497</td>\n",
       "      <td>1603Z</td>\n",
       "      <td>HEARTBRAND 1603Z</td>\n",
       "      <td>X93942</td>\n",
       "      <td>722</td>\n",
       "      <td>722</td>\n",
       "      <td>AF5638</td>\n",
       "      <td>S5204S</td>\n",
       "      <td>HEARTBRAND S5204S</td>\n",
       "      <td>AF8267</td>\n",
       "      <td>V6825U</td>\n",
       "      <td>HEARTBRAND V6825U</td>\n",
       "      <td>NaN</td>\n",
       "      <td>NaN</td>\n",
       "      <td>NaN</td>\n",
       "      <td>NaN</td>\n",
       "      <td>NaN</td>\n",
       "      <td>NaN</td>\n",
       "      <td>AF110</td>\n",
       "      <td>HB 457</td>\n",
       "      <td>SHIGEMARU</td>\n",
       "      <td>AF138</td>\n",
       "      <td>B0905J</td>\n",
       "      <td>HEARTBRAND B0905J</td>\n",
       "      <td>AF109</td>\n",
       "      <td>HB 459</td>\n",
       "      <td>TAMAMARU</td>\n",
       "      <td>AF1872</td>\n",
       "      <td>T1610P</td>\n",
       "      <td>HEARTBRAND T1610P</td>\n",
       "      <td>NaN</td>\n",
       "      <td>NaN</td>\n",
       "      <td>NaN</td>\n",
       "      <td>NaN</td>\n",
       "      <td>NaN</td>\n",
       "      <td>NaN</td>\n",
       "      <td>NaN</td>\n",
       "      <td>NaN</td>\n",
       "      <td>NaN</td>\n",
       "      <td>NaN</td>\n",
       "      <td>NaN</td>\n",
       "      <td>NaN</td>\n",
       "      <td>AJ114</td>\n",
       "      <td>TOK 27</td>\n",
       "      <td>DAI-NI 2 SHIGENAMI TOKKYU 27</td>\n",
       "      <td>AJ120</td>\n",
       "      <td>TOK 3357</td>\n",
       "      <td>DAI-YON 4 AKIBARE TOKKYU 3357</td>\n",
       "      <td>AF114</td>\n",
       "      <td>HB502E</td>\n",
       "      <td>BIG AL</td>\n",
       "      <td>AF106</td>\n",
       "      <td>FJ357B</td>\n",
       "      <td>FUYUKO</td>\n",
       "      <td>NaN</td>\n",
       "      <td>NaN</td>\n",
       "      <td>NaN</td>\n",
       "      <td>NaN</td>\n",
       "      <td>NaN</td>\n",
       "      <td>NaN</td>\n",
       "      <td>NaN</td>\n",
       "      <td>NaN</td>\n",
       "      <td>NaN</td>\n",
       "      <td>NaN</td>\n",
       "      <td>NaN</td>\n",
       "      <td>NaN</td>\n",
       "      <td>AJ125</td>\n",
       "      <td>TOK 96</td>\n",
       "      <td>DAI-GO 5 TAMANAMI TOKKYU 96</td>\n",
       "      <td>AF101</td>\n",
       "      <td>FJ461Z</td>\n",
       "      <td>DAI-HACHI 8 MARUNAMI</td>\n",
       "      <td>AF109</td>\n",
       "      <td>HB 459</td>\n",
       "      <td>TAMAMARU</td>\n",
       "      <td>AF161</td>\n",
       "      <td>B0951J</td>\n",
       "      <td>HEARTBRAND B0951J</td>\n",
       "      <td>NaN</td>\n",
       "      <td>NaN</td>\n",
       "      <td>NaN</td>\n",
       "      <td>NaN</td>\n",
       "      <td>NaN</td>\n",
       "      <td>NaN</td>\n",
       "      <td>NaN</td>\n",
       "      <td>NaN</td>\n",
       "      <td>NaN</td>\n",
       "      <td>NaN</td>\n",
       "      <td>NaN</td>\n",
       "      <td>NaN</td>\n",
       "    </tr>\n",
       "    <tr>\n",
       "      <th>2</th>\n",
       "      <td>1T110143</td>\n",
       "      <td>7087</td>\n",
       "      <td>7087-705A</td>\n",
       "      <td>AF36497</td>\n",
       "      <td>1603Z</td>\n",
       "      <td>HEARTBRAND 1603Z</td>\n",
       "      <td>X93932</td>\n",
       "      <td>705</td>\n",
       "      <td>705</td>\n",
       "      <td>AF5638</td>\n",
       "      <td>S5204S</td>\n",
       "      <td>HEARTBRAND S5204S</td>\n",
       "      <td>AF8267</td>\n",
       "      <td>V6825U</td>\n",
       "      <td>HEARTBRAND V6825U</td>\n",
       "      <td>NaN</td>\n",
       "      <td>NaN</td>\n",
       "      <td>NaN</td>\n",
       "      <td>NaN</td>\n",
       "      <td>NaN</td>\n",
       "      <td>NaN</td>\n",
       "      <td>AF110</td>\n",
       "      <td>HB 457</td>\n",
       "      <td>SHIGEMARU</td>\n",
       "      <td>AF138</td>\n",
       "      <td>B0905J</td>\n",
       "      <td>HEARTBRAND B0905J</td>\n",
       "      <td>AF109</td>\n",
       "      <td>HB 459</td>\n",
       "      <td>TAMAMARU</td>\n",
       "      <td>AF1872</td>\n",
       "      <td>T1610P</td>\n",
       "      <td>HEARTBRAND T1610P</td>\n",
       "      <td>NaN</td>\n",
       "      <td>NaN</td>\n",
       "      <td>NaN</td>\n",
       "      <td>NaN</td>\n",
       "      <td>NaN</td>\n",
       "      <td>NaN</td>\n",
       "      <td>NaN</td>\n",
       "      <td>NaN</td>\n",
       "      <td>NaN</td>\n",
       "      <td>NaN</td>\n",
       "      <td>NaN</td>\n",
       "      <td>NaN</td>\n",
       "      <td>AJ114</td>\n",
       "      <td>TOK 27</td>\n",
       "      <td>DAI-NI 2 SHIGENAMI TOKKYU 27</td>\n",
       "      <td>AJ120</td>\n",
       "      <td>TOK 3357</td>\n",
       "      <td>DAI-YON 4 AKIBARE TOKKYU 3357</td>\n",
       "      <td>AF114</td>\n",
       "      <td>HB502E</td>\n",
       "      <td>BIG AL</td>\n",
       "      <td>AF106</td>\n",
       "      <td>FJ357B</td>\n",
       "      <td>FUYUKO</td>\n",
       "      <td>NaN</td>\n",
       "      <td>NaN</td>\n",
       "      <td>NaN</td>\n",
       "      <td>NaN</td>\n",
       "      <td>NaN</td>\n",
       "      <td>NaN</td>\n",
       "      <td>NaN</td>\n",
       "      <td>NaN</td>\n",
       "      <td>NaN</td>\n",
       "      <td>NaN</td>\n",
       "      <td>NaN</td>\n",
       "      <td>NaN</td>\n",
       "      <td>AJ125</td>\n",
       "      <td>TOK 96</td>\n",
       "      <td>DAI-GO 5 TAMANAMI TOKKYU 96</td>\n",
       "      <td>AF101</td>\n",
       "      <td>FJ461Z</td>\n",
       "      <td>DAI-HACHI 8 MARUNAMI</td>\n",
       "      <td>AF109</td>\n",
       "      <td>HB 459</td>\n",
       "      <td>TAMAMARU</td>\n",
       "      <td>AF161</td>\n",
       "      <td>B0951J</td>\n",
       "      <td>HEARTBRAND B0951J</td>\n",
       "      <td>NaN</td>\n",
       "      <td>NaN</td>\n",
       "      <td>NaN</td>\n",
       "      <td>NaN</td>\n",
       "      <td>NaN</td>\n",
       "      <td>NaN</td>\n",
       "      <td>NaN</td>\n",
       "      <td>NaN</td>\n",
       "      <td>NaN</td>\n",
       "      <td>NaN</td>\n",
       "      <td>NaN</td>\n",
       "      <td>NaN</td>\n",
       "    </tr>\n",
       "    <tr>\n",
       "      <th>3</th>\n",
       "      <td>EXX1</td>\n",
       "      <td>NaN</td>\n",
       "      <td>CROSSBREED BULL</td>\n",
       "      <td>NaN</td>\n",
       "      <td>NaN</td>\n",
       "      <td>NaN</td>\n",
       "      <td>NaN</td>\n",
       "      <td>NaN</td>\n",
       "      <td>NaN</td>\n",
       "      <td>NaN</td>\n",
       "      <td>NaN</td>\n",
       "      <td>NaN</td>\n",
       "      <td>NaN</td>\n",
       "      <td>NaN</td>\n",
       "      <td>NaN</td>\n",
       "      <td>NaN</td>\n",
       "      <td>NaN</td>\n",
       "      <td>NaN</td>\n",
       "      <td>NaN</td>\n",
       "      <td>NaN</td>\n",
       "      <td>NaN</td>\n",
       "      <td>NaN</td>\n",
       "      <td>NaN</td>\n",
       "      <td>NaN</td>\n",
       "      <td>NaN</td>\n",
       "      <td>NaN</td>\n",
       "      <td>NaN</td>\n",
       "      <td>NaN</td>\n",
       "      <td>NaN</td>\n",
       "      <td>NaN</td>\n",
       "      <td>NaN</td>\n",
       "      <td>NaN</td>\n",
       "      <td>NaN</td>\n",
       "      <td>NaN</td>\n",
       "      <td>NaN</td>\n",
       "      <td>NaN</td>\n",
       "      <td>NaN</td>\n",
       "      <td>NaN</td>\n",
       "      <td>NaN</td>\n",
       "      <td>NaN</td>\n",
       "      <td>NaN</td>\n",
       "      <td>NaN</td>\n",
       "      <td>NaN</td>\n",
       "      <td>NaN</td>\n",
       "      <td>NaN</td>\n",
       "      <td>NaN</td>\n",
       "      <td>NaN</td>\n",
       "      <td>NaN</td>\n",
       "      <td>NaN</td>\n",
       "      <td>NaN</td>\n",
       "      <td>NaN</td>\n",
       "      <td>NaN</td>\n",
       "      <td>NaN</td>\n",
       "      <td>NaN</td>\n",
       "      <td>NaN</td>\n",
       "      <td>NaN</td>\n",
       "      <td>NaN</td>\n",
       "      <td>NaN</td>\n",
       "      <td>NaN</td>\n",
       "      <td>NaN</td>\n",
       "      <td>NaN</td>\n",
       "      <td>NaN</td>\n",
       "      <td>NaN</td>\n",
       "      <td>NaN</td>\n",
       "      <td>NaN</td>\n",
       "      <td>NaN</td>\n",
       "      <td>NaN</td>\n",
       "      <td>NaN</td>\n",
       "      <td>NaN</td>\n",
       "      <td>NaN</td>\n",
       "      <td>NaN</td>\n",
       "      <td>NaN</td>\n",
       "      <td>NaN</td>\n",
       "      <td>NaN</td>\n",
       "      <td>NaN</td>\n",
       "      <td>NaN</td>\n",
       "      <td>NaN</td>\n",
       "      <td>NaN</td>\n",
       "      <td>NaN</td>\n",
       "      <td>NaN</td>\n",
       "      <td>NaN</td>\n",
       "      <td>NaN</td>\n",
       "      <td>NaN</td>\n",
       "      <td>NaN</td>\n",
       "      <td>NaN</td>\n",
       "      <td>NaN</td>\n",
       "      <td>NaN</td>\n",
       "      <td>NaN</td>\n",
       "      <td>NaN</td>\n",
       "      <td>NaN</td>\n",
       "      <td>NaN</td>\n",
       "      <td>NaN</td>\n",
       "      <td>NaN</td>\n",
       "    </tr>\n",
       "    <tr>\n",
       "      <th>4</th>\n",
       "      <td>X93914</td>\n",
       "      <td>448</td>\n",
       "      <td>448</td>\n",
       "      <td>NaN</td>\n",
       "      <td>NaN</td>\n",
       "      <td>NaN</td>\n",
       "      <td>NaN</td>\n",
       "      <td>NaN</td>\n",
       "      <td>NaN</td>\n",
       "      <td>NaN</td>\n",
       "      <td>NaN</td>\n",
       "      <td>NaN</td>\n",
       "      <td>NaN</td>\n",
       "      <td>NaN</td>\n",
       "      <td>NaN</td>\n",
       "      <td>NaN</td>\n",
       "      <td>NaN</td>\n",
       "      <td>NaN</td>\n",
       "      <td>NaN</td>\n",
       "      <td>NaN</td>\n",
       "      <td>NaN</td>\n",
       "      <td>NaN</td>\n",
       "      <td>NaN</td>\n",
       "      <td>NaN</td>\n",
       "      <td>NaN</td>\n",
       "      <td>NaN</td>\n",
       "      <td>NaN</td>\n",
       "      <td>NaN</td>\n",
       "      <td>NaN</td>\n",
       "      <td>NaN</td>\n",
       "      <td>NaN</td>\n",
       "      <td>NaN</td>\n",
       "      <td>NaN</td>\n",
       "      <td>NaN</td>\n",
       "      <td>NaN</td>\n",
       "      <td>NaN</td>\n",
       "      <td>NaN</td>\n",
       "      <td>NaN</td>\n",
       "      <td>NaN</td>\n",
       "      <td>NaN</td>\n",
       "      <td>NaN</td>\n",
       "      <td>NaN</td>\n",
       "      <td>NaN</td>\n",
       "      <td>NaN</td>\n",
       "      <td>NaN</td>\n",
       "      <td>NaN</td>\n",
       "      <td>NaN</td>\n",
       "      <td>NaN</td>\n",
       "      <td>NaN</td>\n",
       "      <td>NaN</td>\n",
       "      <td>NaN</td>\n",
       "      <td>NaN</td>\n",
       "      <td>NaN</td>\n",
       "      <td>NaN</td>\n",
       "      <td>NaN</td>\n",
       "      <td>NaN</td>\n",
       "      <td>NaN</td>\n",
       "      <td>NaN</td>\n",
       "      <td>NaN</td>\n",
       "      <td>NaN</td>\n",
       "      <td>NaN</td>\n",
       "      <td>NaN</td>\n",
       "      <td>NaN</td>\n",
       "      <td>NaN</td>\n",
       "      <td>NaN</td>\n",
       "      <td>NaN</td>\n",
       "      <td>NaN</td>\n",
       "      <td>NaN</td>\n",
       "      <td>NaN</td>\n",
       "      <td>NaN</td>\n",
       "      <td>NaN</td>\n",
       "      <td>NaN</td>\n",
       "      <td>NaN</td>\n",
       "      <td>NaN</td>\n",
       "      <td>NaN</td>\n",
       "      <td>NaN</td>\n",
       "      <td>NaN</td>\n",
       "      <td>NaN</td>\n",
       "      <td>NaN</td>\n",
       "      <td>NaN</td>\n",
       "      <td>NaN</td>\n",
       "      <td>NaN</td>\n",
       "      <td>NaN</td>\n",
       "      <td>NaN</td>\n",
       "      <td>NaN</td>\n",
       "      <td>NaN</td>\n",
       "      <td>NaN</td>\n",
       "      <td>NaN</td>\n",
       "      <td>NaN</td>\n",
       "      <td>NaN</td>\n",
       "      <td>NaN</td>\n",
       "      <td>NaN</td>\n",
       "      <td>NaN</td>\n",
       "    </tr>\n",
       "  </tbody>\n",
       "</table>\n",
       "</div>"
      ],
      "text/plain": [
       "  Registration Number   phn      animal_name     sire sire_phn  \\\n",
       "0              X93971   932              932      NaN      NaN   \n",
       "1            1T110153  7019         7019-722  AF36497    1603Z   \n",
       "2            1T110143  7087        7087-705A  AF36497    1603Z   \n",
       "3                EXX1   NaN  CROSSBREED BULL      NaN      NaN   \n",
       "4              X93914   448              448      NaN      NaN   \n",
       "\n",
       "          sire_name     dam dam_phn dam_name sire_sire sire_sire_phn  \\\n",
       "0               NaN     NaN     NaN      NaN       NaN           NaN   \n",
       "1  HEARTBRAND 1603Z  X93942     722      722    AF5638        S5204S   \n",
       "2  HEARTBRAND 1603Z  X93932     705      705    AF5638        S5204S   \n",
       "3               NaN     NaN     NaN      NaN       NaN           NaN   \n",
       "4               NaN     NaN     NaN      NaN       NaN           NaN   \n",
       "\n",
       "      sire_sire_name sire_dam sire_dam_phn      sire_dam_name dam_sire  \\\n",
       "0                NaN      NaN          NaN                NaN      NaN   \n",
       "1  HEARTBRAND S5204S   AF8267       V6825U  HEARTBRAND V6825U      NaN   \n",
       "2  HEARTBRAND S5204S   AF8267       V6825U  HEARTBRAND V6825U      NaN   \n",
       "3                NaN      NaN          NaN                NaN      NaN   \n",
       "4                NaN      NaN          NaN                NaN      NaN   \n",
       "\n",
       "  dam_sire_phn dam_sire_name dam_dam dam_dam_phn dam_dam_name sire_sire_sire  \\\n",
       "0          NaN           NaN     NaN         NaN          NaN            NaN   \n",
       "1          NaN           NaN     NaN         NaN          NaN          AF110   \n",
       "2          NaN           NaN     NaN         NaN          NaN          AF110   \n",
       "3          NaN           NaN     NaN         NaN          NaN            NaN   \n",
       "4          NaN           NaN     NaN         NaN          NaN            NaN   \n",
       "\n",
       "  sire_sire_sire_phn sire_sire_sire_name sire_sire_dam sire_sire_dam_phn  \\\n",
       "0                NaN                 NaN           NaN               NaN   \n",
       "1             HB 457           SHIGEMARU         AF138            B0905J   \n",
       "2             HB 457           SHIGEMARU         AF138            B0905J   \n",
       "3                NaN                 NaN           NaN               NaN   \n",
       "4                NaN                 NaN           NaN               NaN   \n",
       "\n",
       "  sire_sire_dam_name sire_dam_sire sire_dam_sire_phn sire_dam_sire_name  \\\n",
       "0                NaN           NaN               NaN                NaN   \n",
       "1  HEARTBRAND B0905J         AF109            HB 459           TAMAMARU   \n",
       "2  HEARTBRAND B0905J         AF109            HB 459           TAMAMARU   \n",
       "3                NaN           NaN               NaN                NaN   \n",
       "4                NaN           NaN               NaN                NaN   \n",
       "\n",
       "  sire_dam_dam sire_dam_dam_phn  sire_dam_dam_name dam_sire_sire  \\\n",
       "0          NaN              NaN                NaN           NaN   \n",
       "1       AF1872           T1610P  HEARTBRAND T1610P           NaN   \n",
       "2       AF1872           T1610P  HEARTBRAND T1610P           NaN   \n",
       "3          NaN              NaN                NaN           NaN   \n",
       "4          NaN              NaN                NaN           NaN   \n",
       "\n",
       "  dam_sire_sire_phn dam_sire_sire_name dam_sire_dam dam_sire_dam_phn  \\\n",
       "0               NaN                NaN          NaN              NaN   \n",
       "1               NaN                NaN          NaN              NaN   \n",
       "2               NaN                NaN          NaN              NaN   \n",
       "3               NaN                NaN          NaN              NaN   \n",
       "4               NaN                NaN          NaN              NaN   \n",
       "\n",
       "  dam_sire_dam_name dam_dam_sire dam_dam_sire_phn dam_dam_sire_name  \\\n",
       "0               NaN          NaN              NaN               NaN   \n",
       "1               NaN          NaN              NaN               NaN   \n",
       "2               NaN          NaN              NaN               NaN   \n",
       "3               NaN          NaN              NaN               NaN   \n",
       "4               NaN          NaN              NaN               NaN   \n",
       "\n",
       "  dam_dam_dam dam_dam_dam_phn dam_dam_dam_name sire_sire_sire_sire  \\\n",
       "0         NaN             NaN              NaN                 NaN   \n",
       "1         NaN             NaN              NaN               AJ114   \n",
       "2         NaN             NaN              NaN               AJ114   \n",
       "3         NaN             NaN              NaN                 NaN   \n",
       "4         NaN             NaN              NaN                 NaN   \n",
       "\n",
       "  sire_sire_sire_sire_phn      sire_sire_sire_sire_name sire_sire_sire_dam  \\\n",
       "0                     NaN                           NaN                NaN   \n",
       "1                  TOK 27  DAI-NI 2 SHIGENAMI TOKKYU 27              AJ120   \n",
       "2                  TOK 27  DAI-NI 2 SHIGENAMI TOKKYU 27              AJ120   \n",
       "3                     NaN                           NaN                NaN   \n",
       "4                     NaN                           NaN                NaN   \n",
       "\n",
       "  sire_sire_sire_dam_phn        sire_sire_sire_dam_name sire_sire_dam_sire  \\\n",
       "0                    NaN                            NaN                NaN   \n",
       "1               TOK 3357  DAI-YON 4 AKIBARE TOKKYU 3357              AF114   \n",
       "2               TOK 3357  DAI-YON 4 AKIBARE TOKKYU 3357              AF114   \n",
       "3                    NaN                            NaN                NaN   \n",
       "4                    NaN                            NaN                NaN   \n",
       "\n",
       "  sire_sire_dam_sire_phn sire_sire_dam_sire_name sire_sire_dam_dam  \\\n",
       "0                    NaN                     NaN               NaN   \n",
       "1                 HB502E                  BIG AL             AF106   \n",
       "2                 HB502E                  BIG AL             AF106   \n",
       "3                    NaN                     NaN               NaN   \n",
       "4                    NaN                     NaN               NaN   \n",
       "\n",
       "  sire_sire_dam_dam_phn sire_sire_dam_dam_name dam_sire_sire_sire  \\\n",
       "0                   NaN                    NaN                NaN   \n",
       "1                FJ357B                 FUYUKO                NaN   \n",
       "2                FJ357B                 FUYUKO                NaN   \n",
       "3                   NaN                    NaN                NaN   \n",
       "4                   NaN                    NaN                NaN   \n",
       "\n",
       "  dam_sire_sire_sire_phn dam_sire_sire_sire_name dam_sire_sire_dam  \\\n",
       "0                    NaN                     NaN               NaN   \n",
       "1                    NaN                     NaN               NaN   \n",
       "2                    NaN                     NaN               NaN   \n",
       "3                    NaN                     NaN               NaN   \n",
       "4                    NaN                     NaN               NaN   \n",
       "\n",
       "  dam_sire_sire_dam_phn dam_sire_sire_dam_name dam_sire_dam_sire  \\\n",
       "0                   NaN                    NaN               NaN   \n",
       "1                   NaN                    NaN               NaN   \n",
       "2                   NaN                    NaN               NaN   \n",
       "3                   NaN                    NaN               NaN   \n",
       "4                   NaN                    NaN               NaN   \n",
       "\n",
       "  dam_sire_dam_sire_phn dam_sire_dam_sire_name dam_sire_dam_dam  \\\n",
       "0                   NaN                    NaN              NaN   \n",
       "1                   NaN                    NaN              NaN   \n",
       "2                   NaN                    NaN              NaN   \n",
       "3                   NaN                    NaN              NaN   \n",
       "4                   NaN                    NaN              NaN   \n",
       "\n",
       "  dam_sire_dam_dam_phn dam_sire_dam_dam_name sire_dam_sire_sire  \\\n",
       "0                  NaN                   NaN                NaN   \n",
       "1                  NaN                   NaN              AJ125   \n",
       "2                  NaN                   NaN              AJ125   \n",
       "3                  NaN                   NaN                NaN   \n",
       "4                  NaN                   NaN                NaN   \n",
       "\n",
       "  sire_dam_sire_sire_phn      sire_dam_sire_sire_name sire_dam_sire_dam  \\\n",
       "0                    NaN                          NaN               NaN   \n",
       "1                 TOK 96  DAI-GO 5 TAMANAMI TOKKYU 96             AF101   \n",
       "2                 TOK 96  DAI-GO 5 TAMANAMI TOKKYU 96             AF101   \n",
       "3                    NaN                          NaN               NaN   \n",
       "4                    NaN                          NaN               NaN   \n",
       "\n",
       "  sire_dam_sire_dam_phn sire_dam_sire_dam_name sire_dam_dam_sire  \\\n",
       "0                   NaN                    NaN               NaN   \n",
       "1                FJ461Z   DAI-HACHI 8 MARUNAMI             AF109   \n",
       "2                FJ461Z   DAI-HACHI 8 MARUNAMI             AF109   \n",
       "3                   NaN                    NaN               NaN   \n",
       "4                   NaN                    NaN               NaN   \n",
       "\n",
       "  sire_dam_dam_sire_phn sire_dam_dam_sire_name sire_dam_dam_dam  \\\n",
       "0                   NaN                    NaN              NaN   \n",
       "1                HB 459               TAMAMARU            AF161   \n",
       "2                HB 459               TAMAMARU            AF161   \n",
       "3                   NaN                    NaN              NaN   \n",
       "4                   NaN                    NaN              NaN   \n",
       "\n",
       "  sire_dam_dam_dam_phn sire_dam_dam_dam_name dam_dam_sire_sire  \\\n",
       "0                  NaN                   NaN               NaN   \n",
       "1               B0951J     HEARTBRAND B0951J               NaN   \n",
       "2               B0951J     HEARTBRAND B0951J               NaN   \n",
       "3                  NaN                   NaN               NaN   \n",
       "4                  NaN                   NaN               NaN   \n",
       "\n",
       "  dam_dam_sire_sire_phn dam_dam_sire_sire_name dam_dam_sire_dam  \\\n",
       "0                   NaN                    NaN              NaN   \n",
       "1                   NaN                    NaN              NaN   \n",
       "2                   NaN                    NaN              NaN   \n",
       "3                   NaN                    NaN              NaN   \n",
       "4                   NaN                    NaN              NaN   \n",
       "\n",
       "  dam_dam_sire_dam_phn dam_dam_sire_dam_name dam_dam_dam_sire  \\\n",
       "0                  NaN                   NaN              NaN   \n",
       "1                  NaN                   NaN              NaN   \n",
       "2                  NaN                   NaN              NaN   \n",
       "3                  NaN                   NaN              NaN   \n",
       "4                  NaN                   NaN              NaN   \n",
       "\n",
       "  dam_dam_dam_sire_phn dam_dam_dam_sire_name dam_dam_dam_dam  \\\n",
       "0                  NaN                   NaN             NaN   \n",
       "1                  NaN                   NaN             NaN   \n",
       "2                  NaN                   NaN             NaN   \n",
       "3                  NaN                   NaN             NaN   \n",
       "4                  NaN                   NaN             NaN   \n",
       "\n",
       "  dam_dam_dam_dam_phn dam_dam_dam_dam_name  \n",
       "0                 NaN                  NaN  \n",
       "1                 NaN                  NaN  \n",
       "2                 NaN                  NaN  \n",
       "3                 NaN                  NaN  \n",
       "4                 NaN                  NaN  "
      ]
     },
     "execution_count": 9,
     "metadata": {},
     "output_type": "execute_result"
    }
   ],
   "source": [
    "#Load and Clean 5 Gen Pedigree Data\n",
    "pedigreeDf = pd.read_csv(\"../datafiles/Artesian_5Gen_Pedigree_ALL.csv\",index_col=False)\n",
    "pedigreeDf = pedigreeDf.rename(columns={'animal_registration': 'Registration Number'})\n",
    "pedigreeDf.head()"
   ]
  },
  {
   "cell_type": "code",
   "execution_count": null,
   "metadata": {},
   "outputs": [
    {
     "name": "stdout",
     "output_type": "stream",
     "text": [
      "Length of CattleMaxDf is 3314\n",
      "Length of pedigreeDf is 3314\n",
      "Number of instances in cattleMaxDf without a match in pedigreeDf: 0\n"
     ]
    }
   ],
   "source": [
    "#Merge CattleMax and Pedigree Dfs first given they are the most comprehensive: \n",
    "merged_df = cattleMaxDf.merge(pedigreeDf, on=\"Registration Number\", how=\"left\", indicator=True)\n",
    "print(f\"Length of CattleMaxDf is {len(cattleMaxDf)}\")\n",
    "print(f\"Length of pedigreeDf is {len(pedigreeDf)}\")\n",
    "no_match_count = merged_df[merged_df['_merge'] == 'left_only'].shape[0]\n",
    "print(f\"Number of instances in cattleMaxDf without a match in pedigreeDf: {no_match_count}\")"
   ]
  },
  {
   "cell_type": "code",
   "execution_count": null,
   "metadata": {},
   "outputs": [
    {
     "ename": "NameError",
     "evalue": "name 'artesianCaracassDf' is not defined",
     "output_type": "error",
     "traceback": [
      "\u001b[1;31m---------------------------------------------------------------------------\u001b[0m",
      "\u001b[1;31mNameError\u001b[0m                                 Traceback (most recent call last)",
      "Cell \u001b[1;32mIn[11], line 1\u001b[0m\n\u001b[1;32m----> 1\u001b[0m display (\u001b[43martesianCaracassDf\u001b[49m[pd\u001b[38;5;241m.\u001b[39mnotna(artesianCaracassDf[\u001b[38;5;124m\"\u001b[39m\u001b[38;5;124mRegistration Number\u001b[39m\u001b[38;5;124m\"\u001b[39m])])\n\u001b[0;32m      2\u001b[0m \u001b[38;5;66;03m# display(artesianCaracassDf.head(23))\u001b[39;00m\n\u001b[0;32m      3\u001b[0m display (merged_df[merged_df[\u001b[38;5;124m\"\u001b[39m\u001b[38;5;124mTattoo\u001b[39m\u001b[38;5;124m\"\u001b[39m] \u001b[38;5;241m==\u001b[39m \u001b[38;5;124m\"\u001b[39m\u001b[38;5;124m0036\u001b[39m\u001b[38;5;124m\"\u001b[39m])\n",
      "\u001b[1;31mNameError\u001b[0m: name 'artesianCaracassDf' is not defined"
     ]
    }
   ],
   "source": [
    "display (artesianCaracassDf[pd.notna(artesianCaracassDf[\"Registration Number\"])])\n",
    "# display(artesianCaracassDf.head(23))\n",
    "display (merged_df[merged_df[\"Tattoo\"] == \"0036\"])"
   ]
  },
  {
   "cell_type": "code",
   "execution_count": null,
   "metadata": {},
   "outputs": [
    {
     "ename": "NameError",
     "evalue": "name 'artesianCaracassDf' is not defined",
     "output_type": "error",
     "traceback": [
      "\u001b[1;31m---------------------------------------------------------------------------\u001b[0m",
      "\u001b[1;31mNameError\u001b[0m                                 Traceback (most recent call last)",
      "Cell \u001b[1;32mIn[12], line 1\u001b[0m\n\u001b[1;32m----> 1\u001b[0m \u001b[43martesianCaracassDf\u001b[49m[\u001b[38;5;124m\"\u001b[39m\u001b[38;5;124mTattoo\u001b[39m\u001b[38;5;124m\"\u001b[39m]\u001b[38;5;241m.\u001b[39mvalues\n",
      "\u001b[1;31mNameError\u001b[0m: name 'artesianCaracassDf' is not defined"
     ]
    }
   ],
   "source": [
    "artesianCaracassDf[\"Tattoo\"].values"
   ]
  },
  {
   "cell_type": "code",
   "execution_count": null,
   "metadata": {},
   "outputs": [
    {
     "name": "stdout",
     "output_type": "stream",
     "text": [
      "Total rows in merged_df: 3314\n",
      "Total rows in carcassDf: 738\n",
      "\n",
      "Merge Results:\n",
      "Rows with matching Tattoo: 314\n",
      "Rows only in merged_df: 3000\n",
      "\n",
      "Match rate: 9.47%\n",
      "\n",
      "Null counts in key carcass columns:\n",
      "Carcass_Number    3000\n",
      "Carcass_Weight    3000\n",
      "Quality           3000\n",
      "Yield             3000\n",
      "dtype: int64\n",
      "\n",
      "Number of animals without carcass data: 3000\n"
     ]
    }
   ],
   "source": [
    "\n",
    "print(f\"Total rows in merged_df: {merged_df.shape[0]}\")\n",
    "print(f\"Total rows in carcassDf: {fullCarcassDf.shape[0]}\")\n",
    "\n",
    "# Perform the merge\n",
    "superDf = merged_df.merge(\n",
    "    fullCarcassDf,\n",
    "    on='Tattoo',\n",
    "    how='left',\n",
    "    indicator='carcass_merge'\n",
    ")\n",
    "\n",
    "# Analyze the merge results\n",
    "merge_stats = superDf['carcass_merge'].value_counts()\n",
    "print(\"\\nMerge Results:\")\n",
    "print(f\"Rows with matching Tattoo: {merge_stats.get('both', 0)}\")\n",
    "print(f\"Rows only in merged_df: {merge_stats.get('left_only', 0)}\")\n",
    "\n",
    "# Calculate match rate\n",
    "match_rate = (merge_stats.get('both', 0) / merged_df.shape[0]) * 100\n",
    "print(f\"\\nMatch rate: {match_rate:.2f}%\")\n",
    "\n",
    "# Check for any null values in key carcass columns\n",
    "null_counts = superDf[['Carcass_Number', 'Carcass_Weight', 'Quality', 'Yield']].isnull().sum()\n",
    "print(\"\\nNull counts in key carcass columns:\")\n",
    "print(null_counts)\n",
    "\n",
    "# Clean up the indicator column if you don't need it\n",
    "# Uncomment the next line if you want to remove the indicator column\n",
    "# superDf = superDf.drop('carcass_merge', axis=1)\n",
    "\n",
    "# Optional: Create a summary of unmatched records\n",
    "unmatched = superDf[superDf['carcass_merge'] == 'left_only']\n",
    "print(f\"\\nNumber of animals without carcass data: {len(unmatched)}\")"
   ]
  },
  {
   "cell_type": "code",
   "execution_count": null,
   "metadata": {},
   "outputs": [
    {
     "name": "stdout",
     "output_type": "stream",
     "text": [
      "Number of matches where Quality is not None: 314\n"
     ]
    }
   ],
   "source": [
    "#Now have df with all carcass data , need to create artesianDf with carcass data\n",
    "match_count = superDf[\"Quality\"].notna().sum()\n",
    "print(\"Number of matches where Quality is not None:\", match_count)\n",
    "filtered_superDf = superDf[superDf[\"Quality\"].notna()]\n",
    "filtered_superDf.to_csv(\"../datafiles/filtered_superDf.csv\")"
   ]
  },
  {
   "cell_type": "code",
   "execution_count": null,
   "metadata": {},
   "outputs": [
    {
     "data": {
      "application/vnd.plotly.v1+json": {
       "config": {
        "plotlyServerURL": "https://plot.ly"
       },
       "data": [
        {
         "alignmentgroup": "True",
         "bingroup": "x",
         "hovertemplate": "Sex=Heifer<br>Quality=%{x}<br>count=%{y}<extra></extra>",
         "legendgroup": "Heifer",
         "marker": {
          "color": "#636efa",
          "pattern": {
           "shape": ""
          }
         },
         "name": "Heifer",
         "offsetgroup": "Heifer",
         "orientation": "v",
         "showlegend": true,
         "type": "histogram",
         "x": [
          "CH",
          "CH",
          "P",
          "CH",
          "CH",
          "CH",
          "P",
          "CH",
          "P",
          "CH",
          "CH",
          "CH",
          "P",
          "CH",
          "CH",
          "CH",
          "CH",
          "CH",
          "P",
          "P",
          "P",
          "CH",
          "CH",
          "CH",
          "P",
          "P",
          "CH",
          "P",
          "CH",
          "P",
          "P",
          "P",
          "CH",
          "CH",
          "P",
          "CH",
          "P",
          "P",
          "CH",
          "CH",
          "CH",
          "P",
          "CH",
          "CH",
          "P",
          "CH",
          "P",
          "CH",
          "CH",
          "CH",
          "CH",
          "CH",
          "CH",
          "CH",
          "CH",
          "SE",
          "P"
         ],
         "xaxis": "x",
         "yaxis": "y"
        },
        {
         "alignmentgroup": "True",
         "bingroup": "x",
         "hovertemplate": "Sex=Steer<br>Quality=%{x}<br>count=%{y}<extra></extra>",
         "legendgroup": "Steer",
         "marker": {
          "color": "#EF553B",
          "pattern": {
           "shape": ""
          }
         },
         "name": "Steer",
         "offsetgroup": "Steer",
         "orientation": "v",
         "showlegend": true,
         "type": "histogram",
         "x": [
          "CH",
          "CH",
          "P",
          "P",
          "P",
          "P",
          "P",
          "P",
          "P",
          "CH",
          "P",
          "P",
          "P",
          "P",
          "CH",
          "CH",
          "No Roll",
          "CH",
          "CH",
          "P",
          "P",
          "P",
          "P",
          "CH",
          "CH",
          "P",
          "CH",
          "P",
          "P",
          "CH",
          "CH",
          "CH",
          "P",
          "CH",
          "CH",
          "P",
          "P",
          "CH",
          "P",
          "CH",
          "P",
          "CH",
          "P",
          "P",
          "P",
          "CH",
          "CH",
          "CH",
          "P",
          "CH",
          "P",
          "P",
          "P",
          "P",
          "P",
          "P",
          "CH",
          "CH",
          "P",
          "CH",
          "P",
          "CH",
          "P",
          "P",
          "CH",
          "CH",
          "P",
          "P",
          "P"
         ],
         "xaxis": "x",
         "yaxis": "y"
        },
        {
         "alignmentgroup": "True",
         "bingroup": "x",
         "hovertemplate": "Sex=STEER<br>Quality=%{x}<br>count=%{y}<extra></extra>",
         "legendgroup": "STEER",
         "marker": {
          "color": "#00cc96",
          "pattern": {
           "shape": ""
          }
         },
         "name": "STEER",
         "offsetgroup": "STEER",
         "orientation": "v",
         "showlegend": true,
         "type": "histogram",
         "x": [
          "P",
          "CH",
          "P",
          "P",
          "P",
          "P",
          "P",
          "CH",
          "CH",
          "CH",
          "P",
          "P",
          "P",
          "P",
          "P",
          "P",
          "P",
          "SE",
          "CH",
          "CH",
          "CH",
          "P",
          "P",
          "CH",
          "P",
          "P",
          "CH",
          "CH",
          "CH",
          "P",
          "P",
          "P",
          "P",
          "P",
          "P",
          "P",
          "P",
          "SE",
          "P",
          "CH",
          "P",
          "CH",
          "CH",
          "P",
          "CH",
          "CH",
          "CH",
          "CH",
          "P",
          "P",
          "P",
          "P",
          "P",
          "CH",
          "P",
          "CH",
          "P",
          "P",
          "CH",
          "CH",
          "CH",
          "P",
          "P",
          "P",
          "CH",
          "CHG",
          "CHG",
          "P",
          "P",
          "P",
          "CHG",
          "CH",
          "P",
          "P",
          "CHG",
          "P",
          "P",
          "CH",
          "CHG",
          "P",
          "CHG",
          "CH",
          "CH",
          "P",
          "CH",
          "P",
          "CH",
          "P",
          "P",
          "P",
          "CH",
          "CH",
          "CH",
          "CH",
          "CH",
          "P",
          "CH",
          "P",
          "P",
          "CH",
          "P",
          "P",
          "CHG",
          "CH",
          "CH",
          "P",
          "P",
          "P",
          "CH",
          "CH",
          "P",
          "P",
          "CH",
          "CH",
          "CH",
          "CHG",
          "CH",
          "CHG",
          "P",
          "P",
          "P",
          "P",
          "CH",
          "CH",
          "P",
          "CH",
          "P",
          "P",
          "CH",
          "P",
          "P",
          "P",
          "P",
          "P",
          "CHG",
          "CH",
          "CH",
          "CH",
          "CH",
          "CH",
          "CH",
          "CH",
          "CH",
          "P",
          "CH",
          "CH",
          "P",
          "CH",
          "CH",
          "CHG",
          "CH",
          "CH",
          "P",
          "CH",
          "CH",
          "P",
          "CH",
          "CH",
          "CHG",
          "CH",
          "CH",
          "CH",
          "CH",
          "CH",
          "CHG",
          "CH",
          "CH",
          "P",
          "P",
          "CH",
          "P",
          "P",
          "P",
          "CH",
          "CH"
         ],
         "xaxis": "x",
         "yaxis": "y"
        },
        {
         "alignmentgroup": "True",
         "bingroup": "x",
         "hovertemplate": "Sex=HEIFER<br>Quality=%{x}<br>count=%{y}<extra></extra>",
         "legendgroup": "HEIFER",
         "marker": {
          "color": "#ab63fa",
          "pattern": {
           "shape": ""
          }
         },
         "name": "HEIFER",
         "offsetgroup": "HEIFER",
         "orientation": "v",
         "showlegend": true,
         "type": "histogram",
         "x": [
          "CHG",
          "CH",
          "P",
          "SE",
          "P",
          "CH",
          "CH",
          "P",
          "SE",
          "P",
          "SE",
          "CH",
          "CHG"
         ],
         "xaxis": "x",
         "yaxis": "y"
        }
       ],
       "layout": {
        "barmode": "group",
        "legend": {
         "title": {
          "text": "Sex"
         },
         "tracegroupgap": 0
        },
        "template": {
         "data": {
          "bar": [
           {
            "error_x": {
             "color": "#2a3f5f"
            },
            "error_y": {
             "color": "#2a3f5f"
            },
            "marker": {
             "line": {
              "color": "#E5ECF6",
              "width": 0.5
             },
             "pattern": {
              "fillmode": "overlay",
              "size": 10,
              "solidity": 0.2
             }
            },
            "type": "bar"
           }
          ],
          "barpolar": [
           {
            "marker": {
             "line": {
              "color": "#E5ECF6",
              "width": 0.5
             },
             "pattern": {
              "fillmode": "overlay",
              "size": 10,
              "solidity": 0.2
             }
            },
            "type": "barpolar"
           }
          ],
          "carpet": [
           {
            "aaxis": {
             "endlinecolor": "#2a3f5f",
             "gridcolor": "white",
             "linecolor": "white",
             "minorgridcolor": "white",
             "startlinecolor": "#2a3f5f"
            },
            "baxis": {
             "endlinecolor": "#2a3f5f",
             "gridcolor": "white",
             "linecolor": "white",
             "minorgridcolor": "white",
             "startlinecolor": "#2a3f5f"
            },
            "type": "carpet"
           }
          ],
          "choropleth": [
           {
            "colorbar": {
             "outlinewidth": 0,
             "ticks": ""
            },
            "type": "choropleth"
           }
          ],
          "contour": [
           {
            "colorbar": {
             "outlinewidth": 0,
             "ticks": ""
            },
            "colorscale": [
             [
              0,
              "#0d0887"
             ],
             [
              0.1111111111111111,
              "#46039f"
             ],
             [
              0.2222222222222222,
              "#7201a8"
             ],
             [
              0.3333333333333333,
              "#9c179e"
             ],
             [
              0.4444444444444444,
              "#bd3786"
             ],
             [
              0.5555555555555556,
              "#d8576b"
             ],
             [
              0.6666666666666666,
              "#ed7953"
             ],
             [
              0.7777777777777778,
              "#fb9f3a"
             ],
             [
              0.8888888888888888,
              "#fdca26"
             ],
             [
              1,
              "#f0f921"
             ]
            ],
            "type": "contour"
           }
          ],
          "contourcarpet": [
           {
            "colorbar": {
             "outlinewidth": 0,
             "ticks": ""
            },
            "type": "contourcarpet"
           }
          ],
          "heatmap": [
           {
            "colorbar": {
             "outlinewidth": 0,
             "ticks": ""
            },
            "colorscale": [
             [
              0,
              "#0d0887"
             ],
             [
              0.1111111111111111,
              "#46039f"
             ],
             [
              0.2222222222222222,
              "#7201a8"
             ],
             [
              0.3333333333333333,
              "#9c179e"
             ],
             [
              0.4444444444444444,
              "#bd3786"
             ],
             [
              0.5555555555555556,
              "#d8576b"
             ],
             [
              0.6666666666666666,
              "#ed7953"
             ],
             [
              0.7777777777777778,
              "#fb9f3a"
             ],
             [
              0.8888888888888888,
              "#fdca26"
             ],
             [
              1,
              "#f0f921"
             ]
            ],
            "type": "heatmap"
           }
          ],
          "heatmapgl": [
           {
            "colorbar": {
             "outlinewidth": 0,
             "ticks": ""
            },
            "colorscale": [
             [
              0,
              "#0d0887"
             ],
             [
              0.1111111111111111,
              "#46039f"
             ],
             [
              0.2222222222222222,
              "#7201a8"
             ],
             [
              0.3333333333333333,
              "#9c179e"
             ],
             [
              0.4444444444444444,
              "#bd3786"
             ],
             [
              0.5555555555555556,
              "#d8576b"
             ],
             [
              0.6666666666666666,
              "#ed7953"
             ],
             [
              0.7777777777777778,
              "#fb9f3a"
             ],
             [
              0.8888888888888888,
              "#fdca26"
             ],
             [
              1,
              "#f0f921"
             ]
            ],
            "type": "heatmapgl"
           }
          ],
          "histogram": [
           {
            "marker": {
             "pattern": {
              "fillmode": "overlay",
              "size": 10,
              "solidity": 0.2
             }
            },
            "type": "histogram"
           }
          ],
          "histogram2d": [
           {
            "colorbar": {
             "outlinewidth": 0,
             "ticks": ""
            },
            "colorscale": [
             [
              0,
              "#0d0887"
             ],
             [
              0.1111111111111111,
              "#46039f"
             ],
             [
              0.2222222222222222,
              "#7201a8"
             ],
             [
              0.3333333333333333,
              "#9c179e"
             ],
             [
              0.4444444444444444,
              "#bd3786"
             ],
             [
              0.5555555555555556,
              "#d8576b"
             ],
             [
              0.6666666666666666,
              "#ed7953"
             ],
             [
              0.7777777777777778,
              "#fb9f3a"
             ],
             [
              0.8888888888888888,
              "#fdca26"
             ],
             [
              1,
              "#f0f921"
             ]
            ],
            "type": "histogram2d"
           }
          ],
          "histogram2dcontour": [
           {
            "colorbar": {
             "outlinewidth": 0,
             "ticks": ""
            },
            "colorscale": [
             [
              0,
              "#0d0887"
             ],
             [
              0.1111111111111111,
              "#46039f"
             ],
             [
              0.2222222222222222,
              "#7201a8"
             ],
             [
              0.3333333333333333,
              "#9c179e"
             ],
             [
              0.4444444444444444,
              "#bd3786"
             ],
             [
              0.5555555555555556,
              "#d8576b"
             ],
             [
              0.6666666666666666,
              "#ed7953"
             ],
             [
              0.7777777777777778,
              "#fb9f3a"
             ],
             [
              0.8888888888888888,
              "#fdca26"
             ],
             [
              1,
              "#f0f921"
             ]
            ],
            "type": "histogram2dcontour"
           }
          ],
          "mesh3d": [
           {
            "colorbar": {
             "outlinewidth": 0,
             "ticks": ""
            },
            "type": "mesh3d"
           }
          ],
          "parcoords": [
           {
            "line": {
             "colorbar": {
              "outlinewidth": 0,
              "ticks": ""
             }
            },
            "type": "parcoords"
           }
          ],
          "pie": [
           {
            "automargin": true,
            "type": "pie"
           }
          ],
          "scatter": [
           {
            "fillpattern": {
             "fillmode": "overlay",
             "size": 10,
             "solidity": 0.2
            },
            "type": "scatter"
           }
          ],
          "scatter3d": [
           {
            "line": {
             "colorbar": {
              "outlinewidth": 0,
              "ticks": ""
             }
            },
            "marker": {
             "colorbar": {
              "outlinewidth": 0,
              "ticks": ""
             }
            },
            "type": "scatter3d"
           }
          ],
          "scattercarpet": [
           {
            "marker": {
             "colorbar": {
              "outlinewidth": 0,
              "ticks": ""
             }
            },
            "type": "scattercarpet"
           }
          ],
          "scattergeo": [
           {
            "marker": {
             "colorbar": {
              "outlinewidth": 0,
              "ticks": ""
             }
            },
            "type": "scattergeo"
           }
          ],
          "scattergl": [
           {
            "marker": {
             "colorbar": {
              "outlinewidth": 0,
              "ticks": ""
             }
            },
            "type": "scattergl"
           }
          ],
          "scattermapbox": [
           {
            "marker": {
             "colorbar": {
              "outlinewidth": 0,
              "ticks": ""
             }
            },
            "type": "scattermapbox"
           }
          ],
          "scatterpolar": [
           {
            "marker": {
             "colorbar": {
              "outlinewidth": 0,
              "ticks": ""
             }
            },
            "type": "scatterpolar"
           }
          ],
          "scatterpolargl": [
           {
            "marker": {
             "colorbar": {
              "outlinewidth": 0,
              "ticks": ""
             }
            },
            "type": "scatterpolargl"
           }
          ],
          "scatterternary": [
           {
            "marker": {
             "colorbar": {
              "outlinewidth": 0,
              "ticks": ""
             }
            },
            "type": "scatterternary"
           }
          ],
          "surface": [
           {
            "colorbar": {
             "outlinewidth": 0,
             "ticks": ""
            },
            "colorscale": [
             [
              0,
              "#0d0887"
             ],
             [
              0.1111111111111111,
              "#46039f"
             ],
             [
              0.2222222222222222,
              "#7201a8"
             ],
             [
              0.3333333333333333,
              "#9c179e"
             ],
             [
              0.4444444444444444,
              "#bd3786"
             ],
             [
              0.5555555555555556,
              "#d8576b"
             ],
             [
              0.6666666666666666,
              "#ed7953"
             ],
             [
              0.7777777777777778,
              "#fb9f3a"
             ],
             [
              0.8888888888888888,
              "#fdca26"
             ],
             [
              1,
              "#f0f921"
             ]
            ],
            "type": "surface"
           }
          ],
          "table": [
           {
            "cells": {
             "fill": {
              "color": "#EBF0F8"
             },
             "line": {
              "color": "white"
             }
            },
            "header": {
             "fill": {
              "color": "#C8D4E3"
             },
             "line": {
              "color": "white"
             }
            },
            "type": "table"
           }
          ]
         },
         "layout": {
          "annotationdefaults": {
           "arrowcolor": "#2a3f5f",
           "arrowhead": 0,
           "arrowwidth": 1
          },
          "autotypenumbers": "strict",
          "coloraxis": {
           "colorbar": {
            "outlinewidth": 0,
            "ticks": ""
           }
          },
          "colorscale": {
           "diverging": [
            [
             0,
             "#8e0152"
            ],
            [
             0.1,
             "#c51b7d"
            ],
            [
             0.2,
             "#de77ae"
            ],
            [
             0.3,
             "#f1b6da"
            ],
            [
             0.4,
             "#fde0ef"
            ],
            [
             0.5,
             "#f7f7f7"
            ],
            [
             0.6,
             "#e6f5d0"
            ],
            [
             0.7,
             "#b8e186"
            ],
            [
             0.8,
             "#7fbc41"
            ],
            [
             0.9,
             "#4d9221"
            ],
            [
             1,
             "#276419"
            ]
           ],
           "sequential": [
            [
             0,
             "#0d0887"
            ],
            [
             0.1111111111111111,
             "#46039f"
            ],
            [
             0.2222222222222222,
             "#7201a8"
            ],
            [
             0.3333333333333333,
             "#9c179e"
            ],
            [
             0.4444444444444444,
             "#bd3786"
            ],
            [
             0.5555555555555556,
             "#d8576b"
            ],
            [
             0.6666666666666666,
             "#ed7953"
            ],
            [
             0.7777777777777778,
             "#fb9f3a"
            ],
            [
             0.8888888888888888,
             "#fdca26"
            ],
            [
             1,
             "#f0f921"
            ]
           ],
           "sequentialminus": [
            [
             0,
             "#0d0887"
            ],
            [
             0.1111111111111111,
             "#46039f"
            ],
            [
             0.2222222222222222,
             "#7201a8"
            ],
            [
             0.3333333333333333,
             "#9c179e"
            ],
            [
             0.4444444444444444,
             "#bd3786"
            ],
            [
             0.5555555555555556,
             "#d8576b"
            ],
            [
             0.6666666666666666,
             "#ed7953"
            ],
            [
             0.7777777777777778,
             "#fb9f3a"
            ],
            [
             0.8888888888888888,
             "#fdca26"
            ],
            [
             1,
             "#f0f921"
            ]
           ]
          },
          "colorway": [
           "#636efa",
           "#EF553B",
           "#00cc96",
           "#ab63fa",
           "#FFA15A",
           "#19d3f3",
           "#FF6692",
           "#B6E880",
           "#FF97FF",
           "#FECB52"
          ],
          "font": {
           "color": "#2a3f5f"
          },
          "geo": {
           "bgcolor": "white",
           "lakecolor": "white",
           "landcolor": "#E5ECF6",
           "showlakes": true,
           "showland": true,
           "subunitcolor": "white"
          },
          "hoverlabel": {
           "align": "left"
          },
          "hovermode": "closest",
          "mapbox": {
           "style": "light"
          },
          "paper_bgcolor": "white",
          "plot_bgcolor": "#E5ECF6",
          "polar": {
           "angularaxis": {
            "gridcolor": "white",
            "linecolor": "white",
            "ticks": ""
           },
           "bgcolor": "#E5ECF6",
           "radialaxis": {
            "gridcolor": "white",
            "linecolor": "white",
            "ticks": ""
           }
          },
          "scene": {
           "xaxis": {
            "backgroundcolor": "#E5ECF6",
            "gridcolor": "white",
            "gridwidth": 2,
            "linecolor": "white",
            "showbackground": true,
            "ticks": "",
            "zerolinecolor": "white"
           },
           "yaxis": {
            "backgroundcolor": "#E5ECF6",
            "gridcolor": "white",
            "gridwidth": 2,
            "linecolor": "white",
            "showbackground": true,
            "ticks": "",
            "zerolinecolor": "white"
           },
           "zaxis": {
            "backgroundcolor": "#E5ECF6",
            "gridcolor": "white",
            "gridwidth": 2,
            "linecolor": "white",
            "showbackground": true,
            "ticks": "",
            "zerolinecolor": "white"
           }
          },
          "shapedefaults": {
           "line": {
            "color": "#2a3f5f"
           }
          },
          "ternary": {
           "aaxis": {
            "gridcolor": "white",
            "linecolor": "white",
            "ticks": ""
           },
           "baxis": {
            "gridcolor": "white",
            "linecolor": "white",
            "ticks": ""
           },
           "bgcolor": "#E5ECF6",
           "caxis": {
            "gridcolor": "white",
            "linecolor": "white",
            "ticks": ""
           }
          },
          "title": {
           "x": 0.05
          },
          "xaxis": {
           "automargin": true,
           "gridcolor": "white",
           "linecolor": "white",
           "ticks": "",
           "title": {
            "standoff": 15
           },
           "zerolinecolor": "white",
           "zerolinewidth": 2
          },
          "yaxis": {
           "automargin": true,
           "gridcolor": "white",
           "linecolor": "white",
           "ticks": "",
           "title": {
            "standoff": 15
           },
           "zerolinecolor": "white",
           "zerolinewidth": 2
          }
         }
        },
        "title": {
         "text": "Distribution of Carcass Quality Grades by Sex"
        },
        "xaxis": {
         "anchor": "y",
         "domain": [
          0,
          1
         ],
         "title": {
          "text": "Quality"
         }
        },
        "yaxis": {
         "anchor": "x",
         "domain": [
          0,
          1
         ],
         "title": {
          "text": "count"
         }
        }
       }
      }
     },
     "metadata": {},
     "output_type": "display_data"
    },
    {
     "data": {
      "application/vnd.plotly.v1+json": {
       "config": {
        "plotlyServerURL": "https://plot.ly"
       },
       "data": [
        {
         "alignmentgroup": "True",
         "hovertemplate": "Sex=Heifer<br>Quality=%{x}<br>Yield=%{y}<extra></extra>",
         "legendgroup": "Heifer",
         "marker": {
          "color": "#636efa"
         },
         "name": "Heifer",
         "notched": false,
         "offsetgroup": "Heifer",
         "orientation": "v",
         "showlegend": true,
         "type": "box",
         "x": [
          "CH",
          "CH",
          "P",
          "CH",
          "CH",
          "CH",
          "P",
          "CH",
          "P",
          "CH",
          "CH",
          "CH",
          "P",
          "CH",
          "CH",
          "CH",
          "CH",
          "CH",
          "P",
          "P",
          "P",
          "CH",
          "CH",
          "CH",
          "P",
          "P",
          "CH",
          "P",
          "CH",
          "P",
          "P",
          "P",
          "CH",
          "CH",
          "P",
          "CH",
          "P",
          "P",
          "CH",
          "CH",
          "CH",
          "P",
          "CH",
          "CH",
          "P",
          "CH",
          "P",
          "CH",
          "CH",
          "CH",
          "CH",
          "CH",
          "CH",
          "CH",
          "CH",
          "SE",
          "P"
         ],
         "x0": " ",
         "xaxis": "x",
         "y": [
          4,
          2,
          3,
          2,
          3,
          3,
          2,
          3,
          3,
          1,
          0,
          4,
          2,
          2,
          2,
          0,
          2,
          1,
          4,
          2,
          3,
          4,
          3,
          4,
          4,
          3,
          3,
          4,
          3,
          4,
          3,
          2,
          4,
          2,
          2,
          3,
          3,
          4,
          0,
          3,
          4,
          3,
          3,
          2,
          3,
          2,
          2,
          4,
          3,
          2,
          3,
          3,
          4,
          4,
          4,
          1,
          3
         ],
         "y0": " ",
         "yaxis": "y"
        },
        {
         "alignmentgroup": "True",
         "hovertemplate": "Sex=Steer<br>Quality=%{x}<br>Yield=%{y}<extra></extra>",
         "legendgroup": "Steer",
         "marker": {
          "color": "#EF553B"
         },
         "name": "Steer",
         "notched": false,
         "offsetgroup": "Steer",
         "orientation": "v",
         "showlegend": true,
         "type": "box",
         "x": [
          "CH",
          "CH",
          "P",
          "P",
          "P",
          "P",
          "P",
          "P",
          "P",
          "CH",
          "P",
          "P",
          "P",
          "P",
          "CH",
          "CH",
          "No Roll",
          "CH",
          "CH",
          "P",
          "P",
          "P",
          "P",
          "CH",
          "CH",
          "P",
          "CH",
          "P",
          "P",
          "CH",
          "CH",
          "CH",
          "P",
          "CH",
          "CH",
          "P",
          "P",
          "CH",
          "P",
          "CH",
          "P",
          "CH",
          "P",
          "P",
          "P",
          "CH",
          "CH",
          "CH",
          "P",
          "CH",
          "P",
          "P",
          "P",
          "P",
          "P",
          "P",
          "CH",
          "CH",
          "P",
          "CH",
          "P",
          "CH",
          "P",
          "P",
          "CH",
          "CH",
          "P",
          "P",
          "P"
         ],
         "x0": " ",
         "xaxis": "x",
         "y": [
          3,
          3,
          5,
          5,
          3,
          4,
          3,
          5,
          3,
          3,
          4,
          5,
          4,
          5,
          4,
          4,
          0,
          3,
          4,
          4,
          4,
          5,
          3,
          3,
          3,
          3,
          4,
          3,
          5,
          3,
          5,
          3,
          3,
          3,
          2,
          4,
          3,
          3,
          3,
          3,
          2,
          4,
          4,
          3,
          3,
          3,
          3,
          2,
          3,
          4,
          4,
          4,
          4,
          3,
          2,
          4,
          4,
          3,
          4,
          3,
          3,
          4,
          2,
          4,
          5,
          4,
          3,
          3,
          3
         ],
         "y0": " ",
         "yaxis": "y"
        },
        {
         "alignmentgroup": "True",
         "hovertemplate": "Sex=STEER<br>Quality=%{x}<br>Yield=%{y}<extra></extra>",
         "legendgroup": "STEER",
         "marker": {
          "color": "#00cc96"
         },
         "name": "STEER",
         "notched": false,
         "offsetgroup": "STEER",
         "orientation": "v",
         "showlegend": true,
         "type": "box",
         "x": [
          "P",
          "CH",
          "P",
          "P",
          "P",
          "P",
          "P",
          "CH",
          "CH",
          "CH",
          "P",
          "P",
          "P",
          "P",
          "P",
          "P",
          "P",
          "SE",
          "CH",
          "CH",
          "CH",
          "P",
          "P",
          "CH",
          "P",
          "P",
          "CH",
          "CH",
          "CH",
          "P",
          "P",
          "P",
          "P",
          "P",
          "P",
          "P",
          "P",
          "SE",
          "P",
          "CH",
          "P",
          "CH",
          "CH",
          "P",
          "CH",
          "CH",
          "CH",
          "CH",
          "P",
          "P",
          "P",
          "P",
          "P",
          "CH",
          "P",
          "CH",
          "P",
          "P",
          "CH",
          "CH",
          "CH",
          "P",
          "P",
          "P",
          "CH",
          "CHG",
          "CHG",
          "P",
          "P",
          "P",
          "CHG",
          "CH",
          "P",
          "P",
          "CHG",
          "P",
          "P",
          "CH",
          "CHG",
          "P",
          "CHG",
          "CH",
          "CH",
          "P",
          "CH",
          "P",
          "CH",
          "P",
          "P",
          "P",
          "CH",
          "CH",
          "CH",
          "CH",
          "CH",
          "P",
          "CH",
          "P",
          "P",
          "CH",
          "P",
          "P",
          "CHG",
          "CH",
          "CH",
          "P",
          "P",
          "P",
          "CH",
          "CH",
          "P",
          "P",
          "CH",
          "CH",
          "CH",
          "CHG",
          "CH",
          "CHG",
          "P",
          "P",
          "P",
          "P",
          "CH",
          "CH",
          "P",
          "CH",
          "P",
          "P",
          "CH",
          "P",
          "P",
          "P",
          "P",
          "P",
          "CHG",
          "CH",
          "CH",
          "CH",
          "CH",
          "CH",
          "CH",
          "CH",
          "CH",
          "P",
          "CH",
          "CH",
          "P",
          "CH",
          "CH",
          "CHG",
          "CH",
          "CH",
          "P",
          "CH",
          "CH",
          "P",
          "CH",
          "CH",
          "CHG",
          "CH",
          "CH",
          "CH",
          "CH",
          "CH",
          "CHG",
          "CH",
          "CH",
          "P",
          "P",
          "CH",
          "P",
          "P",
          "P",
          "CH",
          "CH"
         ],
         "x0": " ",
         "xaxis": "x",
         "y": [
          5,
          3,
          3,
          3,
          4,
          3,
          3,
          2,
          3,
          4,
          5,
          4,
          5,
          3,
          4,
          3,
          4,
          2,
          4,
          4,
          3,
          4,
          3,
          2,
          4,
          4,
          4,
          3,
          4,
          3,
          2,
          3,
          3,
          3,
          3,
          3,
          3,
          1,
          4,
          2,
          3,
          3,
          4,
          5,
          3,
          4,
          3,
          3,
          3,
          4,
          4,
          3,
          3,
          3,
          4,
          2,
          5,
          4,
          3,
          4,
          3,
          3,
          3,
          2,
          3,
          3,
          3,
          3,
          3,
          2,
          2,
          2,
          3,
          3,
          3,
          3,
          3,
          2,
          3,
          4,
          3,
          3,
          3,
          3,
          3,
          3,
          2,
          3,
          2,
          3,
          4,
          2,
          3,
          4,
          3,
          3,
          3,
          3,
          3,
          2,
          3,
          2,
          3,
          2,
          2,
          3,
          3,
          4,
          2,
          3,
          3,
          3,
          3,
          4,
          3,
          3,
          2,
          4,
          3,
          4,
          4,
          3,
          4,
          3,
          3,
          2,
          3,
          3,
          4,
          3,
          3,
          4,
          3,
          3,
          3,
          3,
          4,
          5,
          3,
          3,
          3,
          3,
          2,
          4,
          3,
          2,
          4,
          2,
          3,
          2,
          3,
          3,
          2,
          2,
          4,
          3,
          4,
          3,
          3,
          3,
          3,
          3,
          3,
          3,
          4,
          4,
          3,
          4,
          4,
          3,
          2,
          3,
          3,
          3,
          3
         ],
         "y0": " ",
         "yaxis": "y"
        },
        {
         "alignmentgroup": "True",
         "hovertemplate": "Sex=HEIFER<br>Quality=%{x}<br>Yield=%{y}<extra></extra>",
         "legendgroup": "HEIFER",
         "marker": {
          "color": "#ab63fa"
         },
         "name": "HEIFER",
         "notched": false,
         "offsetgroup": "HEIFER",
         "orientation": "v",
         "showlegend": true,
         "type": "box",
         "x": [
          "CHG",
          "CH",
          "P",
          "SE",
          "P",
          "CH",
          "CH",
          "P",
          "SE",
          "P",
          "SE",
          "CH",
          "CHG"
         ],
         "x0": " ",
         "xaxis": "x",
         "y": [
          2,
          5,
          4,
          4,
          4,
          2,
          2,
          4,
          4,
          4,
          3,
          5,
          2
         ],
         "y0": " ",
         "yaxis": "y"
        }
       ],
       "layout": {
        "boxmode": "group",
        "legend": {
         "title": {
          "text": "Sex"
         },
         "tracegroupgap": 0
        },
        "template": {
         "data": {
          "bar": [
           {
            "error_x": {
             "color": "#2a3f5f"
            },
            "error_y": {
             "color": "#2a3f5f"
            },
            "marker": {
             "line": {
              "color": "#E5ECF6",
              "width": 0.5
             },
             "pattern": {
              "fillmode": "overlay",
              "size": 10,
              "solidity": 0.2
             }
            },
            "type": "bar"
           }
          ],
          "barpolar": [
           {
            "marker": {
             "line": {
              "color": "#E5ECF6",
              "width": 0.5
             },
             "pattern": {
              "fillmode": "overlay",
              "size": 10,
              "solidity": 0.2
             }
            },
            "type": "barpolar"
           }
          ],
          "carpet": [
           {
            "aaxis": {
             "endlinecolor": "#2a3f5f",
             "gridcolor": "white",
             "linecolor": "white",
             "minorgridcolor": "white",
             "startlinecolor": "#2a3f5f"
            },
            "baxis": {
             "endlinecolor": "#2a3f5f",
             "gridcolor": "white",
             "linecolor": "white",
             "minorgridcolor": "white",
             "startlinecolor": "#2a3f5f"
            },
            "type": "carpet"
           }
          ],
          "choropleth": [
           {
            "colorbar": {
             "outlinewidth": 0,
             "ticks": ""
            },
            "type": "choropleth"
           }
          ],
          "contour": [
           {
            "colorbar": {
             "outlinewidth": 0,
             "ticks": ""
            },
            "colorscale": [
             [
              0,
              "#0d0887"
             ],
             [
              0.1111111111111111,
              "#46039f"
             ],
             [
              0.2222222222222222,
              "#7201a8"
             ],
             [
              0.3333333333333333,
              "#9c179e"
             ],
             [
              0.4444444444444444,
              "#bd3786"
             ],
             [
              0.5555555555555556,
              "#d8576b"
             ],
             [
              0.6666666666666666,
              "#ed7953"
             ],
             [
              0.7777777777777778,
              "#fb9f3a"
             ],
             [
              0.8888888888888888,
              "#fdca26"
             ],
             [
              1,
              "#f0f921"
             ]
            ],
            "type": "contour"
           }
          ],
          "contourcarpet": [
           {
            "colorbar": {
             "outlinewidth": 0,
             "ticks": ""
            },
            "type": "contourcarpet"
           }
          ],
          "heatmap": [
           {
            "colorbar": {
             "outlinewidth": 0,
             "ticks": ""
            },
            "colorscale": [
             [
              0,
              "#0d0887"
             ],
             [
              0.1111111111111111,
              "#46039f"
             ],
             [
              0.2222222222222222,
              "#7201a8"
             ],
             [
              0.3333333333333333,
              "#9c179e"
             ],
             [
              0.4444444444444444,
              "#bd3786"
             ],
             [
              0.5555555555555556,
              "#d8576b"
             ],
             [
              0.6666666666666666,
              "#ed7953"
             ],
             [
              0.7777777777777778,
              "#fb9f3a"
             ],
             [
              0.8888888888888888,
              "#fdca26"
             ],
             [
              1,
              "#f0f921"
             ]
            ],
            "type": "heatmap"
           }
          ],
          "heatmapgl": [
           {
            "colorbar": {
             "outlinewidth": 0,
             "ticks": ""
            },
            "colorscale": [
             [
              0,
              "#0d0887"
             ],
             [
              0.1111111111111111,
              "#46039f"
             ],
             [
              0.2222222222222222,
              "#7201a8"
             ],
             [
              0.3333333333333333,
              "#9c179e"
             ],
             [
              0.4444444444444444,
              "#bd3786"
             ],
             [
              0.5555555555555556,
              "#d8576b"
             ],
             [
              0.6666666666666666,
              "#ed7953"
             ],
             [
              0.7777777777777778,
              "#fb9f3a"
             ],
             [
              0.8888888888888888,
              "#fdca26"
             ],
             [
              1,
              "#f0f921"
             ]
            ],
            "type": "heatmapgl"
           }
          ],
          "histogram": [
           {
            "marker": {
             "pattern": {
              "fillmode": "overlay",
              "size": 10,
              "solidity": 0.2
             }
            },
            "type": "histogram"
           }
          ],
          "histogram2d": [
           {
            "colorbar": {
             "outlinewidth": 0,
             "ticks": ""
            },
            "colorscale": [
             [
              0,
              "#0d0887"
             ],
             [
              0.1111111111111111,
              "#46039f"
             ],
             [
              0.2222222222222222,
              "#7201a8"
             ],
             [
              0.3333333333333333,
              "#9c179e"
             ],
             [
              0.4444444444444444,
              "#bd3786"
             ],
             [
              0.5555555555555556,
              "#d8576b"
             ],
             [
              0.6666666666666666,
              "#ed7953"
             ],
             [
              0.7777777777777778,
              "#fb9f3a"
             ],
             [
              0.8888888888888888,
              "#fdca26"
             ],
             [
              1,
              "#f0f921"
             ]
            ],
            "type": "histogram2d"
           }
          ],
          "histogram2dcontour": [
           {
            "colorbar": {
             "outlinewidth": 0,
             "ticks": ""
            },
            "colorscale": [
             [
              0,
              "#0d0887"
             ],
             [
              0.1111111111111111,
              "#46039f"
             ],
             [
              0.2222222222222222,
              "#7201a8"
             ],
             [
              0.3333333333333333,
              "#9c179e"
             ],
             [
              0.4444444444444444,
              "#bd3786"
             ],
             [
              0.5555555555555556,
              "#d8576b"
             ],
             [
              0.6666666666666666,
              "#ed7953"
             ],
             [
              0.7777777777777778,
              "#fb9f3a"
             ],
             [
              0.8888888888888888,
              "#fdca26"
             ],
             [
              1,
              "#f0f921"
             ]
            ],
            "type": "histogram2dcontour"
           }
          ],
          "mesh3d": [
           {
            "colorbar": {
             "outlinewidth": 0,
             "ticks": ""
            },
            "type": "mesh3d"
           }
          ],
          "parcoords": [
           {
            "line": {
             "colorbar": {
              "outlinewidth": 0,
              "ticks": ""
             }
            },
            "type": "parcoords"
           }
          ],
          "pie": [
           {
            "automargin": true,
            "type": "pie"
           }
          ],
          "scatter": [
           {
            "fillpattern": {
             "fillmode": "overlay",
             "size": 10,
             "solidity": 0.2
            },
            "type": "scatter"
           }
          ],
          "scatter3d": [
           {
            "line": {
             "colorbar": {
              "outlinewidth": 0,
              "ticks": ""
             }
            },
            "marker": {
             "colorbar": {
              "outlinewidth": 0,
              "ticks": ""
             }
            },
            "type": "scatter3d"
           }
          ],
          "scattercarpet": [
           {
            "marker": {
             "colorbar": {
              "outlinewidth": 0,
              "ticks": ""
             }
            },
            "type": "scattercarpet"
           }
          ],
          "scattergeo": [
           {
            "marker": {
             "colorbar": {
              "outlinewidth": 0,
              "ticks": ""
             }
            },
            "type": "scattergeo"
           }
          ],
          "scattergl": [
           {
            "marker": {
             "colorbar": {
              "outlinewidth": 0,
              "ticks": ""
             }
            },
            "type": "scattergl"
           }
          ],
          "scattermapbox": [
           {
            "marker": {
             "colorbar": {
              "outlinewidth": 0,
              "ticks": ""
             }
            },
            "type": "scattermapbox"
           }
          ],
          "scatterpolar": [
           {
            "marker": {
             "colorbar": {
              "outlinewidth": 0,
              "ticks": ""
             }
            },
            "type": "scatterpolar"
           }
          ],
          "scatterpolargl": [
           {
            "marker": {
             "colorbar": {
              "outlinewidth": 0,
              "ticks": ""
             }
            },
            "type": "scatterpolargl"
           }
          ],
          "scatterternary": [
           {
            "marker": {
             "colorbar": {
              "outlinewidth": 0,
              "ticks": ""
             }
            },
            "type": "scatterternary"
           }
          ],
          "surface": [
           {
            "colorbar": {
             "outlinewidth": 0,
             "ticks": ""
            },
            "colorscale": [
             [
              0,
              "#0d0887"
             ],
             [
              0.1111111111111111,
              "#46039f"
             ],
             [
              0.2222222222222222,
              "#7201a8"
             ],
             [
              0.3333333333333333,
              "#9c179e"
             ],
             [
              0.4444444444444444,
              "#bd3786"
             ],
             [
              0.5555555555555556,
              "#d8576b"
             ],
             [
              0.6666666666666666,
              "#ed7953"
             ],
             [
              0.7777777777777778,
              "#fb9f3a"
             ],
             [
              0.8888888888888888,
              "#fdca26"
             ],
             [
              1,
              "#f0f921"
             ]
            ],
            "type": "surface"
           }
          ],
          "table": [
           {
            "cells": {
             "fill": {
              "color": "#EBF0F8"
             },
             "line": {
              "color": "white"
             }
            },
            "header": {
             "fill": {
              "color": "#C8D4E3"
             },
             "line": {
              "color": "white"
             }
            },
            "type": "table"
           }
          ]
         },
         "layout": {
          "annotationdefaults": {
           "arrowcolor": "#2a3f5f",
           "arrowhead": 0,
           "arrowwidth": 1
          },
          "autotypenumbers": "strict",
          "coloraxis": {
           "colorbar": {
            "outlinewidth": 0,
            "ticks": ""
           }
          },
          "colorscale": {
           "diverging": [
            [
             0,
             "#8e0152"
            ],
            [
             0.1,
             "#c51b7d"
            ],
            [
             0.2,
             "#de77ae"
            ],
            [
             0.3,
             "#f1b6da"
            ],
            [
             0.4,
             "#fde0ef"
            ],
            [
             0.5,
             "#f7f7f7"
            ],
            [
             0.6,
             "#e6f5d0"
            ],
            [
             0.7,
             "#b8e186"
            ],
            [
             0.8,
             "#7fbc41"
            ],
            [
             0.9,
             "#4d9221"
            ],
            [
             1,
             "#276419"
            ]
           ],
           "sequential": [
            [
             0,
             "#0d0887"
            ],
            [
             0.1111111111111111,
             "#46039f"
            ],
            [
             0.2222222222222222,
             "#7201a8"
            ],
            [
             0.3333333333333333,
             "#9c179e"
            ],
            [
             0.4444444444444444,
             "#bd3786"
            ],
            [
             0.5555555555555556,
             "#d8576b"
            ],
            [
             0.6666666666666666,
             "#ed7953"
            ],
            [
             0.7777777777777778,
             "#fb9f3a"
            ],
            [
             0.8888888888888888,
             "#fdca26"
            ],
            [
             1,
             "#f0f921"
            ]
           ],
           "sequentialminus": [
            [
             0,
             "#0d0887"
            ],
            [
             0.1111111111111111,
             "#46039f"
            ],
            [
             0.2222222222222222,
             "#7201a8"
            ],
            [
             0.3333333333333333,
             "#9c179e"
            ],
            [
             0.4444444444444444,
             "#bd3786"
            ],
            [
             0.5555555555555556,
             "#d8576b"
            ],
            [
             0.6666666666666666,
             "#ed7953"
            ],
            [
             0.7777777777777778,
             "#fb9f3a"
            ],
            [
             0.8888888888888888,
             "#fdca26"
            ],
            [
             1,
             "#f0f921"
            ]
           ]
          },
          "colorway": [
           "#636efa",
           "#EF553B",
           "#00cc96",
           "#ab63fa",
           "#FFA15A",
           "#19d3f3",
           "#FF6692",
           "#B6E880",
           "#FF97FF",
           "#FECB52"
          ],
          "font": {
           "color": "#2a3f5f"
          },
          "geo": {
           "bgcolor": "white",
           "lakecolor": "white",
           "landcolor": "#E5ECF6",
           "showlakes": true,
           "showland": true,
           "subunitcolor": "white"
          },
          "hoverlabel": {
           "align": "left"
          },
          "hovermode": "closest",
          "mapbox": {
           "style": "light"
          },
          "paper_bgcolor": "white",
          "plot_bgcolor": "#E5ECF6",
          "polar": {
           "angularaxis": {
            "gridcolor": "white",
            "linecolor": "white",
            "ticks": ""
           },
           "bgcolor": "#E5ECF6",
           "radialaxis": {
            "gridcolor": "white",
            "linecolor": "white",
            "ticks": ""
           }
          },
          "scene": {
           "xaxis": {
            "backgroundcolor": "#E5ECF6",
            "gridcolor": "white",
            "gridwidth": 2,
            "linecolor": "white",
            "showbackground": true,
            "ticks": "",
            "zerolinecolor": "white"
           },
           "yaxis": {
            "backgroundcolor": "#E5ECF6",
            "gridcolor": "white",
            "gridwidth": 2,
            "linecolor": "white",
            "showbackground": true,
            "ticks": "",
            "zerolinecolor": "white"
           },
           "zaxis": {
            "backgroundcolor": "#E5ECF6",
            "gridcolor": "white",
            "gridwidth": 2,
            "linecolor": "white",
            "showbackground": true,
            "ticks": "",
            "zerolinecolor": "white"
           }
          },
          "shapedefaults": {
           "line": {
            "color": "#2a3f5f"
           }
          },
          "ternary": {
           "aaxis": {
            "gridcolor": "white",
            "linecolor": "white",
            "ticks": ""
           },
           "baxis": {
            "gridcolor": "white",
            "linecolor": "white",
            "ticks": ""
           },
           "bgcolor": "#E5ECF6",
           "caxis": {
            "gridcolor": "white",
            "linecolor": "white",
            "ticks": ""
           }
          },
          "title": {
           "x": 0.05
          },
          "xaxis": {
           "automargin": true,
           "gridcolor": "white",
           "linecolor": "white",
           "ticks": "",
           "title": {
            "standoff": 15
           },
           "zerolinecolor": "white",
           "zerolinewidth": 2
          },
          "yaxis": {
           "automargin": true,
           "gridcolor": "white",
           "linecolor": "white",
           "ticks": "",
           "title": {
            "standoff": 15
           },
           "zerolinecolor": "white",
           "zerolinewidth": 2
          }
         }
        },
        "title": {
         "text": "Yield Distribution by Quality and Sex"
        },
        "xaxis": {
         "anchor": "y",
         "domain": [
          0,
          1
         ],
         "title": {
          "text": "Quality"
         }
        },
        "yaxis": {
         "anchor": "x",
         "domain": [
          0,
          1
         ],
         "title": {
          "text": "Yield"
         }
        }
       }
      }
     },
     "metadata": {},
     "output_type": "display_data"
    }
   ],
   "source": [
    "import plotly.express as px\n",
    "\n",
    "# Distribution of Quality grades by Sex\n",
    "fig_quality_sex = px.histogram(filtered_superDf, x=\"Quality\", color=\"Sex\", barmode=\"group\", title=\"Distribution of Carcass Quality Grades by Sex\")\n",
    "fig_quality_sex.show()\n",
    "\n",
    "# Yield distribution by Quality and Sex\n",
    "fig_yield_sex = px.box(filtered_superDf, x=\"Quality\", y=\"Yield\", color=\"Sex\", title=\"Yield Distribution by Quality and Sex\")\n",
    "fig_yield_sex.show()"
   ]
  },
  {
   "cell_type": "code",
   "execution_count": null,
   "metadata": {},
   "outputs": [
    {
     "data": {
      "application/vnd.plotly.v1+json": {
       "config": {
        "plotlyServerURL": "https://plot.ly"
       },
       "data": [
        {
         "alignmentgroup": "True",
         "bingroup": "x",
         "histfunc": "sum",
         "hovertemplate": "Quality=CH<br>Yield Score=%{x}<br>sum of Carcass Weight=%{y}<extra></extra>",
         "legendgroup": "CH",
         "marker": {
          "color": "#636efa",
          "pattern": {
           "shape": ""
          }
         },
         "name": "CH",
         "offsetgroup": "CH",
         "orientation": "v",
         "showlegend": true,
         "type": "histogram",
         "x": [
          4,
          2,
          2,
          3,
          3,
          3,
          1,
          0,
          4,
          2,
          2,
          0,
          2,
          1,
          3,
          3,
          3,
          3,
          2,
          3,
          4,
          4,
          4,
          3,
          4,
          4,
          4,
          3,
          2,
          4,
          3,
          4,
          3,
          3,
          4,
          3,
          5,
          3,
          3,
          2,
          2,
          3,
          3,
          4,
          3,
          3,
          4,
          4,
          3,
          3,
          2,
          3,
          3,
          4,
          3,
          2,
          4,
          3,
          3,
          4,
          5,
          4,
          3,
          4,
          4,
          3,
          4,
          3,
          3,
          4,
          2,
          3,
          0,
          3,
          4,
          3,
          2,
          2,
          4,
          3,
          2,
          3,
          3,
          4,
          4,
          4,
          5,
          3,
          2,
          3,
          2,
          2,
          3,
          3,
          3,
          2,
          4,
          2,
          3,
          4,
          3,
          3,
          2,
          2,
          2,
          2,
          3,
          3,
          4,
          3,
          2,
          4,
          3,
          2,
          4,
          3,
          4,
          5,
          3,
          3,
          3,
          3,
          2,
          3,
          2,
          2,
          3,
          3,
          3,
          2,
          4,
          4,
          3,
          3,
          3,
          3,
          3,
          3,
          4,
          3,
          3,
          2,
          3,
          5,
          3
         ],
         "xaxis": "x",
         "y": [
          845,
          601,
          804,
          622,
          666,
          740,
          503,
          766,
          621,
          572,
          673,
          713,
          699,
          750,
          882,
          764,
          952,
          967,
          844,
          887,
          1052,
          1081,
          1138,
          935,
          1010,
          891,
          945,
          994,
          897,
          966,
          829,
          890,
          905,
          988,
          1092,
          684,
          945,
          978,
          837,
          974,
          884,
          904,
          762,
          873,
          827,
          813,
          967,
          1061,
          1063,
          882,
          1013,
          1045,
          967,
          1030,
          882,
          925,
          984,
          1006,
          982,
          938,
          991,
          953,
          985,
          808,
          642,
          772,
          698,
          672,
          748,
          755,
          748,
          851,
          724,
          736,
          757,
          781,
          744,
          754,
          787,
          846,
          924,
          851,
          821,
          748,
          765,
          878,
          870,
          724,
          810,
          1032,
          878,
          1087,
          1138,
          895,
          1003,
          962,
          1124,
          843,
          1137,
          1158,
          1041,
          1073,
          899,
          872,
          892,
          726,
          795,
          1036,
          1005,
          1006,
          851,
          1161,
          979,
          1051,
          1018,
          909,
          933,
          1099,
          1064,
          1102,
          907,
          1016,
          820,
          1045,
          946,
          863,
          1118,
          1016,
          993,
          1018,
          1181,
          1029,
          1112,
          910,
          994,
          1015,
          903,
          896,
          880,
          1002,
          1032,
          810,
          724,
          870,
          915
         ],
         "yaxis": "y"
        },
        {
         "alignmentgroup": "True",
         "bingroup": "x",
         "histfunc": "sum",
         "hovertemplate": "Quality=P<br>Yield Score=%{x}<br>sum of Carcass Weight=%{y}<extra></extra>",
         "legendgroup": "P",
         "marker": {
          "color": "#EF553B",
          "pattern": {
           "shape": ""
          }
         },
         "name": "P",
         "offsetgroup": "P",
         "orientation": "v",
         "showlegend": true,
         "type": "histogram",
         "x": [
          3,
          2,
          3,
          2,
          5,
          5,
          5,
          3,
          3,
          3,
          4,
          3,
          5,
          4,
          3,
          3,
          3,
          4,
          5,
          5,
          4,
          5,
          4,
          5,
          3,
          4,
          3,
          4,
          4,
          4,
          4,
          5,
          3,
          4,
          4,
          3,
          3,
          2,
          3,
          3,
          3,
          3,
          3,
          3,
          5,
          3,
          3,
          4,
          3,
          3,
          4,
          3,
          3,
          5,
          2,
          4,
          3,
          3,
          3,
          3,
          4,
          4,
          4,
          3,
          4,
          3,
          4,
          4,
          3,
          2,
          4,
          5,
          4,
          3,
          2,
          4,
          4,
          3,
          3,
          3,
          4,
          2,
          3,
          4,
          3,
          4,
          4,
          3,
          2,
          2,
          3,
          4,
          3,
          3,
          2,
          3,
          4,
          3,
          3,
          4,
          2,
          3,
          3,
          2,
          3,
          3,
          3,
          3,
          4,
          3,
          3,
          3,
          2,
          3,
          3,
          3,
          3,
          3,
          2,
          3,
          3,
          4,
          3,
          3,
          3,
          4,
          4,
          3,
          3,
          3,
          3,
          3,
          3,
          4,
          3,
          3,
          4,
          4,
          2,
          3,
          4,
          4,
          2,
          4,
          3,
          3,
          4
         ],
         "xaxis": "x",
         "y": [
          767,
          747,
          845,
          747,
          1093,
          1016,
          808,
          1075,
          745,
          998,
          988,
          1137,
          1057,
          932,
          827,
          1019,
          883,
          948,
          946,
          908,
          1067,
          1117,
          944,
          948,
          881,
          980,
          946,
          858,
          869,
          907,
          808,
          1062,
          848,
          918,
          936,
          1120,
          999,
          867,
          996,
          877,
          841,
          827,
          935,
          924,
          1151,
          869,
          739,
          1034,
          936,
          947,
          871,
          865,
          867,
          1058,
          978,
          911,
          1030,
          846,
          896,
          971,
          717,
          1030,
          874,
          916,
          970,
          847,
          1130,
          954,
          951,
          856,
          838,
          920,
          971,
          900,
          1007,
          951,
          861,
          1020,
          1163,
          990,
          674,
          675,
          613,
          925,
          778,
          778,
          688,
          767,
          588,
          875,
          654,
          765,
          610,
          752,
          747,
          771,
          1034,
          948,
          960,
          808,
          950,
          869,
          914,
          818,
          1033,
          883,
          893,
          966,
          1016,
          1224,
          1019,
          818,
          911,
          989,
          984,
          997,
          988,
          1039,
          954,
          1025,
          1097,
          1071,
          1021,
          1110,
          976,
          981,
          928,
          998,
          922,
          1191,
          1102,
          1163,
          1129,
          1017,
          1073,
          1045,
          924,
          970,
          902,
          1071,
          996,
          1008,
          950,
          808,
          960,
          948,
          1034
         ],
         "yaxis": "y"
        },
        {
         "alignmentgroup": "True",
         "bingroup": "x",
         "histfunc": "sum",
         "hovertemplate": "Quality=No Roll<br>Yield Score=%{x}<br>sum of Carcass Weight=%{y}<extra></extra>",
         "legendgroup": "No Roll",
         "marker": {
          "color": "#00cc96",
          "pattern": {
           "shape": ""
          }
         },
         "name": "No Roll",
         "offsetgroup": "No Roll",
         "orientation": "v",
         "showlegend": true,
         "type": "histogram",
         "x": [
          0
         ],
         "xaxis": "x",
         "y": [
          1093
         ],
         "yaxis": "y"
        },
        {
         "alignmentgroup": "True",
         "bingroup": "x",
         "histfunc": "sum",
         "hovertemplate": "Quality=SE<br>Yield Score=%{x}<br>sum of Carcass Weight=%{y}<extra></extra>",
         "legendgroup": "SE",
         "marker": {
          "color": "#ab63fa",
          "pattern": {
           "shape": ""
          }
         },
         "name": "SE",
         "offsetgroup": "SE",
         "orientation": "v",
         "showlegend": true,
         "type": "histogram",
         "x": [
          2,
          1,
          1,
          4,
          4,
          3
         ],
         "xaxis": "x",
         "y": [
          838,
          828,
          482,
          942,
          942,
          897
         ],
         "yaxis": "y"
        },
        {
         "alignmentgroup": "True",
         "bingroup": "x",
         "histfunc": "sum",
         "hovertemplate": "Quality=CHG<br>Yield Score=%{x}<br>sum of Carcass Weight=%{y}<extra></extra>",
         "legendgroup": "CHG",
         "marker": {
          "color": "#FFA15A",
          "pattern": {
           "shape": ""
          }
         },
         "name": "CHG",
         "offsetgroup": "CHG",
         "orientation": "v",
         "showlegend": true,
         "type": "histogram",
         "x": [
          2,
          3,
          3,
          2,
          3,
          3,
          3,
          3,
          3,
          4,
          3,
          2,
          3,
          4,
          2
         ],
         "xaxis": "x",
         "y": [
          823,
          977,
          893,
          923,
          1115,
          861,
          964,
          943,
          1132,
          1046,
          935,
          956,
          894,
          971,
          823
         ],
         "yaxis": "y"
        }
       ],
       "layout": {
        "barmode": "relative",
        "legend": {
         "title": {
          "text": "Quality"
         },
         "tracegroupgap": 0
        },
        "template": {
         "data": {
          "bar": [
           {
            "error_x": {
             "color": "#2a3f5f"
            },
            "error_y": {
             "color": "#2a3f5f"
            },
            "marker": {
             "line": {
              "color": "#E5ECF6",
              "width": 0.5
             },
             "pattern": {
              "fillmode": "overlay",
              "size": 10,
              "solidity": 0.2
             }
            },
            "type": "bar"
           }
          ],
          "barpolar": [
           {
            "marker": {
             "line": {
              "color": "#E5ECF6",
              "width": 0.5
             },
             "pattern": {
              "fillmode": "overlay",
              "size": 10,
              "solidity": 0.2
             }
            },
            "type": "barpolar"
           }
          ],
          "carpet": [
           {
            "aaxis": {
             "endlinecolor": "#2a3f5f",
             "gridcolor": "white",
             "linecolor": "white",
             "minorgridcolor": "white",
             "startlinecolor": "#2a3f5f"
            },
            "baxis": {
             "endlinecolor": "#2a3f5f",
             "gridcolor": "white",
             "linecolor": "white",
             "minorgridcolor": "white",
             "startlinecolor": "#2a3f5f"
            },
            "type": "carpet"
           }
          ],
          "choropleth": [
           {
            "colorbar": {
             "outlinewidth": 0,
             "ticks": ""
            },
            "type": "choropleth"
           }
          ],
          "contour": [
           {
            "colorbar": {
             "outlinewidth": 0,
             "ticks": ""
            },
            "colorscale": [
             [
              0,
              "#0d0887"
             ],
             [
              0.1111111111111111,
              "#46039f"
             ],
             [
              0.2222222222222222,
              "#7201a8"
             ],
             [
              0.3333333333333333,
              "#9c179e"
             ],
             [
              0.4444444444444444,
              "#bd3786"
             ],
             [
              0.5555555555555556,
              "#d8576b"
             ],
             [
              0.6666666666666666,
              "#ed7953"
             ],
             [
              0.7777777777777778,
              "#fb9f3a"
             ],
             [
              0.8888888888888888,
              "#fdca26"
             ],
             [
              1,
              "#f0f921"
             ]
            ],
            "type": "contour"
           }
          ],
          "contourcarpet": [
           {
            "colorbar": {
             "outlinewidth": 0,
             "ticks": ""
            },
            "type": "contourcarpet"
           }
          ],
          "heatmap": [
           {
            "colorbar": {
             "outlinewidth": 0,
             "ticks": ""
            },
            "colorscale": [
             [
              0,
              "#0d0887"
             ],
             [
              0.1111111111111111,
              "#46039f"
             ],
             [
              0.2222222222222222,
              "#7201a8"
             ],
             [
              0.3333333333333333,
              "#9c179e"
             ],
             [
              0.4444444444444444,
              "#bd3786"
             ],
             [
              0.5555555555555556,
              "#d8576b"
             ],
             [
              0.6666666666666666,
              "#ed7953"
             ],
             [
              0.7777777777777778,
              "#fb9f3a"
             ],
             [
              0.8888888888888888,
              "#fdca26"
             ],
             [
              1,
              "#f0f921"
             ]
            ],
            "type": "heatmap"
           }
          ],
          "heatmapgl": [
           {
            "colorbar": {
             "outlinewidth": 0,
             "ticks": ""
            },
            "colorscale": [
             [
              0,
              "#0d0887"
             ],
             [
              0.1111111111111111,
              "#46039f"
             ],
             [
              0.2222222222222222,
              "#7201a8"
             ],
             [
              0.3333333333333333,
              "#9c179e"
             ],
             [
              0.4444444444444444,
              "#bd3786"
             ],
             [
              0.5555555555555556,
              "#d8576b"
             ],
             [
              0.6666666666666666,
              "#ed7953"
             ],
             [
              0.7777777777777778,
              "#fb9f3a"
             ],
             [
              0.8888888888888888,
              "#fdca26"
             ],
             [
              1,
              "#f0f921"
             ]
            ],
            "type": "heatmapgl"
           }
          ],
          "histogram": [
           {
            "marker": {
             "pattern": {
              "fillmode": "overlay",
              "size": 10,
              "solidity": 0.2
             }
            },
            "type": "histogram"
           }
          ],
          "histogram2d": [
           {
            "colorbar": {
             "outlinewidth": 0,
             "ticks": ""
            },
            "colorscale": [
             [
              0,
              "#0d0887"
             ],
             [
              0.1111111111111111,
              "#46039f"
             ],
             [
              0.2222222222222222,
              "#7201a8"
             ],
             [
              0.3333333333333333,
              "#9c179e"
             ],
             [
              0.4444444444444444,
              "#bd3786"
             ],
             [
              0.5555555555555556,
              "#d8576b"
             ],
             [
              0.6666666666666666,
              "#ed7953"
             ],
             [
              0.7777777777777778,
              "#fb9f3a"
             ],
             [
              0.8888888888888888,
              "#fdca26"
             ],
             [
              1,
              "#f0f921"
             ]
            ],
            "type": "histogram2d"
           }
          ],
          "histogram2dcontour": [
           {
            "colorbar": {
             "outlinewidth": 0,
             "ticks": ""
            },
            "colorscale": [
             [
              0,
              "#0d0887"
             ],
             [
              0.1111111111111111,
              "#46039f"
             ],
             [
              0.2222222222222222,
              "#7201a8"
             ],
             [
              0.3333333333333333,
              "#9c179e"
             ],
             [
              0.4444444444444444,
              "#bd3786"
             ],
             [
              0.5555555555555556,
              "#d8576b"
             ],
             [
              0.6666666666666666,
              "#ed7953"
             ],
             [
              0.7777777777777778,
              "#fb9f3a"
             ],
             [
              0.8888888888888888,
              "#fdca26"
             ],
             [
              1,
              "#f0f921"
             ]
            ],
            "type": "histogram2dcontour"
           }
          ],
          "mesh3d": [
           {
            "colorbar": {
             "outlinewidth": 0,
             "ticks": ""
            },
            "type": "mesh3d"
           }
          ],
          "parcoords": [
           {
            "line": {
             "colorbar": {
              "outlinewidth": 0,
              "ticks": ""
             }
            },
            "type": "parcoords"
           }
          ],
          "pie": [
           {
            "automargin": true,
            "type": "pie"
           }
          ],
          "scatter": [
           {
            "fillpattern": {
             "fillmode": "overlay",
             "size": 10,
             "solidity": 0.2
            },
            "type": "scatter"
           }
          ],
          "scatter3d": [
           {
            "line": {
             "colorbar": {
              "outlinewidth": 0,
              "ticks": ""
             }
            },
            "marker": {
             "colorbar": {
              "outlinewidth": 0,
              "ticks": ""
             }
            },
            "type": "scatter3d"
           }
          ],
          "scattercarpet": [
           {
            "marker": {
             "colorbar": {
              "outlinewidth": 0,
              "ticks": ""
             }
            },
            "type": "scattercarpet"
           }
          ],
          "scattergeo": [
           {
            "marker": {
             "colorbar": {
              "outlinewidth": 0,
              "ticks": ""
             }
            },
            "type": "scattergeo"
           }
          ],
          "scattergl": [
           {
            "marker": {
             "colorbar": {
              "outlinewidth": 0,
              "ticks": ""
             }
            },
            "type": "scattergl"
           }
          ],
          "scattermapbox": [
           {
            "marker": {
             "colorbar": {
              "outlinewidth": 0,
              "ticks": ""
             }
            },
            "type": "scattermapbox"
           }
          ],
          "scatterpolar": [
           {
            "marker": {
             "colorbar": {
              "outlinewidth": 0,
              "ticks": ""
             }
            },
            "type": "scatterpolar"
           }
          ],
          "scatterpolargl": [
           {
            "marker": {
             "colorbar": {
              "outlinewidth": 0,
              "ticks": ""
             }
            },
            "type": "scatterpolargl"
           }
          ],
          "scatterternary": [
           {
            "marker": {
             "colorbar": {
              "outlinewidth": 0,
              "ticks": ""
             }
            },
            "type": "scatterternary"
           }
          ],
          "surface": [
           {
            "colorbar": {
             "outlinewidth": 0,
             "ticks": ""
            },
            "colorscale": [
             [
              0,
              "#0d0887"
             ],
             [
              0.1111111111111111,
              "#46039f"
             ],
             [
              0.2222222222222222,
              "#7201a8"
             ],
             [
              0.3333333333333333,
              "#9c179e"
             ],
             [
              0.4444444444444444,
              "#bd3786"
             ],
             [
              0.5555555555555556,
              "#d8576b"
             ],
             [
              0.6666666666666666,
              "#ed7953"
             ],
             [
              0.7777777777777778,
              "#fb9f3a"
             ],
             [
              0.8888888888888888,
              "#fdca26"
             ],
             [
              1,
              "#f0f921"
             ]
            ],
            "type": "surface"
           }
          ],
          "table": [
           {
            "cells": {
             "fill": {
              "color": "#EBF0F8"
             },
             "line": {
              "color": "white"
             }
            },
            "header": {
             "fill": {
              "color": "#C8D4E3"
             },
             "line": {
              "color": "white"
             }
            },
            "type": "table"
           }
          ]
         },
         "layout": {
          "annotationdefaults": {
           "arrowcolor": "#2a3f5f",
           "arrowhead": 0,
           "arrowwidth": 1
          },
          "autotypenumbers": "strict",
          "coloraxis": {
           "colorbar": {
            "outlinewidth": 0,
            "ticks": ""
           }
          },
          "colorscale": {
           "diverging": [
            [
             0,
             "#8e0152"
            ],
            [
             0.1,
             "#c51b7d"
            ],
            [
             0.2,
             "#de77ae"
            ],
            [
             0.3,
             "#f1b6da"
            ],
            [
             0.4,
             "#fde0ef"
            ],
            [
             0.5,
             "#f7f7f7"
            ],
            [
             0.6,
             "#e6f5d0"
            ],
            [
             0.7,
             "#b8e186"
            ],
            [
             0.8,
             "#7fbc41"
            ],
            [
             0.9,
             "#4d9221"
            ],
            [
             1,
             "#276419"
            ]
           ],
           "sequential": [
            [
             0,
             "#0d0887"
            ],
            [
             0.1111111111111111,
             "#46039f"
            ],
            [
             0.2222222222222222,
             "#7201a8"
            ],
            [
             0.3333333333333333,
             "#9c179e"
            ],
            [
             0.4444444444444444,
             "#bd3786"
            ],
            [
             0.5555555555555556,
             "#d8576b"
            ],
            [
             0.6666666666666666,
             "#ed7953"
            ],
            [
             0.7777777777777778,
             "#fb9f3a"
            ],
            [
             0.8888888888888888,
             "#fdca26"
            ],
            [
             1,
             "#f0f921"
            ]
           ],
           "sequentialminus": [
            [
             0,
             "#0d0887"
            ],
            [
             0.1111111111111111,
             "#46039f"
            ],
            [
             0.2222222222222222,
             "#7201a8"
            ],
            [
             0.3333333333333333,
             "#9c179e"
            ],
            [
             0.4444444444444444,
             "#bd3786"
            ],
            [
             0.5555555555555556,
             "#d8576b"
            ],
            [
             0.6666666666666666,
             "#ed7953"
            ],
            [
             0.7777777777777778,
             "#fb9f3a"
            ],
            [
             0.8888888888888888,
             "#fdca26"
            ],
            [
             1,
             "#f0f921"
            ]
           ]
          },
          "colorway": [
           "#636efa",
           "#EF553B",
           "#00cc96",
           "#ab63fa",
           "#FFA15A",
           "#19d3f3",
           "#FF6692",
           "#B6E880",
           "#FF97FF",
           "#FECB52"
          ],
          "font": {
           "color": "#2a3f5f"
          },
          "geo": {
           "bgcolor": "white",
           "lakecolor": "white",
           "landcolor": "#E5ECF6",
           "showlakes": true,
           "showland": true,
           "subunitcolor": "white"
          },
          "hoverlabel": {
           "align": "left"
          },
          "hovermode": "closest",
          "mapbox": {
           "style": "light"
          },
          "paper_bgcolor": "white",
          "plot_bgcolor": "#E5ECF6",
          "polar": {
           "angularaxis": {
            "gridcolor": "white",
            "linecolor": "white",
            "ticks": ""
           },
           "bgcolor": "#E5ECF6",
           "radialaxis": {
            "gridcolor": "white",
            "linecolor": "white",
            "ticks": ""
           }
          },
          "scene": {
           "xaxis": {
            "backgroundcolor": "#E5ECF6",
            "gridcolor": "white",
            "gridwidth": 2,
            "linecolor": "white",
            "showbackground": true,
            "ticks": "",
            "zerolinecolor": "white"
           },
           "yaxis": {
            "backgroundcolor": "#E5ECF6",
            "gridcolor": "white",
            "gridwidth": 2,
            "linecolor": "white",
            "showbackground": true,
            "ticks": "",
            "zerolinecolor": "white"
           },
           "zaxis": {
            "backgroundcolor": "#E5ECF6",
            "gridcolor": "white",
            "gridwidth": 2,
            "linecolor": "white",
            "showbackground": true,
            "ticks": "",
            "zerolinecolor": "white"
           }
          },
          "shapedefaults": {
           "line": {
            "color": "#2a3f5f"
           }
          },
          "ternary": {
           "aaxis": {
            "gridcolor": "white",
            "linecolor": "white",
            "ticks": ""
           },
           "baxis": {
            "gridcolor": "white",
            "linecolor": "white",
            "ticks": ""
           },
           "bgcolor": "#E5ECF6",
           "caxis": {
            "gridcolor": "white",
            "linecolor": "white",
            "ticks": ""
           }
          },
          "title": {
           "x": 0.05
          },
          "xaxis": {
           "automargin": true,
           "gridcolor": "white",
           "linecolor": "white",
           "ticks": "",
           "title": {
            "standoff": 15
           },
           "zerolinecolor": "white",
           "zerolinewidth": 2
          },
          "yaxis": {
           "automargin": true,
           "gridcolor": "white",
           "linecolor": "white",
           "ticks": "",
           "title": {
            "standoff": 15
           },
           "zerolinecolor": "white",
           "zerolinewidth": 2
          }
         }
        },
        "title": {
         "text": "Yield by Carcass Weight and Quality"
        },
        "xaxis": {
         "anchor": "y",
         "domain": [
          0,
          1
         ],
         "title": {
          "text": "Yield Score"
         }
        },
        "yaxis": {
         "anchor": "x",
         "domain": [
          0,
          1
         ],
         "title": {
          "text": "sum of Carcass Weight"
         }
        }
       }
      }
     },
     "metadata": {},
     "output_type": "display_data"
    }
   ],
   "source": [
    "fig_quality_weight = px.histogram(filtered_superDf, y=\"Carcass_Weight\", x=\"Yield\", color=\"Quality\", \n",
    "                                title=\"Yield by Carcass Weight and Quality\", \n",
    "                                labels={\"Carcass_Weight\": \"Carcass Weight\", \"Yield\": \"Yield Score\"})\n",
    "\n",
    "# Displaying the plot\n",
    "fig_quality_weight.show()"
   ]
  },
  {
   "cell_type": "code",
   "execution_count": null,
   "metadata": {},
   "outputs": [
    {
     "data": {
      "text/html": [
       "<div>\n",
       "<style scoped>\n",
       "    .dataframe tbody tr th:only-of-type {\n",
       "        vertical-align: middle;\n",
       "    }\n",
       "\n",
       "    .dataframe tbody tr th {\n",
       "        vertical-align: top;\n",
       "    }\n",
       "\n",
       "    .dataframe thead th {\n",
       "        text-align: right;\n",
       "    }\n",
       "</style>\n",
       "<table border=\"1\" class=\"dataframe\">\n",
       "  <thead>\n",
       "    <tr style=\"text-align: right;\">\n",
       "      <th></th>\n",
       "      <th>Sire_y</th>\n",
       "      <th>Quality</th>\n",
       "      <th>Average_Yield</th>\n",
       "      <th>Count</th>\n",
       "    </tr>\n",
       "  </thead>\n",
       "  <tbody>\n",
       "    <tr>\n",
       "      <th>0</th>\n",
       "      <td>AF28735</td>\n",
       "      <td>CH</td>\n",
       "      <td>3.304348</td>\n",
       "      <td>23</td>\n",
       "    </tr>\n",
       "    <tr>\n",
       "      <th>1</th>\n",
       "      <td>AF28735</td>\n",
       "      <td>CHG</td>\n",
       "      <td>3.0</td>\n",
       "      <td>4</td>\n",
       "    </tr>\n",
       "    <tr>\n",
       "      <th>2</th>\n",
       "      <td>AF28735</td>\n",
       "      <td>P</td>\n",
       "      <td>3.545455</td>\n",
       "      <td>11</td>\n",
       "    </tr>\n",
       "    <tr>\n",
       "      <th>3</th>\n",
       "      <td>AF31519</td>\n",
       "      <td>CH</td>\n",
       "      <td>2.666667</td>\n",
       "      <td>3</td>\n",
       "    </tr>\n",
       "    <tr>\n",
       "      <th>4</th>\n",
       "      <td>AF31519</td>\n",
       "      <td>CHG</td>\n",
       "      <td>3.0</td>\n",
       "      <td>2</td>\n",
       "    </tr>\n",
       "  </tbody>\n",
       "</table>\n",
       "</div>"
      ],
      "text/plain": [
       "    Sire_y Quality Average_Yield  Count\n",
       "0  AF28735      CH      3.304348     23\n",
       "1  AF28735     CHG           3.0      4\n",
       "2  AF28735       P      3.545455     11\n",
       "3  AF31519      CH      2.666667      3\n",
       "4  AF31519     CHG           3.0      2"
      ]
     },
     "execution_count": 18,
     "metadata": {},
     "output_type": "execute_result"
    }
   ],
   "source": [
    "# Filter relevant columns for analysis\n",
    "quality_analysis_df = filtered_superDf[['Sire_y', 'Quality', 'Yield']].dropna()\n",
    "\n",
    "# Group by sire and quality, then calculate the mean yield per quality level for each sire\n",
    "sire_quality_summary = quality_analysis_df.groupby(['Sire_y', 'Quality']).agg(\n",
    "    Average_Yield=('Yield', 'mean'),\n",
    "    Count=('Yield', 'size')\n",
    ").reset_index()\n",
    "\n",
    "# Display the grouped summary for insight\n",
    "sire_quality_summary.head()"
   ]
  },
  {
   "cell_type": "code",
   "execution_count": null,
   "metadata": {},
   "outputs": [
    {
     "data": {
      "image/png": "[encoded data removed]",
      "text/plain": [
       "<Figure size 1400x700 with 1 Axes>"
      ]
     },
     "metadata": {},
     "output_type": "display_data"
    }
   ],
   "source": [
    "import matplotlib.pyplot as plt\n",
    "\n",
    "# Pivot the summary to show average yield across quality ratings for each sire\n",
    "pivot_summary = sire_quality_summary.pivot(index='Sire_y', columns='Quality', values='Average_Yield')\n",
    "\n",
    "# Plot the data to visualize any trends in quality and yield ratings by sire\n",
    "pivot_summary.plot(kind='bar', figsize=(14, 7), title=\"Average Yield by Beef Quality Rating for Each Sire\")\n",
    "plt.xlabel(\"Sire\")\n",
    "plt.ylabel(\"Average Yield\")\n",
    "plt.legend(title=\"Beef Quality Rating\")\n",
    "plt.xticks(rotation=45)\n",
    "plt.tight_layout()\n",
    "plt.show()"
   ]
  },
  {
   "cell_type": "code",
   "execution_count": null,
   "metadata": {},
   "outputs": [
    {
     "data": {
      "text/html": [
       "<div>\n",
       "<style scoped>\n",
       "    .dataframe tbody tr th:only-of-type {\n",
       "        vertical-align: middle;\n",
       "    }\n",
       "\n",
       "    .dataframe tbody tr th {\n",
       "        vertical-align: top;\n",
       "    }\n",
       "\n",
       "    .dataframe thead th {\n",
       "        text-align: right;\n",
       "    }\n",
       "</style>\n",
       "<table border=\"1\" class=\"dataframe\">\n",
       "  <thead>\n",
       "    <tr style=\"text-align: right;\">\n",
       "      <th></th>\n",
       "      <th>Sire_y</th>\n",
       "      <th>Average_Quality_Score</th>\n",
       "      <th>Average_Yield</th>\n",
       "      <th>Count</th>\n",
       "    </tr>\n",
       "  </thead>\n",
       "  <tbody>\n",
       "    <tr>\n",
       "      <th>8</th>\n",
       "      <td>AF40258</td>\n",
       "      <td>2.800000</td>\n",
       "      <td>3.0</td>\n",
       "      <td>7</td>\n",
       "    </tr>\n",
       "    <tr>\n",
       "      <th>14</th>\n",
       "      <td>AF62396</td>\n",
       "      <td>2.727273</td>\n",
       "      <td>3.083333</td>\n",
       "      <td>12</td>\n",
       "    </tr>\n",
       "    <tr>\n",
       "      <th>12</th>\n",
       "      <td>AF42330</td>\n",
       "      <td>2.705882</td>\n",
       "      <td>3.529412</td>\n",
       "      <td>17</td>\n",
       "    </tr>\n",
       "    <tr>\n",
       "      <th>15</th>\n",
       "      <td>AF62449</td>\n",
       "      <td>2.666667</td>\n",
       "      <td>3.333333</td>\n",
       "      <td>9</td>\n",
       "    </tr>\n",
       "    <tr>\n",
       "      <th>7</th>\n",
       "      <td>AF40212</td>\n",
       "      <td>2.657143</td>\n",
       "      <td>3.285714</td>\n",
       "      <td>35</td>\n",
       "    </tr>\n",
       "    <tr>\n",
       "      <th>13</th>\n",
       "      <td>AF42333</td>\n",
       "      <td>2.600000</td>\n",
       "      <td>4.0</td>\n",
       "      <td>5</td>\n",
       "    </tr>\n",
       "    <tr>\n",
       "      <th>1</th>\n",
       "      <td>AF31519</td>\n",
       "      <td>2.571429</td>\n",
       "      <td>3.0</td>\n",
       "      <td>9</td>\n",
       "    </tr>\n",
       "    <tr>\n",
       "      <th>3</th>\n",
       "      <td>AF34651</td>\n",
       "      <td>2.562500</td>\n",
       "      <td>3.277778</td>\n",
       "      <td>18</td>\n",
       "    </tr>\n",
       "    <tr>\n",
       "      <th>5</th>\n",
       "      <td>AF36497</td>\n",
       "      <td>2.555556</td>\n",
       "      <td>3.259259</td>\n",
       "      <td>27</td>\n",
       "    </tr>\n",
       "    <tr>\n",
       "      <th>4</th>\n",
       "      <td>AF35081</td>\n",
       "      <td>2.500000</td>\n",
       "      <td>3.5</td>\n",
       "      <td>4</td>\n",
       "    </tr>\n",
       "  </tbody>\n",
       "</table>\n",
       "</div>"
      ],
      "text/plain": [
       "     Sire_y  Average_Quality_Score Average_Yield  Count\n",
       "8   AF40258               2.800000           3.0      7\n",
       "14  AF62396               2.727273      3.083333     12\n",
       "12  AF42330               2.705882      3.529412     17\n",
       "15  AF62449               2.666667      3.333333      9\n",
       "7   AF40212               2.657143      3.285714     35\n",
       "13  AF42333               2.600000           4.0      5\n",
       "1   AF31519               2.571429           3.0      9\n",
       "3   AF34651               2.562500      3.277778     18\n",
       "5   AF36497               2.555556      3.259259     27\n",
       "4   AF35081               2.500000           3.5      4"
      ]
     },
     "execution_count": 20,
     "metadata": {},
     "output_type": "execute_result"
    }
   ],
   "source": [
    "# Filter relevant columns for sire analysis\n",
    "sire_analysis_df = filtered_superDf[['Sire_y', 'Quality', 'Yield']].dropna()\n",
    "\n",
    "# Convert Quality to numerical values for correlation analysis\n",
    "quality_mapping = {'P': 3, 'CH': 2, 'SE': 1}\n",
    "sire_analysis_df['Quality_Score'] = sire_analysis_df['Quality'].map(quality_mapping)\n",
    "\n",
    "# Calculate correlation between each sire and the quality score\n",
    "sire_correlation = sire_analysis_df.groupby('Sire_y').agg(\n",
    "    Average_Quality_Score=('Quality_Score', 'mean'),\n",
    "    Average_Yield=('Yield', 'mean'),\n",
    "    Count=('Quality_Score', 'size')\n",
    ").reset_index()\n",
    "\n",
    "# Sort to show top sires based on average quality score and yield\n",
    "top_sires = sire_correlation.sort_values(by=['Average_Quality_Score', 'Average_Yield'], ascending=False)\n",
    "\n",
    "# Display the top sires\n",
    "top_sires.head(10)"
   ]
  },
  {
   "cell_type": "code",
   "execution_count": null,
   "metadata": {},
   "outputs": [
    {
     "data": {
      "text/html": [
       "<div>\n",
       "<style scoped>\n",
       "    .dataframe tbody tr th:only-of-type {\n",
       "        vertical-align: middle;\n",
       "    }\n",
       "\n",
       "    .dataframe tbody tr th {\n",
       "        vertical-align: top;\n",
       "    }\n",
       "\n",
       "    .dataframe thead th {\n",
       "        text-align: right;\n",
       "    }\n",
       "</style>\n",
       "<table border=\"1\" class=\"dataframe\">\n",
       "  <thead>\n",
       "    <tr style=\"text-align: right;\">\n",
       "      <th></th>\n",
       "      <th>Dam</th>\n",
       "      <th>Average_Quality_Score</th>\n",
       "      <th>Average_Yield</th>\n",
       "      <th>Count</th>\n",
       "    </tr>\n",
       "  </thead>\n",
       "  <tbody>\n",
       "    <tr>\n",
       "      <th>2</th>\n",
       "      <td>1T110150</td>\n",
       "      <td>3.0</td>\n",
       "      <td>5.0</td>\n",
       "      <td>1</td>\n",
       "    </tr>\n",
       "    <tr>\n",
       "      <th>3</th>\n",
       "      <td>1T110151</td>\n",
       "      <td>3.0</td>\n",
       "      <td>5.0</td>\n",
       "      <td>1</td>\n",
       "    </tr>\n",
       "    <tr>\n",
       "      <th>4</th>\n",
       "      <td>1T110154</td>\n",
       "      <td>3.0</td>\n",
       "      <td>5.0</td>\n",
       "      <td>1</td>\n",
       "    </tr>\n",
       "    <tr>\n",
       "      <th>11</th>\n",
       "      <td>1T110161</td>\n",
       "      <td>3.0</td>\n",
       "      <td>5.0</td>\n",
       "      <td>1</td>\n",
       "    </tr>\n",
       "    <tr>\n",
       "      <th>21</th>\n",
       "      <td>1T110172</td>\n",
       "      <td>3.0</td>\n",
       "      <td>5.0</td>\n",
       "      <td>1</td>\n",
       "    </tr>\n",
       "    <tr>\n",
       "      <th>22</th>\n",
       "      <td>1T110173</td>\n",
       "      <td>3.0</td>\n",
       "      <td>5.0</td>\n",
       "      <td>1</td>\n",
       "    </tr>\n",
       "    <tr>\n",
       "      <th>24</th>\n",
       "      <td>1T110175</td>\n",
       "      <td>3.0</td>\n",
       "      <td>5.0</td>\n",
       "      <td>1</td>\n",
       "    </tr>\n",
       "    <tr>\n",
       "      <th>27</th>\n",
       "      <td>1T110178</td>\n",
       "      <td>3.0</td>\n",
       "      <td>5.0</td>\n",
       "      <td>1</td>\n",
       "    </tr>\n",
       "    <tr>\n",
       "      <th>43</th>\n",
       "      <td>1T110194</td>\n",
       "      <td>3.0</td>\n",
       "      <td>5.0</td>\n",
       "      <td>1</td>\n",
       "    </tr>\n",
       "    <tr>\n",
       "      <th>63</th>\n",
       "      <td>1T110216</td>\n",
       "      <td>3.0</td>\n",
       "      <td>5.0</td>\n",
       "      <td>1</td>\n",
       "    </tr>\n",
       "  </tbody>\n",
       "</table>\n",
       "</div>"
      ],
      "text/plain": [
       "         Dam  Average_Quality_Score Average_Yield  Count\n",
       "2   1T110150                    3.0           5.0      1\n",
       "3   1T110151                    3.0           5.0      1\n",
       "4   1T110154                    3.0           5.0      1\n",
       "11  1T110161                    3.0           5.0      1\n",
       "21  1T110172                    3.0           5.0      1\n",
       "22  1T110173                    3.0           5.0      1\n",
       "24  1T110175                    3.0           5.0      1\n",
       "27  1T110178                    3.0           5.0      1\n",
       "43  1T110194                    3.0           5.0      1\n",
       "63  1T110216                    3.0           5.0      1"
      ]
     },
     "execution_count": 21,
     "metadata": {},
     "output_type": "execute_result"
    }
   ],
   "source": [
    "# Filter relevant columns for dam analysis\n",
    "dam_analysis_df = filtered_superDf[['Registration Number_y', 'Quality', 'Yield']].dropna()\n",
    "dam_analysis_df.rename(columns={'Registration Number_y': 'Dam'}, inplace=True)\n",
    "\n",
    "# Convert Quality to numerical values for correlation analysis\n",
    "dam_analysis_df['Quality_Score'] = dam_analysis_df['Quality'].map(quality_mapping)\n",
    "\n",
    "# Calculate correlation between each dam and the quality score\n",
    "dam_correlation = dam_analysis_df.groupby('Dam').agg(\n",
    "    Average_Quality_Score=('Quality_Score', 'mean'),\n",
    "    Average_Yield=('Yield', 'mean'),\n",
    "    Count=('Quality_Score', 'size')\n",
    ").reset_index()\n",
    "\n",
    "# Sort to show top dams based on average quality score and yield\n",
    "top_dams = dam_correlation.sort_values(by=['Average_Quality_Score', 'Average_Yield'], ascending=False)\n",
    "\n",
    "# Display the top dams\n",
    "top_dams.head(10)\n"
   ]
  },
  {
   "cell_type": "code",
   "execution_count": null,
   "metadata": {},
   "outputs": [
    {
     "data": {
      "text/html": [
       "<div>\n",
       "<style scoped>\n",
       "    .dataframe tbody tr th:only-of-type {\n",
       "        vertical-align: middle;\n",
       "    }\n",
       "\n",
       "    .dataframe tbody tr th {\n",
       "        vertical-align: top;\n",
       "    }\n",
       "\n",
       "    .dataframe thead th {\n",
       "        text-align: right;\n",
       "    }\n",
       "</style>\n",
       "<table border=\"1\" class=\"dataframe\">\n",
       "  <thead>\n",
       "    <tr style=\"text-align: right;\">\n",
       "      <th></th>\n",
       "      <th>Sire_y</th>\n",
       "      <th>Dam</th>\n",
       "      <th>Average_Quality_Score</th>\n",
       "      <th>Average_Yield</th>\n",
       "      <th>Count</th>\n",
       "    </tr>\n",
       "  </thead>\n",
       "  <tbody>\n",
       "    <tr>\n",
       "      <th>0</th>\n",
       "      <td>AF28735</td>\n",
       "      <td>1T110161</td>\n",
       "      <td>3.0</td>\n",
       "      <td>5.0</td>\n",
       "      <td>1</td>\n",
       "    </tr>\n",
       "    <tr>\n",
       "      <th>56</th>\n",
       "      <td>AF34651</td>\n",
       "      <td>1T110173</td>\n",
       "      <td>3.0</td>\n",
       "      <td>5.0</td>\n",
       "      <td>1</td>\n",
       "    </tr>\n",
       "    <tr>\n",
       "      <th>75</th>\n",
       "      <td>AF36497</td>\n",
       "      <td>1T110151</td>\n",
       "      <td>3.0</td>\n",
       "      <td>5.0</td>\n",
       "      <td>1</td>\n",
       "    </tr>\n",
       "    <tr>\n",
       "      <th>111</th>\n",
       "      <td>AF40212</td>\n",
       "      <td>1T110154</td>\n",
       "      <td>3.0</td>\n",
       "      <td>5.0</td>\n",
       "      <td>1</td>\n",
       "    </tr>\n",
       "    <tr>\n",
       "      <th>115</th>\n",
       "      <td>AF40212</td>\n",
       "      <td>1T110178</td>\n",
       "      <td>3.0</td>\n",
       "      <td>5.0</td>\n",
       "      <td>1</td>\n",
       "    </tr>\n",
       "    <tr>\n",
       "      <th>148</th>\n",
       "      <td>AF40818</td>\n",
       "      <td>1T110175</td>\n",
       "      <td>3.0</td>\n",
       "      <td>5.0</td>\n",
       "      <td>1</td>\n",
       "    </tr>\n",
       "    <tr>\n",
       "      <th>204</th>\n",
       "      <td>AF42330</td>\n",
       "      <td>1T110172</td>\n",
       "      <td>3.0</td>\n",
       "      <td>5.0</td>\n",
       "      <td>1</td>\n",
       "    </tr>\n",
       "    <tr>\n",
       "      <th>207</th>\n",
       "      <td>AF42330</td>\n",
       "      <td>1T110236</td>\n",
       "      <td>3.0</td>\n",
       "      <td>5.0</td>\n",
       "      <td>1</td>\n",
       "    </tr>\n",
       "    <tr>\n",
       "      <th>211</th>\n",
       "      <td>AF42330</td>\n",
       "      <td>1T110271</td>\n",
       "      <td>3.0</td>\n",
       "      <td>5.0</td>\n",
       "      <td>1</td>\n",
       "    </tr>\n",
       "    <tr>\n",
       "      <th>219</th>\n",
       "      <td>AF42333</td>\n",
       "      <td>1T110150</td>\n",
       "      <td>3.0</td>\n",
       "      <td>5.0</td>\n",
       "      <td>1</td>\n",
       "    </tr>\n",
       "  </tbody>\n",
       "</table>\n",
       "</div>"
      ],
      "text/plain": [
       "      Sire_y       Dam  Average_Quality_Score Average_Yield  Count\n",
       "0    AF28735  1T110161                    3.0           5.0      1\n",
       "56   AF34651  1T110173                    3.0           5.0      1\n",
       "75   AF36497  1T110151                    3.0           5.0      1\n",
       "111  AF40212  1T110154                    3.0           5.0      1\n",
       "115  AF40212  1T110178                    3.0           5.0      1\n",
       "148  AF40818  1T110175                    3.0           5.0      1\n",
       "204  AF42330  1T110172                    3.0           5.0      1\n",
       "207  AF42330  1T110236                    3.0           5.0      1\n",
       "211  AF42330  1T110271                    3.0           5.0      1\n",
       "219  AF42333  1T110150                    3.0           5.0      1"
      ]
     },
     "execution_count": 22,
     "metadata": {},
     "output_type": "execute_result"
    }
   ],
   "source": [
    "sire_dam_analysis_df = filtered_superDf[['Sire_y', 'Registration Number_y', 'Quality', 'Yield']].dropna()\n",
    "sire_dam_analysis_df.rename(columns={'Registration Number_y': 'Dam'}, inplace=True)\n",
    "\n",
    "# Convert Quality to numerical values for correlation analysis\n",
    "sire_dam_analysis_df['Quality_Score'] = sire_dam_analysis_df['Quality'].map(quality_mapping)\n",
    "\n",
    "# Calculate correlation for sire-dam pairs and the quality score\n",
    "sire_dam_correlation = sire_dam_analysis_df.groupby(['Sire_y', 'Dam']).agg(\n",
    "    Average_Quality_Score=('Quality_Score', 'mean'),\n",
    "    Average_Yield=('Yield', 'mean'),\n",
    "    Count=('Quality_Score', 'size')\n",
    ").reset_index()\n",
    "\n",
    "# Sort to show top sire-dam pairs based on average quality score and yield\n",
    "top_sire_dam_pairs = sire_dam_correlation.sort_values(by=['Average_Quality_Score', 'Average_Yield'], ascending=False)\n",
    "\n",
    "# Display the top sire-dam pairs\n",
    "top_sire_dam_pairs.head(10)"
   ]
  },
  {
   "cell_type": "code",
   "execution_count": null,
   "metadata": {},
   "outputs": [
    {
     "data": {
      "text/plain": [
       "['Status/Disposal',\n",
       " 'Brand',\n",
       " 'Brand Location',\n",
       " 'Tattoo',\n",
       " 'Tattoo Location',\n",
       " 'Name',\n",
       " 'Registration Number_x',\n",
       " 'Breeder',\n",
       " 'Breeder Member Number',\n",
       " 'Owner',\n",
       " 'Owner Member Number',\n",
       " 'Date of Birth',\n",
       " 'Birth Method',\n",
       " 'Sire_x',\n",
       " 'Dam',\n",
       " 'Status',\n",
       " 'Type or Sex',\n",
       " 'Breed 1',\n",
       " 'Breed 2',\n",
       " 'Breed 3',\n",
       " 'Breed Comp 1',\n",
       " 'Breed Comp 2',\n",
       " 'Breed Comp 3',\n",
       " 'Horns',\n",
       " 'EPDType',\n",
       " 'EPD Reporting Period',\n",
       " 'CED',\n",
       " 'CED Acc',\n",
       " 'BW',\n",
       " 'BW Acc',\n",
       " 'WW',\n",
       " 'WW Acc',\n",
       " 'YW',\n",
       " 'YW Acc',\n",
       " 'MK',\n",
       " 'MK Acc',\n",
       " 'TM',\n",
       " 'Birth Weight',\n",
       " 'Adjusted Birth Weight',\n",
       " 'Birth Contemp Group',\n",
       " 'Birth contemporaries',\n",
       " 'Birth Weight Ratio',\n",
       " 'Calving Ease',\n",
       " 'Twin code',\n",
       " 'Weaning Date',\n",
       " 'Weaning Weight Date',\n",
       " 'Weaning Weight',\n",
       " 'Adjusted Weaning Weight',\n",
       " 'Weaning Contemp Group',\n",
       " 'Weaning Contemporaries',\n",
       " 'Weaning Weight Ratio',\n",
       " 'Weaning WDA',\n",
       " 'Weaning Mgmt Code',\n",
       " 'Weaning Pasture Code',\n",
       " 'Yearling Date',\n",
       " 'Yearling Weight Date',\n",
       " 'Yearling Weight',\n",
       " 'Adjusted Yearling Weight',\n",
       " 'Yearling Contemp Group',\n",
       " 'Yearling Contemporaries',\n",
       " 'Yearling Weight Ratio',\n",
       " 'Yearling WDA',\n",
       " 'Yearling ADG',\n",
       " 'Yearling Mgmt Code',\n",
       " 'Yearling Pasture Code',\n",
       " 'Growth',\n",
       " 'Year_Born',\n",
       " 'Age',\n",
       " 'Designation',\n",
       " 'phn',\n",
       " 'animal_name',\n",
       " 'sire',\n",
       " 'sire_phn',\n",
       " 'sire_name',\n",
       " 'dam',\n",
       " 'dam_phn',\n",
       " 'dam_name',\n",
       " 'sire_sire',\n",
       " 'sire_sire_phn',\n",
       " 'sire_sire_name',\n",
       " 'sire_dam',\n",
       " 'sire_dam_phn',\n",
       " 'sire_dam_name',\n",
       " 'dam_sire',\n",
       " 'dam_sire_phn',\n",
       " 'dam_sire_name',\n",
       " 'dam_dam',\n",
       " 'dam_dam_phn',\n",
       " 'dam_dam_name',\n",
       " 'sire_sire_sire',\n",
       " 'sire_sire_sire_phn',\n",
       " 'sire_sire_sire_name',\n",
       " 'sire_sire_dam',\n",
       " 'sire_sire_dam_phn',\n",
       " 'sire_sire_dam_name',\n",
       " 'sire_dam_sire',\n",
       " 'sire_dam_sire_phn',\n",
       " 'sire_dam_sire_name',\n",
       " 'sire_dam_dam',\n",
       " 'sire_dam_dam_phn',\n",
       " 'sire_dam_dam_name',\n",
       " 'dam_sire_sire',\n",
       " 'dam_sire_sire_phn',\n",
       " 'dam_sire_sire_name',\n",
       " 'dam_sire_dam',\n",
       " 'dam_sire_dam_phn',\n",
       " 'dam_sire_dam_name',\n",
       " 'dam_dam_sire',\n",
       " 'dam_dam_sire_phn',\n",
       " 'dam_dam_sire_name',\n",
       " 'dam_dam_dam',\n",
       " 'dam_dam_dam_phn',\n",
       " 'dam_dam_dam_name',\n",
       " 'sire_sire_sire_sire',\n",
       " 'sire_sire_sire_sire_phn',\n",
       " 'sire_sire_sire_sire_name',\n",
       " 'sire_sire_sire_dam',\n",
       " 'sire_sire_sire_dam_phn',\n",
       " 'sire_sire_sire_dam_name',\n",
       " 'sire_sire_dam_sire',\n",
       " 'sire_sire_dam_sire_phn',\n",
       " 'sire_sire_dam_sire_name',\n",
       " 'sire_sire_dam_dam',\n",
       " 'sire_sire_dam_dam_phn',\n",
       " 'sire_sire_dam_dam_name',\n",
       " 'dam_sire_sire_sire',\n",
       " 'dam_sire_sire_sire_phn',\n",
       " 'dam_sire_sire_sire_name',\n",
       " 'dam_sire_sire_dam',\n",
       " 'dam_sire_sire_dam_phn',\n",
       " 'dam_sire_sire_dam_name',\n",
       " 'dam_sire_dam_sire',\n",
       " 'dam_sire_dam_sire_phn',\n",
       " 'dam_sire_dam_sire_name',\n",
       " 'dam_sire_dam_dam',\n",
       " 'dam_sire_dam_dam_phn',\n",
       " 'dam_sire_dam_dam_name',\n",
       " 'sire_dam_sire_sire',\n",
       " 'sire_dam_sire_sire_phn',\n",
       " 'sire_dam_sire_sire_name',\n",
       " 'sire_dam_sire_dam',\n",
       " 'sire_dam_sire_dam_phn',\n",
       " 'sire_dam_sire_dam_name',\n",
       " 'sire_dam_dam_sire',\n",
       " 'sire_dam_dam_sire_phn',\n",
       " 'sire_dam_dam_sire_name',\n",
       " 'sire_dam_dam_dam',\n",
       " 'sire_dam_dam_dam_phn',\n",
       " 'sire_dam_dam_dam_name',\n",
       " 'dam_dam_sire_sire',\n",
       " 'dam_dam_sire_sire_phn',\n",
       " 'dam_dam_sire_sire_name',\n",
       " 'dam_dam_sire_dam',\n",
       " 'dam_dam_sire_dam_phn',\n",
       " 'dam_dam_sire_dam_name',\n",
       " 'dam_dam_dam_sire',\n",
       " 'dam_dam_dam_sire_phn',\n",
       " 'dam_dam_dam_sire_name',\n",
       " 'dam_dam_dam_dam',\n",
       " 'dam_dam_dam_dam_phn',\n",
       " 'dam_dam_dam_dam_name',\n",
       " '_merge',\n",
       " 'Carcass_Number',\n",
       " 'Sex',\n",
       " 'Color',\n",
       " 'Carcass_Weight',\n",
       " 'Quality',\n",
       " 'Yield',\n",
       " 'Member_Name',\n",
       " 'Registration Number_y',\n",
       " 'Sire_y',\n",
       " 'Member_ID',\n",
       " 'carcass_merge']"
      ]
     },
     "execution_count": 23,
     "metadata": {},
     "output_type": "execute_result"
    }
   ],
   "source": [
    "filtered_superDf.columns.to_list()"
   ]
  },
  {
   "cell_type": "code",
   "execution_count": null,
   "metadata": {},
   "outputs": [
    {
     "data": {
      "image/png": "[encoded data removed]",
      "text/plain": [
       "<Figure size 1000x600 with 1 Axes>"
      ]
     },
     "metadata": {},
     "output_type": "display_data"
    }
   ],
   "source": [
    "import pandas as pd\n",
    "import matplotlib.pyplot as plt\n",
    "\n",
    "def analyze_exclusive_prime_ancestors(dataframe):\n",
    "    # Define ancestor columns in the pedigree\n",
    "    ancestor_columns = [\n",
    "        'sire_name', 'dam_name', 'sire_sire_name', 'sire_dam_name', 'dam_sire_name', 'dam_dam_name',\n",
    "        'sire_sire_sire_name', 'sire_sire_dam_name', 'sire_dam_sire_name', 'sire_dam_dam_name',\n",
    "        'dam_sire_sire_name', 'dam_sire_dam_name', 'dam_dam_sire_name', 'dam_dam_dam_name',\n",
    "        'sire_sire_sire_sire_name', 'sire_sire_sire_dam_name', 'sire_sire_dam_sire_name', \n",
    "        'sire_sire_dam_dam_name', 'dam_sire_sire_sire_name', 'dam_sire_sire_dam_name', \n",
    "        'dam_sire_dam_sire_name', 'dam_sire_dam_dam_name', 'sire_dam_sire_sire_name', \n",
    "        'sire_dam_sire_dam_name', 'sire_dam_dam_sire_name', 'sire_dam_dam_dam_name', \n",
    "        'dam_dam_sire_sire_name', 'dam_dam_sire_dam_name', 'dam_dam_dam_sire_name', \n",
    "        'dam_dam_dam_dam_name'\n",
    "    ]\n",
    "    \n",
    "    # Separate dataframes for Prime-rated and lower-rated cows\n",
    "    prime_ancestors_df = dataframe[dataframe['Quality'] == 'P'][ancestor_columns].melt(value_name='Ancestor_Name').dropna()\n",
    "    lower_quality_df = dataframe[dataframe['Quality'].isin(['CH', 'SE'])]\n",
    "\n",
    "    # Identify ancestors in lower-quality-rated cows\n",
    "    lower_quality_ancestors = lower_quality_df[ancestor_columns].melt(value_name='Ancestor_Name').dropna()\n",
    "    lower_quality_ancestor_set = set(lower_quality_ancestors['Ancestor_Name'].unique())\n",
    "    \n",
    "    # Filter Prime ancestors to exclude any that also appear in lower quality ratings\n",
    "    exclusive_prime_ancestors = prime_ancestors_df[~prime_ancestors_df['Ancestor_Name'].isin(lower_quality_ancestor_set)]\n",
    "    \n",
    "    # Count frequencies of these exclusive Prime-rated ancestors\n",
    "    exclusive_ancestor_frequencies = exclusive_prime_ancestors['Ancestor_Name'].value_counts()\n",
    "    \n",
    "    # Plot the top 10 exclusive ancestors associated only with Prime quality\n",
    "    top_exclusive_ancestors = exclusive_ancestor_frequencies.head(10)\n",
    "    plt.figure(figsize=(10, 6))\n",
    "    top_exclusive_ancestors.plot(kind='bar', color='skyblue')\n",
    "    plt.title('Top Ancestors Unique to Prime-Rated Cows')\n",
    "    plt.xlabel('Ancestor Name')\n",
    "    plt.ylabel('Frequency')\n",
    "    plt.xticks(rotation=45)\n",
    "    plt.tight_layout()\n",
    "    plt.show()\n",
    "\n",
    "# Usage example:\n",
    "# Assuming 'filtered_superDf' is loaded with the relevant columns.\n",
    "analyze_exclusive_prime_ancestors(filtered_superDf)\n"
   ]
  },
  {
   "cell_type": "code",
   "execution_count": null,
   "metadata": {},
   "outputs": [
    {
     "data": {
      "image/png": "[encoded data removed]",
      "text/plain": [
       "<Figure size 1000x600 with 1 Axes>"
      ]
     },
     "metadata": {},
     "output_type": "display_data"
    }
   ],
   "source": [
    "import pandas as pd\n",
    "import matplotlib.pyplot as plt\n",
    "\n",
    "def analyze_lower_quality_ancestors(dataframe):\n",
    "    # Define ancestor columns in the pedigree\n",
    "    ancestor_columns = [\n",
    "        'sire_name', 'dam_name', 'sire_sire_name', 'sire_dam_name', 'dam_sire_name', 'dam_dam_name',\n",
    "        'sire_sire_sire_name', 'sire_sire_dam_name', 'sire_dam_sire_name', 'sire_dam_dam_name',\n",
    "        'dam_sire_sire_name', 'dam_sire_dam_name', 'dam_dam_sire_name', 'dam_dam_dam_name',\n",
    "        'sire_sire_sire_sire_name', 'sire_sire_sire_dam_name', 'sire_sire_dam_sire_name', \n",
    "        'sire_sire_dam_dam_name', 'dam_sire_sire_sire_name', 'dam_sire_sire_dam_name', \n",
    "        'dam_sire_dam_sire_name', 'dam_sire_dam_dam_name', 'sire_dam_sire_sire_name', \n",
    "        'sire_dam_sire_dam_name', 'sire_dam_dam_sire_name', 'sire_dam_dam_dam_name', \n",
    "        'dam_dam_sire_sire_name', 'dam_dam_sire_dam_name', 'dam_dam_dam_sire_name', \n",
    "        'dam_dam_dam_dam_name'\n",
    "    ]\n",
    "\n",
    "    # Separate dataframes for Prime and lower quality ratings (Select and Choice)\n",
    "    prime_ancestors_df = dataframe[dataframe['Quality'] == 'P'][ancestor_columns].melt(value_name='Ancestor_Name').dropna()\n",
    "    lower_quality_df = dataframe[dataframe['Quality'].isin(['CH', 'SE'])]\n",
    "\n",
    "    # Find ancestors in lower-quality-rated cows\n",
    "    lower_quality_ancestors = lower_quality_df[ancestor_columns].melt(value_name='Ancestor_Name').dropna()\n",
    "    lower_quality_ancestor_counts = lower_quality_ancestors['Ancestor_Name'].value_counts()\n",
    "    \n",
    "    # Exclude ancestors that appear in Prime-rated cows\n",
    "    prime_ancestors_set = set(prime_ancestors_df['Ancestor_Name'].unique())\n",
    "    lower_only_ancestors = lower_quality_ancestor_counts[~lower_quality_ancestor_counts.index.isin(prime_ancestors_set)]\n",
    "    \n",
    "    # Plot the top 10 ancestors unique to lower quality ratings\n",
    "    top_lower_only_ancestors = lower_only_ancestors.head(10)\n",
    "    plt.figure(figsize=(10, 6))\n",
    "    top_lower_only_ancestors.plot(kind='bar', color='salmon')\n",
    "    plt.title('Top Ancestors Unique to Lower Quality Ratings (Select and Choice)')\n",
    "    plt.xlabel('Ancestor Name')\n",
    "    plt.ylabel('Frequency')\n",
    "    plt.xticks(rotation=45)\n",
    "    plt.tight_layout()\n",
    "    plt.show()\n",
    "\n",
    "# Usage example:\n",
    "# Assuming 'filtered_superDf' is loaded with the relevant columns.\n",
    "analyze_lower_quality_ancestors(filtered_superDf)\n"
   ]
  },
  {
   "cell_type": "code",
   "execution_count": null,
   "metadata": {},
   "outputs": [
    {
     "name": "stderr",
     "output_type": "stream",
     "text": [
      "C:\\Users\\case4\\AppData\\Local\\Temp\\ipykernel_13276\\2015027885.py:8: SettingWithCopyWarning:\n",
      "\n",
      "\n",
      "A value is trying to be set on a copy of a slice from a DataFrame.\n",
      "Try using .loc[row_indexer,col_indexer] = value instead\n",
      "\n",
      "See the caveats in the documentation: https://pandas.pydata.org/pandas-docs/stable/user_guide/indexing.html#returning-a-view-versus-a-copy\n",
      "\n"
     ]
    },
    {
     "data": {
      "image/png": "[encoded data removed]",
      "text/plain": [
       "<Figure size 1200x800 with 2 Axes>"
      ]
     },
     "metadata": {},
     "output_type": "display_data"
    }
   ],
   "source": [
    "import pandas as pd\n",
    "import seaborn as sns\n",
    "import matplotlib.pyplot as plt\n",
    "\n",
    "def sire_dam_quality_correlation(dataframe):\n",
    "    # Map quality ratings to numerical values\n",
    "    quality_mapping = {'P': 3, 'CH': 2, 'SE': 1}\n",
    "    dataframe['Quality_Score'] = dataframe['Quality'].map(quality_mapping)\n",
    "    \n",
    "    # Group by sire and dam, then calculate mean quality score for each combination\n",
    "    sire_dam_quality_df = dataframe.groupby(['sire_name', 'dam_name'])['Quality_Score'].mean().unstack()\n",
    "    \n",
    "    # Plot the correlation heatmap\n",
    "    plt.figure(figsize=(12, 8))\n",
    "    sns.heatmap(sire_dam_quality_df, annot=True, cmap=\"YlGnBu\", cbar_kws={'label': 'Average Quality Score'})\n",
    "    plt.title(\"Correlation of Sire and Dam with Average Quality Score\")\n",
    "    plt.xlabel(\"Dam\")\n",
    "    plt.ylabel(\"Sire\")\n",
    "    plt.xticks(rotation=45)\n",
    "    plt.yticks(rotation=0)\n",
    "    plt.tight_layout()\n",
    "    plt.show()\n",
    "\n",
    "# Usage example:\n",
    "# Assuming 'filtered_superDf' is loaded with the relevant columns.\n",
    "sire_dam_quality_correlation(filtered_superDf)\n"
   ]
  },
  {
   "cell_type": "code",
   "execution_count": null,
   "metadata": {},
   "outputs": [
    {
     "name": "stderr",
     "output_type": "stream",
     "text": [
      "C:\\Users\\case4\\AppData\\Local\\Temp\\ipykernel_13276\\606835998.py:6: SettingWithCopyWarning:\n",
      "\n",
      "\n",
      "A value is trying to be set on a copy of a slice from a DataFrame.\n",
      "Try using .loc[row_indexer,col_indexer] = value instead\n",
      "\n",
      "See the caveats in the documentation: https://pandas.pydata.org/pandas-docs/stable/user_guide/indexing.html#returning-a-view-versus-a-copy\n",
      "\n"
     ]
    },
    {
     "data": {
      "text/html": [
       "<div>\n",
       "<style scoped>\n",
       "    .dataframe tbody tr th:only-of-type {\n",
       "        vertical-align: middle;\n",
       "    }\n",
       "\n",
       "    .dataframe tbody tr th {\n",
       "        vertical-align: top;\n",
       "    }\n",
       "\n",
       "    .dataframe thead th {\n",
       "        text-align: right;\n",
       "    }\n",
       "</style>\n",
       "<table border=\"1\" class=\"dataframe\">\n",
       "  <thead>\n",
       "    <tr style=\"text-align: right;\">\n",
       "      <th></th>\n",
       "      <th>sire_name</th>\n",
       "      <th>dam_name</th>\n",
       "      <th>Quality_Score</th>\n",
       "    </tr>\n",
       "  </thead>\n",
       "  <tbody>\n",
       "    <tr>\n",
       "      <th>0</th>\n",
       "      <td>TWINWOOD TW0757Z</td>\n",
       "      <td>952</td>\n",
       "      <td>3.0</td>\n",
       "    </tr>\n",
       "    <tr>\n",
       "      <th>1</th>\n",
       "      <td>BEEMAN 0704Z</td>\n",
       "      <td>023</td>\n",
       "      <td>3.0</td>\n",
       "    </tr>\n",
       "    <tr>\n",
       "      <th>2</th>\n",
       "      <td>TWINWOOD TW0757Z</td>\n",
       "      <td>932</td>\n",
       "      <td>3.0</td>\n",
       "    </tr>\n",
       "    <tr>\n",
       "      <th>3</th>\n",
       "      <td>TWINWOOD TW0757Z</td>\n",
       "      <td>220</td>\n",
       "      <td>3.0</td>\n",
       "    </tr>\n",
       "    <tr>\n",
       "      <th>4</th>\n",
       "      <td>TWINWOOD TW0757Z</td>\n",
       "      <td>214</td>\n",
       "      <td>3.0</td>\n",
       "    </tr>\n",
       "    <tr>\n",
       "      <th>5</th>\n",
       "      <td>TWINWOOD TW0757Z</td>\n",
       "      <td>209</td>\n",
       "      <td>3.0</td>\n",
       "    </tr>\n",
       "    <tr>\n",
       "      <th>6</th>\n",
       "      <td>TWINWOOD TW0757Z</td>\n",
       "      <td>204</td>\n",
       "      <td>3.0</td>\n",
       "    </tr>\n",
       "    <tr>\n",
       "      <th>7</th>\n",
       "      <td>TWINWOOD TW0757Z</td>\n",
       "      <td>05</td>\n",
       "      <td>3.0</td>\n",
       "    </tr>\n",
       "    <tr>\n",
       "      <th>8</th>\n",
       "      <td>RED ANGUS BULL</td>\n",
       "      <td>RED ANGUS COW</td>\n",
       "      <td>3.0</td>\n",
       "    </tr>\n",
       "    <tr>\n",
       "      <th>9</th>\n",
       "      <td>HEARTBRAND 1177Z</td>\n",
       "      <td>419</td>\n",
       "      <td>3.0</td>\n",
       "    </tr>\n",
       "    <tr>\n",
       "      <th>10</th>\n",
       "      <td>HEARTBRAND 1177Z</td>\n",
       "      <td>418</td>\n",
       "      <td>3.0</td>\n",
       "    </tr>\n",
       "    <tr>\n",
       "      <th>11</th>\n",
       "      <td>HEARTBRAND 1177Z</td>\n",
       "      <td>301</td>\n",
       "      <td>3.0</td>\n",
       "    </tr>\n",
       "    <tr>\n",
       "      <th>12</th>\n",
       "      <td>HEARTBRAND 1177Z</td>\n",
       "      <td>251</td>\n",
       "      <td>3.0</td>\n",
       "    </tr>\n",
       "    <tr>\n",
       "      <th>13</th>\n",
       "      <td>HEARTBRAND 1177Z</td>\n",
       "      <td>242</td>\n",
       "      <td>3.0</td>\n",
       "    </tr>\n",
       "    <tr>\n",
       "      <th>14</th>\n",
       "      <td>HEARTBRAND 1177Z</td>\n",
       "      <td>226</td>\n",
       "      <td>3.0</td>\n",
       "    </tr>\n",
       "    <tr>\n",
       "      <th>15</th>\n",
       "      <td>HEARTBRAND 1118Z</td>\n",
       "      <td>607</td>\n",
       "      <td>3.0</td>\n",
       "    </tr>\n",
       "    <tr>\n",
       "      <th>16</th>\n",
       "      <td>HEARTBRAND 1118Z</td>\n",
       "      <td>421</td>\n",
       "      <td>3.0</td>\n",
       "    </tr>\n",
       "    <tr>\n",
       "      <th>17</th>\n",
       "      <td>HEARTBRAND 1118Z</td>\n",
       "      <td>416</td>\n",
       "      <td>3.0</td>\n",
       "    </tr>\n",
       "    <tr>\n",
       "      <th>18</th>\n",
       "      <td>HEARTBRAND 1118Z</td>\n",
       "      <td>016</td>\n",
       "      <td>3.0</td>\n",
       "    </tr>\n",
       "    <tr>\n",
       "      <th>19</th>\n",
       "      <td>HEARTBRAND 6902D</td>\n",
       "      <td>ARTESIAN ALEXIS 212</td>\n",
       "      <td>3.0</td>\n",
       "    </tr>\n",
       "    <tr>\n",
       "      <th>20</th>\n",
       "      <td>HEARTBRAND 6902D</td>\n",
       "      <td>017</td>\n",
       "      <td>3.0</td>\n",
       "    </tr>\n",
       "    <tr>\n",
       "      <th>21</th>\n",
       "      <td>HEARTBRAND 3628B</td>\n",
       "      <td>ARTESIAN KRISTAN 450</td>\n",
       "      <td>3.0</td>\n",
       "    </tr>\n",
       "    <tr>\n",
       "      <th>22</th>\n",
       "      <td>HEARTBRAND 3628B</td>\n",
       "      <td>527</td>\n",
       "      <td>3.0</td>\n",
       "    </tr>\n",
       "    <tr>\n",
       "      <th>23</th>\n",
       "      <td>HEARTBRAND 3628B</td>\n",
       "      <td>448</td>\n",
       "      <td>3.0</td>\n",
       "    </tr>\n",
       "    <tr>\n",
       "      <th>24</th>\n",
       "      <td>HEARTBRAND 3628B</td>\n",
       "      <td>447</td>\n",
       "      <td>3.0</td>\n",
       "    </tr>\n",
       "    <tr>\n",
       "      <th>25</th>\n",
       "      <td>HEARTBRAND 3628B</td>\n",
       "      <td>418</td>\n",
       "      <td>3.0</td>\n",
       "    </tr>\n",
       "    <tr>\n",
       "      <th>26</th>\n",
       "      <td>HEARTBRAND 3628B</td>\n",
       "      <td>415</td>\n",
       "      <td>3.0</td>\n",
       "    </tr>\n",
       "    <tr>\n",
       "      <th>27</th>\n",
       "      <td>HEARTBRAND 3628B</td>\n",
       "      <td>413</td>\n",
       "      <td>3.0</td>\n",
       "    </tr>\n",
       "    <tr>\n",
       "      <th>28</th>\n",
       "      <td>HEARTBRAND 1186Z</td>\n",
       "      <td>427</td>\n",
       "      <td>3.0</td>\n",
       "    </tr>\n",
       "    <tr>\n",
       "      <th>29</th>\n",
       "      <td>HEARTBRAND 1186Z</td>\n",
       "      <td>422</td>\n",
       "      <td>3.0</td>\n",
       "    </tr>\n",
       "  </tbody>\n",
       "</table>\n",
       "</div>"
      ],
      "text/plain": [
       "           sire_name              dam_name  Quality_Score\n",
       "0   TWINWOOD TW0757Z                   952            3.0\n",
       "1       BEEMAN 0704Z                   023            3.0\n",
       "2   TWINWOOD TW0757Z                   932            3.0\n",
       "3   TWINWOOD TW0757Z                   220            3.0\n",
       "4   TWINWOOD TW0757Z                   214            3.0\n",
       "5   TWINWOOD TW0757Z                   209            3.0\n",
       "6   TWINWOOD TW0757Z                   204            3.0\n",
       "7   TWINWOOD TW0757Z                    05            3.0\n",
       "8     RED ANGUS BULL         RED ANGUS COW            3.0\n",
       "9   HEARTBRAND 1177Z                   419            3.0\n",
       "10  HEARTBRAND 1177Z                   418            3.0\n",
       "11  HEARTBRAND 1177Z                   301            3.0\n",
       "12  HEARTBRAND 1177Z                   251            3.0\n",
       "13  HEARTBRAND 1177Z                   242            3.0\n",
       "14  HEARTBRAND 1177Z                   226            3.0\n",
       "15  HEARTBRAND 1118Z                   607            3.0\n",
       "16  HEARTBRAND 1118Z                   421            3.0\n",
       "17  HEARTBRAND 1118Z                   416            3.0\n",
       "18  HEARTBRAND 1118Z                   016            3.0\n",
       "19  HEARTBRAND 6902D   ARTESIAN ALEXIS 212            3.0\n",
       "20  HEARTBRAND 6902D                   017            3.0\n",
       "21  HEARTBRAND 3628B  ARTESIAN KRISTAN 450            3.0\n",
       "22  HEARTBRAND 3628B                   527            3.0\n",
       "23  HEARTBRAND 3628B                   448            3.0\n",
       "24  HEARTBRAND 3628B                   447            3.0\n",
       "25  HEARTBRAND 3628B                   418            3.0\n",
       "26  HEARTBRAND 3628B                   415            3.0\n",
       "27  HEARTBRAND 3628B                   413            3.0\n",
       "28  HEARTBRAND 1186Z                   427            3.0\n",
       "29  HEARTBRAND 1186Z                   422            3.0"
      ]
     },
     "execution_count": 29,
     "metadata": {},
     "output_type": "execute_result"
    }
   ],
   "source": [
    "# Create a tabular format for the sire-dam quality correlation without graphical display\n",
    "\n",
    "def sire_dam_quality_correlation_table(dataframe):\n",
    "    # Map quality ratings to numerical values for correlation\n",
    "    quality_mapping = {'P': 3, 'CH': 2, 'SE': 1}\n",
    "    dataframe['Quality_Score'] = dataframe['Quality'].map(quality_mapping)\n",
    "    \n",
    "    # Group by sire and dam, then calculate mean quality score for each combination\n",
    "    sire_dam_quality_df = dataframe.groupby(['sire_name', 'dam_name'])['Quality_Score'].mean().reset_index()\n",
    "    \n",
    "    # Sort to show the highest average quality scores first\n",
    "    sire_dam_quality_df = sire_dam_quality_df.sort_values(by='Quality_Score', ascending=False).reset_index(drop=True)\n",
    "    return sire_dam_quality_df\n",
    "\n",
    "# Generate the table using the filtered_superDf dataframe\n",
    "sire_dam_quality_correlation_table = sire_dam_quality_correlation_table(filtered_superDf)\n",
    "sire_dam_quality_correlation_table.head(30)\n"
   ]
  },
  {
   "cell_type": "code",
   "execution_count": null,
   "metadata": {},
   "outputs": [
    {
     "name": "stderr",
     "output_type": "stream",
     "text": [
      "C:\\Users\\case4\\AppData\\Local\\Temp\\ipykernel_13276\\3422754293.py:4: SettingWithCopyWarning:\n",
      "\n",
      "\n",
      "A value is trying to be set on a copy of a slice from a DataFrame.\n",
      "Try using .loc[row_indexer,col_indexer] = value instead\n",
      "\n",
      "See the caveats in the documentation: https://pandas.pydata.org/pandas-docs/stable/user_guide/indexing.html#returning-a-view-versus-a-copy\n",
      "\n",
      "C:\\Users\\case4\\AppData\\Local\\Temp\\ipykernel_13276\\3422754293.py:13: SettingWithCopyWarning:\n",
      "\n",
      "\n",
      "A value is trying to be set on a copy of a slice from a DataFrame.\n",
      "Try using .loc[row_indexer,col_indexer] = value instead\n",
      "\n",
      "See the caveats in the documentation: https://pandas.pydata.org/pandas-docs/stable/user_guide/indexing.html#returning-a-view-versus-a-copy\n",
      "\n"
     ]
    },
    {
     "ename": "NameError",
     "evalue": "name 'test_model_with_adaptive_labels_fixed' is not defined",
     "output_type": "error",
     "traceback": [
      "\u001b[1;31m---------------------------------------------------------------------------\u001b[0m",
      "\u001b[1;31mNameError\u001b[0m                                 Traceback (most recent call last)",
      "Cell \u001b[1;32mIn[31], line 29\u001b[0m\n\u001b[0;32m     27\u001b[0m y_pred_sire_only \u001b[38;5;241m=\u001b[39m model_sire_only\u001b[38;5;241m.\u001b[39mpredict(X_test)\n\u001b[0;32m     28\u001b[0m accuracy_sire_only \u001b[38;5;241m=\u001b[39m accuracy_score(y_test, y_pred_sire_only)\n\u001b[1;32m---> 29\u001b[0m report_sire_only \u001b[38;5;241m=\u001b[39m \u001b[43mtest_model_with_adaptive_labels_fixed\u001b[49m(y_test, y_pred_sire_only, quality_mapping)\n\u001b[0;32m     31\u001b[0m accuracy_sire_only, report_sire_only\n",
      "\u001b[1;31mNameError\u001b[0m: name 'test_model_with_adaptive_labels_fixed' is not defined"
     ]
    }
   ],
   "source": [
    "def prepare_data_sire_only(dataframe):\n",
    "    # Map quality ratings to numerical values for prediction target\n",
    "    quality_mapping = {'P': 3, 'CH': 2, 'SE': 1}\n",
    "    dataframe['Quality_Score'] = dataframe['Quality'].map(quality_mapping)\n",
    "    \n",
    "    # Drop rows where Quality_Score or sire_name is NaN\n",
    "    dataframe = dataframe.dropna(subset=['Quality_Score', 'sire_name'])\n",
    "    \n",
    "    # Encode sire names\n",
    "    X = dataframe[['sire_name']]\n",
    "    y = dataframe['Quality_Score']\n",
    "    label_encoder = LabelEncoder()\n",
    "    X['sire_name'] = label_encoder.fit_transform(X['sire_name'])\n",
    "    \n",
    "    # Split data into training and testing sets\n",
    "    X_train, X_test, y_train, y_test = train_test_split(X, y, test_size=0.3, random_state=42)\n",
    "    return X_train, X_test, y_train, y_test\n",
    "\n",
    "# Prepare data with only sire as a feature\n",
    "X_train, X_test, y_train, y_test = prepare_data_sire_only(filtered_superDf)\n",
    "\n",
    "# Train the model with only sire information\n",
    "model_sire_only = RandomForestClassifier(random_state=42)\n",
    "model_sire_only.fit(X_train, y_train)\n",
    "\n",
    "# Test the model and output results\n",
    "y_pred_sire_only = model_sire_only.predict(X_test)\n",
    "accuracy_sire_only = accuracy_score(y_test, y_pred_sire_only)\n",
    "report_sire_only = test_model_with_adaptive_labels_fixed(y_test, y_pred_sire_only, quality_mapping)\n",
    "\n",
    "accuracy_sire_only, report_sire_only\n"
   ]
  }
 ],
 "metadata": {
  "kernelspec": {
   "display_name": "epdAnalyzer2Env",
   "language": "python",
   "name": "python3"
  },
  "language_info": {
   "codemirror_mode": {
    "name": "ipython",
    "version": 3
   },
   "file_extension": ".py",
   "mimetype": "text/x-python",
   "name": "python",
   "nbconvert_exporter": "python",
   "pygments_lexer": "ipython3",
   "version": "3.13.0"
  }
 },
 "nbformat": 4,
 "nbformat_minor": 2
}
