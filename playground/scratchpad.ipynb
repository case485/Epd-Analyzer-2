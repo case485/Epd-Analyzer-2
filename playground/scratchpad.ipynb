{
 "cells": [
  {
   "cell_type": "code",
   "execution_count": 2,
   "metadata": {},
   "outputs": [
    {
     "name": "stdout",
     "output_type": "stream",
     "text": [
      "Defaulting to user installation because normal site-packages is not writeable\n",
      "Collecting pdfplumber\n",
      "  Using cached pdfplumber-0.11.4-py3-none-any.whl.metadata (41 kB)\n",
      "Collecting pdfminer.six==20231228 (from pdfplumber)\n",
      "  Using cached pdfminer.six-20231228-py3-none-any.whl.metadata (4.2 kB)\n",
      "Requirement already satisfied: Pillow>=9.1 in c:\\users\\case4\\appdata\\local\\packages\\pythonsoftwarefoundation.python.3.12_qbz5n2kfra8p0\\localcache\\local-packages\\python312\\site-packages (from pdfplumber) (10.4.0)\n",
      "Collecting pypdfium2>=4.18.0 (from pdfplumber)\n",
      "  Using cached pypdfium2-4.30.0-py3-none-win_amd64.whl.metadata (48 kB)\n",
      "Requirement already satisfied: charset-normalizer>=2.0.0 in c:\\users\\case4\\appdata\\local\\packages\\pythonsoftwarefoundation.python.3.12_qbz5n2kfra8p0\\localcache\\local-packages\\python312\\site-packages (from pdfminer.six==20231228->pdfplumber) (3.4.0)\n",
      "Requirement already satisfied: cryptography>=36.0.0 in c:\\users\\case4\\appdata\\local\\packages\\pythonsoftwarefoundation.python.3.12_qbz5n2kfra8p0\\localcache\\local-packages\\python312\\site-packages (from pdfminer.six==20231228->pdfplumber) (43.0.1)\n",
      "Requirement already satisfied: cffi>=1.12 in c:\\users\\case4\\appdata\\local\\packages\\pythonsoftwarefoundation.python.3.12_qbz5n2kfra8p0\\localcache\\local-packages\\python312\\site-packages (from cryptography>=36.0.0->pdfminer.six==20231228->pdfplumber) (1.17.1)\n",
      "Requirement already satisfied: pycparser in c:\\users\\case4\\appdata\\local\\packages\\pythonsoftwarefoundation.python.3.12_qbz5n2kfra8p0\\localcache\\local-packages\\python312\\site-packages (from cffi>=1.12->cryptography>=36.0.0->pdfminer.six==20231228->pdfplumber) (2.22)\n",
      "Using cached pdfplumber-0.11.4-py3-none-any.whl (59 kB)\n",
      "Using cached pdfminer.six-20231228-py3-none-any.whl (5.6 MB)\n",
      "Using cached pypdfium2-4.30.0-py3-none-win_amd64.whl (2.9 MB)\n",
      "Installing collected packages: pypdfium2, pdfminer.six, pdfplumber\n",
      "  Attempting uninstall: pdfminer.six\n",
      "    Found existing installation: pdfminer.six 20240706\n",
      "    Uninstalling pdfminer.six-20240706:\n",
      "      Successfully uninstalled pdfminer.six-20240706\n",
      "Successfully installed pdfminer.six-20231228 pdfplumber-0.11.4 pypdfium2-4.30.0\n",
      "Note: you may need to restart the kernel to use updated packages.\n"
     ]
    }
   ],
   "source": [
    "%pip install pdfplumber"
   ]
  },
  {
   "cell_type": "code",
   "execution_count": 1,
   "metadata": {},
   "outputs": [],
   "source": [
    "from bs4 import BeautifulSoup\n",
    "import streamlit as st\n",
    "import re\n",
    "import pandas as pd\n",
    "import requests\n",
    "import pdfplumber\n",
    "from datetime import datetime\n",
    "INDUSTRY_PERCENTILE_FILE = 'datafiles/Akaushi_Percentile_Ranks_LATEST.pdf'\n",
    "AA_URL = 'https://akaushi.digitalbeef.com/'"
   ]
  },
  {
   "cell_type": "code",
   "execution_count": 2,
   "metadata": {},
   "outputs": [
    {
     "name": "stderr",
     "output_type": "stream",
     "text": [
      "C:\\Users\\case4\\AppData\\Local\\Temp\\ipykernel_41032\\1571859427.py:5: DeprecationWarning: numpy.core.numeric is deprecated and has been renamed to numpy._core.numeric. The numpy._core namespace contains private NumPy internals and its use is discouraged, as NumPy internals can change without warning in any release. In practice, most real-world usage of numpy.core is to access functionality in the public NumPy API. If that is the case, use the public NumPy API. If not, you are using NumPy internals. If you would still like to access an internal attribute, use numpy._core.numeric._frombuffer.\n",
      "  df = pickle.load(f)\n"
     ]
    }
   ],
   "source": [
    "#open pickle file with dataframe\n",
    "import pickle\n",
    "import pandas as pd\n",
    "with open('../datafiles/filtered_data.pkl', 'rb') as f:\n",
    "    df = pickle.load(f)\n",
    "pd.set_option('display.max_columns', None)"
   ]
  },
  {
   "cell_type": "code",
   "execution_count": null,
   "metadata": {},
   "outputs": [],
   "source": [
    "df.columns.to_list()"
   ]
  },
  {
   "cell_type": "code",
   "execution_count": null,
   "metadata": {},
   "outputs": [],
   "source": []
  },
  {
   "cell_type": "code",
   "execution_count": 17,
   "metadata": {},
   "outputs": [
    {
     "name": "stdout",
     "output_type": "stream",
     "text": [
      "No tables found in the PDF.\n"
     ]
    }
   ],
   "source": [
    "import pdfplumber\n",
    "import pandas as pd\n",
    "import re\n",
    "\n",
    "def extract_cattle_statistics(pdf_path):\n",
    "    \"\"\"\n",
    "    Extract cattle statistics tables from PDF with specific column and row patterns.\n",
    "    \n",
    "    Args:\n",
    "        pdf_path (str): Path to the PDF file\n",
    "        \n",
    "    Returns:\n",
    "        dict: Dictionary of DataFrames, one for each table found\n",
    "    \"\"\"\n",
    "    # Define expected columns\n",
    "    expected_columns = ['categories', 'CED', 'BW', 'WW', 'YW', 'MK', 'TM', 'Growth']\n",
    "    \n",
    "    # Initialize results dictionary\n",
    "    tables_dict = {}\n",
    "    \n",
    "    def is_percentage_row(text):\n",
    "        \"\"\"Check if a row starts with a percentage pattern\"\"\"\n",
    "        return bool(re.match(r'^\\d+%$', text))\n",
    "    \n",
    "    def get_row_values(table_row):\n",
    "        \"\"\"Extract numerical values from a row\"\"\"\n",
    "        return [cell.strip() if cell else '' for cell in table_row]\n",
    "    \n",
    "    def validate_row_pattern(first_cell):\n",
    "        \"\"\"Check if the row follows expected patterns\"\"\"\n",
    "        if first_cell in ['Num Animals', 'High', 'Average', 'Low']:\n",
    "            return True\n",
    "        return is_percentage_row(first_cell)\n",
    "    \n",
    "    with pdfplumber.open(pdf_path) as pdf:\n",
    "        current_table = None\n",
    "        current_data = []\n",
    "        \n",
    "        for page in pdf.pages:\n",
    "            # Extract text and split into lines\n",
    "            text = page.extract_text()\n",
    "            lines = text.split('\\n')\n",
    "            \n",
    "            for line in lines:\n",
    "                # Skip empty lines\n",
    "                if not line.strip():\n",
    "                    continue\n",
    "                \n",
    "                # Check for new table header (contains \"Statistical Breakdown\")\n",
    "                if \"Statistical Breakdown\" in line:\n",
    "                    # Save previous table if it exists\n",
    "                    if current_data:\n",
    "                        df = pd.DataFrame(current_data, columns=expected_columns)\n",
    "                        tables_dict[current_table] = df\n",
    "                    \n",
    "                    # Start new table\n",
    "                    current_table = line.strip()\n",
    "                    current_data = []\n",
    "                    continue\n",
    "                \n",
    "                # Split line into values\n",
    "                values = line.split()\n",
    "                \n",
    "                # Check if this is a valid data row\n",
    "                if values and validate_row_pattern(values[0]):\n",
    "                    # Handle different number formats and clean data\n",
    "                    row_data = []\n",
    "                    current_value = ''\n",
    "                    \n",
    "                    for val in values:\n",
    "                        # Add to current_value if it's part of a number\n",
    "                        if re.match(r'^-?\\d*\\.?\\d*$', val) or val.endswith('%'):\n",
    "                            if current_value:\n",
    "                                current_value += ' ' + val\n",
    "                            else:\n",
    "                                current_value = val\n",
    "                        else:\n",
    "                            if current_value:\n",
    "                                row_data.append(current_value)\n",
    "                                current_value = ''\n",
    "                            row_data.append(val)\n",
    "                    \n",
    "                    # Add any remaining value\n",
    "                    if current_value:\n",
    "                        row_data.append(current_value)\n",
    "                    \n",
    "                    # Only process rows that match our expected pattern\n",
    "                    if len(row_data) == len(expected_columns):\n",
    "                        current_data.append(row_data)\n",
    "        \n",
    "        # Save the last table\n",
    "        if current_data:\n",
    "            df = pd.DataFrame(current_data, columns=expected_columns)\n",
    "            display(df)\n",
    "            tables_dict[current_table] = df\n",
    "        else: \n",
    "            print(\"No tables found in the PDF.\")\n",
    "    \n",
    "    return tables_dict\n",
    "\n",
    "\n",
    "\n",
    "# Example usage\n",
    "if __name__ == \"__main__\":\n",
    "    pdf_path = \"../datafiles/Akaushi_Percentile_Ranks_LATEST.pdf\"\n",
    "    tables = extract_cattle_statistics(pdf_path)\n",
    "   "
   ]
  },
  {
   "cell_type": "code",
   "execution_count": 20,
   "metadata": {},
   "outputs": [
    {
     "ename": "AttributeError",
     "evalue": "module 'camelot' has no attribute 'read_pdf'",
     "output_type": "error",
     "traceback": [
      "\u001b[1;31m---------------------------------------------------------------------------\u001b[0m",
      "\u001b[1;31mAttributeError\u001b[0m                            Traceback (most recent call last)",
      "Cell \u001b[1;32mIn[20], line 1\u001b[0m\n\u001b[1;32m----> 1\u001b[0m activeSiresPercentileRankDf, activeDamsPercentileRankDf, nonParentsPercentileRankDf \u001b[38;5;241m=\u001b[39m \u001b[43mextract_IndustryPercentileRankTables_from_pdf\u001b[49m\u001b[43m(\u001b[49m\u001b[43m)\u001b[49m\n",
      "Cell \u001b[1;32mIn[19], line 4\u001b[0m, in \u001b[0;36mextract_IndustryPercentileRankTables_from_pdf\u001b[1;34m()\u001b[0m\n\u001b[0;32m      1\u001b[0m \u001b[38;5;28;01mdef\u001b[39;00m \u001b[38;5;21mextract_IndustryPercentileRankTables_from_pdf\u001b[39m():\n\u001b[0;32m      2\u001b[0m     \u001b[38;5;66;03m# URL of the PDF file\u001b[39;00m\n\u001b[0;32m      3\u001b[0m     pdf_path \u001b[38;5;241m=\u001b[39m INDUSTRY_PERCENTILE_FILE\n\u001b[1;32m----> 4\u001b[0m     tables \u001b[38;5;241m=\u001b[39m \u001b[43mcamelot\u001b[49m\u001b[38;5;241;43m.\u001b[39;49m\u001b[43mread_pdf\u001b[49m(pdf_path, pages\u001b[38;5;241m=\u001b[39m\u001b[38;5;124m'\u001b[39m\u001b[38;5;124mall\u001b[39m\u001b[38;5;124m'\u001b[39m, flavor\u001b[38;5;241m=\u001b[39m\u001b[38;5;124m'\u001b[39m\u001b[38;5;124mstream\u001b[39m\u001b[38;5;124m'\u001b[39m)\n\u001b[0;32m      6\u001b[0m     \u001b[38;5;28;01mif\u001b[39;00m \u001b[38;5;28mlen\u001b[39m(tables) \u001b[38;5;241m>\u001b[39m \u001b[38;5;241m2\u001b[39m:\n\u001b[0;32m      7\u001b[0m         \u001b[38;5;28;01mtry\u001b[39;00m:\n",
      "\u001b[1;31mAttributeError\u001b[0m: module 'camelot' has no attribute 'read_pdf'"
     ]
    }
   ],
   "source": [
    "activeSiresPercentileRankDf, activeDamsPercentileRankDf, nonParentsPercentileRankDf = extract_IndustryPercentileRankTables_from_pdf()\n"
   ]
  }
 ],
 "metadata": {
  "kernelspec": {
   "display_name": "Python 3",
   "language": "python",
   "name": "python3"
  },
  "language_info": {
   "codemirror_mode": {
    "name": "ipython",
    "version": 3
   },
   "file_extension": ".py",
   "mimetype": "text/x-python",
   "name": "python",
   "nbconvert_exporter": "python",
   "pygments_lexer": "ipython3",
   "version": "3.12.7"
  }
 },
 "nbformat": 4,
 "nbformat_minor": 2
}
