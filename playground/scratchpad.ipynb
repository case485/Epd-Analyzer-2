{
 "cells": [
  {
   "cell_type": "code",
   "execution_count": 48,
   "metadata": {},
   "outputs": [
    {
     "name": "stderr",
     "output_type": "stream",
     "text": [
      "C:\\Users\\case4\\AppData\\Local\\Temp\\ipykernel_30364\\1494833445.py:5: DeprecationWarning: numpy.core.numeric is deprecated and has been renamed to numpy._core.numeric. The numpy._core namespace contains private NumPy internals and its use is discouraged, as NumPy internals can change without warning in any release. In practice, most real-world usage of numpy.core is to access functionality in the public NumPy API. If that is the case, use the public NumPy API. If not, you are using NumPy internals. If you would still like to access an internal attribute, use numpy._core.numeric._frombuffer.\n",
      "  df = pickle.load(f)\n"
     ]
    }
   ],
   "source": [
    "#open pickle file to dataframe\n",
    "import pandas as pd\n",
    "import pickle\n",
    "with open('../datafiles/filtered_data.pkl', 'rb') as f:\n",
    "    df = pickle.load(f)\n",
    "\n",
    "# Set options to display all rows and columns\n",
    "pd.set_option('display.max_rows', None)\n",
    "pd.set_option('display.max_columns', None)"
   ]
  },
  {
   "cell_type": "code",
   "execution_count": 70,
   "metadata": {},
   "outputs": [
    {
     "name": "stdout",
     "output_type": "stream",
     "text": [
      "\n",
      "### Cluster 0 Analysis ###\n",
      "Dam Cluster Average EPDs:\n",
      "CED        0.280000\n",
      "BW         2.551429\n",
      "WW        36.914286\n",
      "YW        71.685714\n",
      "MK        26.171429\n",
      "TM        44.747843\n",
      "Growth    72.567591\n",
      "dtype: float64\n",
      "\n",
      "Identified EPD Deficiencies (compared to overall means):\n",
      "CED       1.224444\n",
      "WW        3.278307\n",
      "YW        3.884656\n",
      "Growth    4.511918\n",
      "dtype: float64\n",
      "\n",
      "Selected Sire for Cluster 0: MGB1854 (ID: AF154061)\n",
      "Sire EPDs:\n",
      "CED        -3.506\n",
      "BW          3.285\n",
      "WW         54.939\n",
      "YW         95.207\n",
      "MK         26.928\n",
      "TM        54.3975\n",
      "Growth     99.411\n",
      "Name: 0, dtype: object\n",
      "\n",
      "Sire Addresses the Following Deficiencies:\n",
      "- WW: Sire improves by 18.02 units over dam cluster average.\n",
      "- YW: Sire improves by 23.52 units over dam cluster average.\n",
      "- Growth: Sire improves by 26.84 units over dam cluster average.\n",
      "\n",
      "Expected Improvement in Offspring EPDs:\n",
      "- CED: No improvement (change of -1.89 units, -676.07% change)\n",
      "- BW: No improvement (change of 0.37 units, 14.38% change)\n",
      "- WW: Improved by 9.01 units (24.41% increase)\n",
      "- YW: Improved by 11.76 units (16.41% increase)\n",
      "- MK: Improved by 0.38 units (1.45% increase)\n",
      "- TM: Improved by 4.82 units (10.78% increase)\n",
      "- Growth: Improved by 13.42 units (18.50% increase)\n"
     ]
    },
    {
     "name": "stderr",
     "output_type": "stream",
     "text": [
      "C:\\Users\\case4\\AppData\\Local\\Temp\\ipykernel_30364\\3091427072.py:26: SettingWithCopyWarning:\n",
      "\n",
      "\n",
      "A value is trying to be set on a copy of a slice from a DataFrame.\n",
      "Try using .loc[row_indexer,col_indexer] = value instead\n",
      "\n",
      "See the caveats in the documentation: https://pandas.pydata.org/pandas-docs/stable/user_guide/indexing.html#returning-a-view-versus-a-copy\n",
      "\n"
     ]
    },
    {
     "data": {
      "application/vnd.plotly.v1+json": {
       "config": {
        "plotlyServerURL": "https://plot.ly"
       },
       "data": [
        {
         "name": "Dam Average EPDs",
         "text": [
          0.28,
          2.55,
          36.91,
          71.69,
          26.17,
          44.75,
          72.57
         ],
         "textposition": "auto",
         "type": "bar",
         "x": [
          "CED",
          "BW",
          "WW",
          "YW",
          "MK",
          "TM",
          "Growth"
         ],
         "y": [
          0.28,
          2.55,
          36.91,
          71.69,
          26.17,
          44.75,
          72.57
         ]
        },
        {
         "name": "Predicted Offspring EPDs",
         "text": [
          -1.61,
          2.92,
          45.93,
          83.45,
          26.55,
          49.57,
          85.99
         ],
         "textposition": "auto",
         "type": "bar",
         "x": [
          "CED",
          "BW",
          "WW",
          "YW",
          "MK",
          "TM",
          "Growth"
         ],
         "y": [
          -1.61,
          2.92,
          45.93,
          83.45,
          26.55,
          49.57,
          85.99
         ]
        }
       ],
       "layout": {
        "barmode": "group",
        "template": {
         "data": {
          "bar": [
           {
            "error_x": {
             "color": "#2a3f5f"
            },
            "error_y": {
             "color": "#2a3f5f"
            },
            "marker": {
             "line": {
              "color": "#E5ECF6",
              "width": 0.5
             },
             "pattern": {
              "fillmode": "overlay",
              "size": 10,
              "solidity": 0.2
             }
            },
            "type": "bar"
           }
          ],
          "barpolar": [
           {
            "marker": {
             "line": {
              "color": "#E5ECF6",
              "width": 0.5
             },
             "pattern": {
              "fillmode": "overlay",
              "size": 10,
              "solidity": 0.2
             }
            },
            "type": "barpolar"
           }
          ],
          "carpet": [
           {
            "aaxis": {
             "endlinecolor": "#2a3f5f",
             "gridcolor": "white",
             "linecolor": "white",
             "minorgridcolor": "white",
             "startlinecolor": "#2a3f5f"
            },
            "baxis": {
             "endlinecolor": "#2a3f5f",
             "gridcolor": "white",
             "linecolor": "white",
             "minorgridcolor": "white",
             "startlinecolor": "#2a3f5f"
            },
            "type": "carpet"
           }
          ],
          "choropleth": [
           {
            "colorbar": {
             "outlinewidth": 0,
             "ticks": ""
            },
            "type": "choropleth"
           }
          ],
          "contour": [
           {
            "colorbar": {
             "outlinewidth": 0,
             "ticks": ""
            },
            "colorscale": [
             [
              0,
              "#0d0887"
             ],
             [
              0.1111111111111111,
              "#46039f"
             ],
             [
              0.2222222222222222,
              "#7201a8"
             ],
             [
              0.3333333333333333,
              "#9c179e"
             ],
             [
              0.4444444444444444,
              "#bd3786"
             ],
             [
              0.5555555555555556,
              "#d8576b"
             ],
             [
              0.6666666666666666,
              "#ed7953"
             ],
             [
              0.7777777777777778,
              "#fb9f3a"
             ],
             [
              0.8888888888888888,
              "#fdca26"
             ],
             [
              1,
              "#f0f921"
             ]
            ],
            "type": "contour"
           }
          ],
          "contourcarpet": [
           {
            "colorbar": {
             "outlinewidth": 0,
             "ticks": ""
            },
            "type": "contourcarpet"
           }
          ],
          "heatmap": [
           {
            "colorbar": {
             "outlinewidth": 0,
             "ticks": ""
            },
            "colorscale": [
             [
              0,
              "#0d0887"
             ],
             [
              0.1111111111111111,
              "#46039f"
             ],
             [
              0.2222222222222222,
              "#7201a8"
             ],
             [
              0.3333333333333333,
              "#9c179e"
             ],
             [
              0.4444444444444444,
              "#bd3786"
             ],
             [
              0.5555555555555556,
              "#d8576b"
             ],
             [
              0.6666666666666666,
              "#ed7953"
             ],
             [
              0.7777777777777778,
              "#fb9f3a"
             ],
             [
              0.8888888888888888,
              "#fdca26"
             ],
             [
              1,
              "#f0f921"
             ]
            ],
            "type": "heatmap"
           }
          ],
          "heatmapgl": [
           {
            "colorbar": {
             "outlinewidth": 0,
             "ticks": ""
            },
            "colorscale": [
             [
              0,
              "#0d0887"
             ],
             [
              0.1111111111111111,
              "#46039f"
             ],
             [
              0.2222222222222222,
              "#7201a8"
             ],
             [
              0.3333333333333333,
              "#9c179e"
             ],
             [
              0.4444444444444444,
              "#bd3786"
             ],
             [
              0.5555555555555556,
              "#d8576b"
             ],
             [
              0.6666666666666666,
              "#ed7953"
             ],
             [
              0.7777777777777778,
              "#fb9f3a"
             ],
             [
              0.8888888888888888,
              "#fdca26"
             ],
             [
              1,
              "#f0f921"
             ]
            ],
            "type": "heatmapgl"
           }
          ],
          "histogram": [
           {
            "marker": {
             "pattern": {
              "fillmode": "overlay",
              "size": 10,
              "solidity": 0.2
             }
            },
            "type": "histogram"
           }
          ],
          "histogram2d": [
           {
            "colorbar": {
             "outlinewidth": 0,
             "ticks": ""
            },
            "colorscale": [
             [
              0,
              "#0d0887"
             ],
             [
              0.1111111111111111,
              "#46039f"
             ],
             [
              0.2222222222222222,
              "#7201a8"
             ],
             [
              0.3333333333333333,
              "#9c179e"
             ],
             [
              0.4444444444444444,
              "#bd3786"
             ],
             [
              0.5555555555555556,
              "#d8576b"
             ],
             [
              0.6666666666666666,
              "#ed7953"
             ],
             [
              0.7777777777777778,
              "#fb9f3a"
             ],
             [
              0.8888888888888888,
              "#fdca26"
             ],
             [
              1,
              "#f0f921"
             ]
            ],
            "type": "histogram2d"
           }
          ],
          "histogram2dcontour": [
           {
            "colorbar": {
             "outlinewidth": 0,
             "ticks": ""
            },
            "colorscale": [
             [
              0,
              "#0d0887"
             ],
             [
              0.1111111111111111,
              "#46039f"
             ],
             [
              0.2222222222222222,
              "#7201a8"
             ],
             [
              0.3333333333333333,
              "#9c179e"
             ],
             [
              0.4444444444444444,
              "#bd3786"
             ],
             [
              0.5555555555555556,
              "#d8576b"
             ],
             [
              0.6666666666666666,
              "#ed7953"
             ],
             [
              0.7777777777777778,
              "#fb9f3a"
             ],
             [
              0.8888888888888888,
              "#fdca26"
             ],
             [
              1,
              "#f0f921"
             ]
            ],
            "type": "histogram2dcontour"
           }
          ],
          "mesh3d": [
           {
            "colorbar": {
             "outlinewidth": 0,
             "ticks": ""
            },
            "type": "mesh3d"
           }
          ],
          "parcoords": [
           {
            "line": {
             "colorbar": {
              "outlinewidth": 0,
              "ticks": ""
             }
            },
            "type": "parcoords"
           }
          ],
          "pie": [
           {
            "automargin": true,
            "type": "pie"
           }
          ],
          "scatter": [
           {
            "fillpattern": {
             "fillmode": "overlay",
             "size": 10,
             "solidity": 0.2
            },
            "type": "scatter"
           }
          ],
          "scatter3d": [
           {
            "line": {
             "colorbar": {
              "outlinewidth": 0,
              "ticks": ""
             }
            },
            "marker": {
             "colorbar": {
              "outlinewidth": 0,
              "ticks": ""
             }
            },
            "type": "scatter3d"
           }
          ],
          "scattercarpet": [
           {
            "marker": {
             "colorbar": {
              "outlinewidth": 0,
              "ticks": ""
             }
            },
            "type": "scattercarpet"
           }
          ],
          "scattergeo": [
           {
            "marker": {
             "colorbar": {
              "outlinewidth": 0,
              "ticks": ""
             }
            },
            "type": "scattergeo"
           }
          ],
          "scattergl": [
           {
            "marker": {
             "colorbar": {
              "outlinewidth": 0,
              "ticks": ""
             }
            },
            "type": "scattergl"
           }
          ],
          "scattermapbox": [
           {
            "marker": {
             "colorbar": {
              "outlinewidth": 0,
              "ticks": ""
             }
            },
            "type": "scattermapbox"
           }
          ],
          "scatterpolar": [
           {
            "marker": {
             "colorbar": {
              "outlinewidth": 0,
              "ticks": ""
             }
            },
            "type": "scatterpolar"
           }
          ],
          "scatterpolargl": [
           {
            "marker": {
             "colorbar": {
              "outlinewidth": 0,
              "ticks": ""
             }
            },
            "type": "scatterpolargl"
           }
          ],
          "scatterternary": [
           {
            "marker": {
             "colorbar": {
              "outlinewidth": 0,
              "ticks": ""
             }
            },
            "type": "scatterternary"
           }
          ],
          "surface": [
           {
            "colorbar": {
             "outlinewidth": 0,
             "ticks": ""
            },
            "colorscale": [
             [
              0,
              "#0d0887"
             ],
             [
              0.1111111111111111,
              "#46039f"
             ],
             [
              0.2222222222222222,
              "#7201a8"
             ],
             [
              0.3333333333333333,
              "#9c179e"
             ],
             [
              0.4444444444444444,
              "#bd3786"
             ],
             [
              0.5555555555555556,
              "#d8576b"
             ],
             [
              0.6666666666666666,
              "#ed7953"
             ],
             [
              0.7777777777777778,
              "#fb9f3a"
             ],
             [
              0.8888888888888888,
              "#fdca26"
             ],
             [
              1,
              "#f0f921"
             ]
            ],
            "type": "surface"
           }
          ],
          "table": [
           {
            "cells": {
             "fill": {
              "color": "#EBF0F8"
             },
             "line": {
              "color": "white"
             }
            },
            "header": {
             "fill": {
              "color": "#C8D4E3"
             },
             "line": {
              "color": "white"
             }
            },
            "type": "table"
           }
          ]
         },
         "layout": {
          "annotationdefaults": {
           "arrowcolor": "#2a3f5f",
           "arrowhead": 0,
           "arrowwidth": 1
          },
          "autotypenumbers": "strict",
          "coloraxis": {
           "colorbar": {
            "outlinewidth": 0,
            "ticks": ""
           }
          },
          "colorscale": {
           "diverging": [
            [
             0,
             "#8e0152"
            ],
            [
             0.1,
             "#c51b7d"
            ],
            [
             0.2,
             "#de77ae"
            ],
            [
             0.3,
             "#f1b6da"
            ],
            [
             0.4,
             "#fde0ef"
            ],
            [
             0.5,
             "#f7f7f7"
            ],
            [
             0.6,
             "#e6f5d0"
            ],
            [
             0.7,
             "#b8e186"
            ],
            [
             0.8,
             "#7fbc41"
            ],
            [
             0.9,
             "#4d9221"
            ],
            [
             1,
             "#276419"
            ]
           ],
           "sequential": [
            [
             0,
             "#0d0887"
            ],
            [
             0.1111111111111111,
             "#46039f"
            ],
            [
             0.2222222222222222,
             "#7201a8"
            ],
            [
             0.3333333333333333,
             "#9c179e"
            ],
            [
             0.4444444444444444,
             "#bd3786"
            ],
            [
             0.5555555555555556,
             "#d8576b"
            ],
            [
             0.6666666666666666,
             "#ed7953"
            ],
            [
             0.7777777777777778,
             "#fb9f3a"
            ],
            [
             0.8888888888888888,
             "#fdca26"
            ],
            [
             1,
             "#f0f921"
            ]
           ],
           "sequentialminus": [
            [
             0,
             "#0d0887"
            ],
            [
             0.1111111111111111,
             "#46039f"
            ],
            [
             0.2222222222222222,
             "#7201a8"
            ],
            [
             0.3333333333333333,
             "#9c179e"
            ],
            [
             0.4444444444444444,
             "#bd3786"
            ],
            [
             0.5555555555555556,
             "#d8576b"
            ],
            [
             0.6666666666666666,
             "#ed7953"
            ],
            [
             0.7777777777777778,
             "#fb9f3a"
            ],
            [
             0.8888888888888888,
             "#fdca26"
            ],
            [
             1,
             "#f0f921"
            ]
           ]
          },
          "colorway": [
           "#636efa",
           "#EF553B",
           "#00cc96",
           "#ab63fa",
           "#FFA15A",
           "#19d3f3",
           "#FF6692",
           "#B6E880",
           "#FF97FF",
           "#FECB52"
          ],
          "font": {
           "color": "#2a3f5f"
          },
          "geo": {
           "bgcolor": "white",
           "lakecolor": "white",
           "landcolor": "#E5ECF6",
           "showlakes": true,
           "showland": true,
           "subunitcolor": "white"
          },
          "hoverlabel": {
           "align": "left"
          },
          "hovermode": "closest",
          "mapbox": {
           "style": "light"
          },
          "paper_bgcolor": "white",
          "plot_bgcolor": "#E5ECF6",
          "polar": {
           "angularaxis": {
            "gridcolor": "white",
            "linecolor": "white",
            "ticks": ""
           },
           "bgcolor": "#E5ECF6",
           "radialaxis": {
            "gridcolor": "white",
            "linecolor": "white",
            "ticks": ""
           }
          },
          "scene": {
           "xaxis": {
            "backgroundcolor": "#E5ECF6",
            "gridcolor": "white",
            "gridwidth": 2,
            "linecolor": "white",
            "showbackground": true,
            "ticks": "",
            "zerolinecolor": "white"
           },
           "yaxis": {
            "backgroundcolor": "#E5ECF6",
            "gridcolor": "white",
            "gridwidth": 2,
            "linecolor": "white",
            "showbackground": true,
            "ticks": "",
            "zerolinecolor": "white"
           },
           "zaxis": {
            "backgroundcolor": "#E5ECF6",
            "gridcolor": "white",
            "gridwidth": 2,
            "linecolor": "white",
            "showbackground": true,
            "ticks": "",
            "zerolinecolor": "white"
           }
          },
          "shapedefaults": {
           "line": {
            "color": "#2a3f5f"
           }
          },
          "ternary": {
           "aaxis": {
            "gridcolor": "white",
            "linecolor": "white",
            "ticks": ""
           },
           "baxis": {
            "gridcolor": "white",
            "linecolor": "white",
            "ticks": ""
           },
           "bgcolor": "#E5ECF6",
           "caxis": {
            "gridcolor": "white",
            "linecolor": "white",
            "ticks": ""
           }
          },
          "title": {
           "x": 0.05
          },
          "xaxis": {
           "automargin": true,
           "gridcolor": "white",
           "linecolor": "white",
           "ticks": "",
           "title": {
            "standoff": 15
           },
           "zerolinecolor": "white",
           "zerolinewidth": 2
          },
          "yaxis": {
           "automargin": true,
           "gridcolor": "white",
           "linecolor": "white",
           "ticks": "",
           "title": {
            "standoff": 15
           },
           "zerolinecolor": "white",
           "zerolinewidth": 2
          }
         }
        },
        "title": {
         "text": "Cluster 0 EPD Improvement with Sire MGB1854"
        },
        "xaxis": {
         "title": {
          "text": "EPD Traits"
         }
        },
        "yaxis": {
         "title": {
          "text": "EPD Values"
         }
        }
       }
      }
     },
     "metadata": {},
     "output_type": "display_data"
    },
    {
     "name": "stdout",
     "output_type": "stream",
     "text": [
      "\n",
      "### Cluster 1 Analysis ###\n",
      "Dam Cluster Average EPDs:\n",
      "CED       -0.338776\n",
      "BW         3.026531\n",
      "WW        48.673469\n",
      "YW        86.489796\n",
      "MK        25.530612\n",
      "TM        49.967010\n",
      "Growth    89.138076\n",
      "dtype: float64\n",
      "\n",
      "Identified EPD Deficiencies (compared to overall means):\n",
      "CED    1.84322\n",
      "dtype: float64\n",
      "\n",
      "Selected Sire for Cluster 1: HEARTBRAND 994Z (ID: AF30264)\n",
      "Sire EPDs:\n",
      "CED        10.722\n",
      "BW          0.925\n",
      "WW         55.101\n",
      "YW         96.435\n",
      "MK         25.079\n",
      "TM        52.6295\n",
      "Growth    132.254\n",
      "Name: 6, dtype: object\n",
      "\n",
      "Sire Addresses the Following Deficiencies:\n",
      "- CED: Sire improves by 11.06 units over dam cluster average.\n",
      "\n",
      "Expected Improvement in Offspring EPDs:\n",
      "- CED: Improved by 5.53 units (1632.46% increase)\n",
      "- BW: Improved by 1.05 units (34.72% decrease)\n",
      "- WW: Improved by 3.21 units (6.60% increase)\n",
      "- YW: Improved by 4.97 units (5.75% increase)\n",
      "- MK: No improvement (change of -0.23 units, -0.88% change)\n",
      "- TM: Improved by 1.33 units (2.66% increase)\n",
      "- Growth: Improved by 21.56 units (24.18% increase)\n"
     ]
    },
    {
     "data": {
      "application/vnd.plotly.v1+json": {
       "config": {
        "plotlyServerURL": "https://plot.ly"
       },
       "data": [
        {
         "name": "Dam Average EPDs",
         "text": [
          -0.34,
          3.03,
          48.67,
          86.49,
          25.53,
          49.97,
          89.14
         ],
         "textposition": "auto",
         "type": "bar",
         "x": [
          "CED",
          "BW",
          "WW",
          "YW",
          "MK",
          "TM",
          "Growth"
         ],
         "y": [
          -0.34,
          3.03,
          48.67,
          86.49,
          25.53,
          49.97,
          89.14
         ]
        },
        {
         "name": "Predicted Offspring EPDs",
         "text": [
          5.19,
          1.98,
          51.89,
          91.46,
          25.3,
          51.3,
          110.7
         ],
         "textposition": "auto",
         "type": "bar",
         "x": [
          "CED",
          "BW",
          "WW",
          "YW",
          "MK",
          "TM",
          "Growth"
         ],
         "y": [
          5.19,
          1.98,
          51.89,
          91.46,
          25.3,
          51.3,
          110.7
         ]
        }
       ],
       "layout": {
        "barmode": "group",
        "template": {
         "data": {
          "bar": [
           {
            "error_x": {
             "color": "#2a3f5f"
            },
            "error_y": {
             "color": "#2a3f5f"
            },
            "marker": {
             "line": {
              "color": "#E5ECF6",
              "width": 0.5
             },
             "pattern": {
              "fillmode": "overlay",
              "size": 10,
              "solidity": 0.2
             }
            },
            "type": "bar"
           }
          ],
          "barpolar": [
           {
            "marker": {
             "line": {
              "color": "#E5ECF6",
              "width": 0.5
             },
             "pattern": {
              "fillmode": "overlay",
              "size": 10,
              "solidity": 0.2
             }
            },
            "type": "barpolar"
           }
          ],
          "carpet": [
           {
            "aaxis": {
             "endlinecolor": "#2a3f5f",
             "gridcolor": "white",
             "linecolor": "white",
             "minorgridcolor": "white",
             "startlinecolor": "#2a3f5f"
            },
            "baxis": {
             "endlinecolor": "#2a3f5f",
             "gridcolor": "white",
             "linecolor": "white",
             "minorgridcolor": "white",
             "startlinecolor": "#2a3f5f"
            },
            "type": "carpet"
           }
          ],
          "choropleth": [
           {
            "colorbar": {
             "outlinewidth": 0,
             "ticks": ""
            },
            "type": "choropleth"
           }
          ],
          "contour": [
           {
            "colorbar": {
             "outlinewidth": 0,
             "ticks": ""
            },
            "colorscale": [
             [
              0,
              "#0d0887"
             ],
             [
              0.1111111111111111,
              "#46039f"
             ],
             [
              0.2222222222222222,
              "#7201a8"
             ],
             [
              0.3333333333333333,
              "#9c179e"
             ],
             [
              0.4444444444444444,
              "#bd3786"
             ],
             [
              0.5555555555555556,
              "#d8576b"
             ],
             [
              0.6666666666666666,
              "#ed7953"
             ],
             [
              0.7777777777777778,
              "#fb9f3a"
             ],
             [
              0.8888888888888888,
              "#fdca26"
             ],
             [
              1,
              "#f0f921"
             ]
            ],
            "type": "contour"
           }
          ],
          "contourcarpet": [
           {
            "colorbar": {
             "outlinewidth": 0,
             "ticks": ""
            },
            "type": "contourcarpet"
           }
          ],
          "heatmap": [
           {
            "colorbar": {
             "outlinewidth": 0,
             "ticks": ""
            },
            "colorscale": [
             [
              0,
              "#0d0887"
             ],
             [
              0.1111111111111111,
              "#46039f"
             ],
             [
              0.2222222222222222,
              "#7201a8"
             ],
             [
              0.3333333333333333,
              "#9c179e"
             ],
             [
              0.4444444444444444,
              "#bd3786"
             ],
             [
              0.5555555555555556,
              "#d8576b"
             ],
             [
              0.6666666666666666,
              "#ed7953"
             ],
             [
              0.7777777777777778,
              "#fb9f3a"
             ],
             [
              0.8888888888888888,
              "#fdca26"
             ],
             [
              1,
              "#f0f921"
             ]
            ],
            "type": "heatmap"
           }
          ],
          "heatmapgl": [
           {
            "colorbar": {
             "outlinewidth": 0,
             "ticks": ""
            },
            "colorscale": [
             [
              0,
              "#0d0887"
             ],
             [
              0.1111111111111111,
              "#46039f"
             ],
             [
              0.2222222222222222,
              "#7201a8"
             ],
             [
              0.3333333333333333,
              "#9c179e"
             ],
             [
              0.4444444444444444,
              "#bd3786"
             ],
             [
              0.5555555555555556,
              "#d8576b"
             ],
             [
              0.6666666666666666,
              "#ed7953"
             ],
             [
              0.7777777777777778,
              "#fb9f3a"
             ],
             [
              0.8888888888888888,
              "#fdca26"
             ],
             [
              1,
              "#f0f921"
             ]
            ],
            "type": "heatmapgl"
           }
          ],
          "histogram": [
           {
            "marker": {
             "pattern": {
              "fillmode": "overlay",
              "size": 10,
              "solidity": 0.2
             }
            },
            "type": "histogram"
           }
          ],
          "histogram2d": [
           {
            "colorbar": {
             "outlinewidth": 0,
             "ticks": ""
            },
            "colorscale": [
             [
              0,
              "#0d0887"
             ],
             [
              0.1111111111111111,
              "#46039f"
             ],
             [
              0.2222222222222222,
              "#7201a8"
             ],
             [
              0.3333333333333333,
              "#9c179e"
             ],
             [
              0.4444444444444444,
              "#bd3786"
             ],
             [
              0.5555555555555556,
              "#d8576b"
             ],
             [
              0.6666666666666666,
              "#ed7953"
             ],
             [
              0.7777777777777778,
              "#fb9f3a"
             ],
             [
              0.8888888888888888,
              "#fdca26"
             ],
             [
              1,
              "#f0f921"
             ]
            ],
            "type": "histogram2d"
           }
          ],
          "histogram2dcontour": [
           {
            "colorbar": {
             "outlinewidth": 0,
             "ticks": ""
            },
            "colorscale": [
             [
              0,
              "#0d0887"
             ],
             [
              0.1111111111111111,
              "#46039f"
             ],
             [
              0.2222222222222222,
              "#7201a8"
             ],
             [
              0.3333333333333333,
              "#9c179e"
             ],
             [
              0.4444444444444444,
              "#bd3786"
             ],
             [
              0.5555555555555556,
              "#d8576b"
             ],
             [
              0.6666666666666666,
              "#ed7953"
             ],
             [
              0.7777777777777778,
              "#fb9f3a"
             ],
             [
              0.8888888888888888,
              "#fdca26"
             ],
             [
              1,
              "#f0f921"
             ]
            ],
            "type": "histogram2dcontour"
           }
          ],
          "mesh3d": [
           {
            "colorbar": {
             "outlinewidth": 0,
             "ticks": ""
            },
            "type": "mesh3d"
           }
          ],
          "parcoords": [
           {
            "line": {
             "colorbar": {
              "outlinewidth": 0,
              "ticks": ""
             }
            },
            "type": "parcoords"
           }
          ],
          "pie": [
           {
            "automargin": true,
            "type": "pie"
           }
          ],
          "scatter": [
           {
            "fillpattern": {
             "fillmode": "overlay",
             "size": 10,
             "solidity": 0.2
            },
            "type": "scatter"
           }
          ],
          "scatter3d": [
           {
            "line": {
             "colorbar": {
              "outlinewidth": 0,
              "ticks": ""
             }
            },
            "marker": {
             "colorbar": {
              "outlinewidth": 0,
              "ticks": ""
             }
            },
            "type": "scatter3d"
           }
          ],
          "scattercarpet": [
           {
            "marker": {
             "colorbar": {
              "outlinewidth": 0,
              "ticks": ""
             }
            },
            "type": "scattercarpet"
           }
          ],
          "scattergeo": [
           {
            "marker": {
             "colorbar": {
              "outlinewidth": 0,
              "ticks": ""
             }
            },
            "type": "scattergeo"
           }
          ],
          "scattergl": [
           {
            "marker": {
             "colorbar": {
              "outlinewidth": 0,
              "ticks": ""
             }
            },
            "type": "scattergl"
           }
          ],
          "scattermapbox": [
           {
            "marker": {
             "colorbar": {
              "outlinewidth": 0,
              "ticks": ""
             }
            },
            "type": "scattermapbox"
           }
          ],
          "scatterpolar": [
           {
            "marker": {
             "colorbar": {
              "outlinewidth": 0,
              "ticks": ""
             }
            },
            "type": "scatterpolar"
           }
          ],
          "scatterpolargl": [
           {
            "marker": {
             "colorbar": {
              "outlinewidth": 0,
              "ticks": ""
             }
            },
            "type": "scatterpolargl"
           }
          ],
          "scatterternary": [
           {
            "marker": {
             "colorbar": {
              "outlinewidth": 0,
              "ticks": ""
             }
            },
            "type": "scatterternary"
           }
          ],
          "surface": [
           {
            "colorbar": {
             "outlinewidth": 0,
             "ticks": ""
            },
            "colorscale": [
             [
              0,
              "#0d0887"
             ],
             [
              0.1111111111111111,
              "#46039f"
             ],
             [
              0.2222222222222222,
              "#7201a8"
             ],
             [
              0.3333333333333333,
              "#9c179e"
             ],
             [
              0.4444444444444444,
              "#bd3786"
             ],
             [
              0.5555555555555556,
              "#d8576b"
             ],
             [
              0.6666666666666666,
              "#ed7953"
             ],
             [
              0.7777777777777778,
              "#fb9f3a"
             ],
             [
              0.8888888888888888,
              "#fdca26"
             ],
             [
              1,
              "#f0f921"
             ]
            ],
            "type": "surface"
           }
          ],
          "table": [
           {
            "cells": {
             "fill": {
              "color": "#EBF0F8"
             },
             "line": {
              "color": "white"
             }
            },
            "header": {
             "fill": {
              "color": "#C8D4E3"
             },
             "line": {
              "color": "white"
             }
            },
            "type": "table"
           }
          ]
         },
         "layout": {
          "annotationdefaults": {
           "arrowcolor": "#2a3f5f",
           "arrowhead": 0,
           "arrowwidth": 1
          },
          "autotypenumbers": "strict",
          "coloraxis": {
           "colorbar": {
            "outlinewidth": 0,
            "ticks": ""
           }
          },
          "colorscale": {
           "diverging": [
            [
             0,
             "#8e0152"
            ],
            [
             0.1,
             "#c51b7d"
            ],
            [
             0.2,
             "#de77ae"
            ],
            [
             0.3,
             "#f1b6da"
            ],
            [
             0.4,
             "#fde0ef"
            ],
            [
             0.5,
             "#f7f7f7"
            ],
            [
             0.6,
             "#e6f5d0"
            ],
            [
             0.7,
             "#b8e186"
            ],
            [
             0.8,
             "#7fbc41"
            ],
            [
             0.9,
             "#4d9221"
            ],
            [
             1,
             "#276419"
            ]
           ],
           "sequential": [
            [
             0,
             "#0d0887"
            ],
            [
             0.1111111111111111,
             "#46039f"
            ],
            [
             0.2222222222222222,
             "#7201a8"
            ],
            [
             0.3333333333333333,
             "#9c179e"
            ],
            [
             0.4444444444444444,
             "#bd3786"
            ],
            [
             0.5555555555555556,
             "#d8576b"
            ],
            [
             0.6666666666666666,
             "#ed7953"
            ],
            [
             0.7777777777777778,
             "#fb9f3a"
            ],
            [
             0.8888888888888888,
             "#fdca26"
            ],
            [
             1,
             "#f0f921"
            ]
           ],
           "sequentialminus": [
            [
             0,
             "#0d0887"
            ],
            [
             0.1111111111111111,
             "#46039f"
            ],
            [
             0.2222222222222222,
             "#7201a8"
            ],
            [
             0.3333333333333333,
             "#9c179e"
            ],
            [
             0.4444444444444444,
             "#bd3786"
            ],
            [
             0.5555555555555556,
             "#d8576b"
            ],
            [
             0.6666666666666666,
             "#ed7953"
            ],
            [
             0.7777777777777778,
             "#fb9f3a"
            ],
            [
             0.8888888888888888,
             "#fdca26"
            ],
            [
             1,
             "#f0f921"
            ]
           ]
          },
          "colorway": [
           "#636efa",
           "#EF553B",
           "#00cc96",
           "#ab63fa",
           "#FFA15A",
           "#19d3f3",
           "#FF6692",
           "#B6E880",
           "#FF97FF",
           "#FECB52"
          ],
          "font": {
           "color": "#2a3f5f"
          },
          "geo": {
           "bgcolor": "white",
           "lakecolor": "white",
           "landcolor": "#E5ECF6",
           "showlakes": true,
           "showland": true,
           "subunitcolor": "white"
          },
          "hoverlabel": {
           "align": "left"
          },
          "hovermode": "closest",
          "mapbox": {
           "style": "light"
          },
          "paper_bgcolor": "white",
          "plot_bgcolor": "#E5ECF6",
          "polar": {
           "angularaxis": {
            "gridcolor": "white",
            "linecolor": "white",
            "ticks": ""
           },
           "bgcolor": "#E5ECF6",
           "radialaxis": {
            "gridcolor": "white",
            "linecolor": "white",
            "ticks": ""
           }
          },
          "scene": {
           "xaxis": {
            "backgroundcolor": "#E5ECF6",
            "gridcolor": "white",
            "gridwidth": 2,
            "linecolor": "white",
            "showbackground": true,
            "ticks": "",
            "zerolinecolor": "white"
           },
           "yaxis": {
            "backgroundcolor": "#E5ECF6",
            "gridcolor": "white",
            "gridwidth": 2,
            "linecolor": "white",
            "showbackground": true,
            "ticks": "",
            "zerolinecolor": "white"
           },
           "zaxis": {
            "backgroundcolor": "#E5ECF6",
            "gridcolor": "white",
            "gridwidth": 2,
            "linecolor": "white",
            "showbackground": true,
            "ticks": "",
            "zerolinecolor": "white"
           }
          },
          "shapedefaults": {
           "line": {
            "color": "#2a3f5f"
           }
          },
          "ternary": {
           "aaxis": {
            "gridcolor": "white",
            "linecolor": "white",
            "ticks": ""
           },
           "baxis": {
            "gridcolor": "white",
            "linecolor": "white",
            "ticks": ""
           },
           "bgcolor": "#E5ECF6",
           "caxis": {
            "gridcolor": "white",
            "linecolor": "white",
            "ticks": ""
           }
          },
          "title": {
           "x": 0.05
          },
          "xaxis": {
           "automargin": true,
           "gridcolor": "white",
           "linecolor": "white",
           "ticks": "",
           "title": {
            "standoff": 15
           },
           "zerolinecolor": "white",
           "zerolinewidth": 2
          },
          "yaxis": {
           "automargin": true,
           "gridcolor": "white",
           "linecolor": "white",
           "ticks": "",
           "title": {
            "standoff": 15
           },
           "zerolinecolor": "white",
           "zerolinewidth": 2
          }
         }
        },
        "title": {
         "text": "Cluster 1 EPD Improvement with Sire HEARTBRAND 994Z"
        },
        "xaxis": {
         "title": {
          "text": "EPD Traits"
         }
        },
        "yaxis": {
         "title": {
          "text": "EPD Values"
         }
        }
       }
      }
     },
     "metadata": {},
     "output_type": "display_data"
    },
    {
     "name": "stdout",
     "output_type": "stream",
     "text": [
      "\n",
      "### Cluster 2 Analysis ###\n",
      "Dam Cluster Average EPDs:\n",
      "CED        4.115686\n",
      "BW         1.050980\n",
      "WW        34.294118\n",
      "YW        67.745098\n",
      "MK        23.490196\n",
      "TM        40.670892\n",
      "Growth    68.590243\n",
      "dtype: float64\n",
      "\n",
      "Identified EPD Deficiencies (compared to overall means):\n",
      "BW        1.106057\n",
      "WW        5.898475\n",
      "YW        7.825272\n",
      "MK        1.435730\n",
      "TM        4.431134\n",
      "Growth    8.489266\n",
      "dtype: float64\n",
      "\n",
      "Selected Sire for Cluster 2: MGB1854 (ID: AF154061)\n",
      "Sire EPDs:\n",
      "CED        -3.506\n",
      "BW          3.285\n",
      "WW         54.939\n",
      "YW         95.207\n",
      "MK         26.928\n",
      "TM        54.3975\n",
      "Growth     99.411\n",
      "Name: 0, dtype: object\n",
      "\n",
      "Sire Addresses the Following Deficiencies:\n",
      "- WW: Sire improves by 20.64 units over dam cluster average.\n",
      "- YW: Sire improves by 27.46 units over dam cluster average.\n",
      "- MK: Sire improves by 3.44 units over dam cluster average.\n",
      "- TM: Sire improves by 13.73 units over dam cluster average.\n",
      "- Growth: Sire improves by 30.82 units over dam cluster average.\n",
      "\n",
      "Expected Improvement in Offspring EPDs:\n",
      "- CED: No improvement (change of -3.81 units, -92.59% change)\n",
      "- BW: No improvement (change of 1.12 units, 106.28% change)\n",
      "- WW: Improved by 10.32 units (30.10% increase)\n",
      "- YW: Improved by 13.73 units (20.27% increase)\n",
      "- MK: Improved by 1.72 units (7.32% increase)\n",
      "- TM: Improved by 6.86 units (16.88% increase)\n",
      "- Growth: Improved by 15.41 units (22.47% increase)\n"
     ]
    },
    {
     "data": {
      "application/vnd.plotly.v1+json": {
       "config": {
        "plotlyServerURL": "https://plot.ly"
       },
       "data": [
        {
         "name": "Dam Average EPDs",
         "text": [
          4.12,
          1.05,
          34.29,
          67.75,
          23.49,
          40.67,
          68.59
         ],
         "textposition": "auto",
         "type": "bar",
         "x": [
          "CED",
          "BW",
          "WW",
          "YW",
          "MK",
          "TM",
          "Growth"
         ],
         "y": [
          4.12,
          1.05,
          34.29,
          67.75,
          23.49,
          40.67,
          68.59
         ]
        },
        {
         "name": "Predicted Offspring EPDs",
         "text": [
          0.3,
          2.17,
          44.62,
          81.48,
          25.21,
          47.53,
          84
         ],
         "textposition": "auto",
         "type": "bar",
         "x": [
          "CED",
          "BW",
          "WW",
          "YW",
          "MK",
          "TM",
          "Growth"
         ],
         "y": [
          0.3,
          2.17,
          44.62,
          81.48,
          25.21,
          47.53,
          84
         ]
        }
       ],
       "layout": {
        "barmode": "group",
        "template": {
         "data": {
          "bar": [
           {
            "error_x": {
             "color": "#2a3f5f"
            },
            "error_y": {
             "color": "#2a3f5f"
            },
            "marker": {
             "line": {
              "color": "#E5ECF6",
              "width": 0.5
             },
             "pattern": {
              "fillmode": "overlay",
              "size": 10,
              "solidity": 0.2
             }
            },
            "type": "bar"
           }
          ],
          "barpolar": [
           {
            "marker": {
             "line": {
              "color": "#E5ECF6",
              "width": 0.5
             },
             "pattern": {
              "fillmode": "overlay",
              "size": 10,
              "solidity": 0.2
             }
            },
            "type": "barpolar"
           }
          ],
          "carpet": [
           {
            "aaxis": {
             "endlinecolor": "#2a3f5f",
             "gridcolor": "white",
             "linecolor": "white",
             "minorgridcolor": "white",
             "startlinecolor": "#2a3f5f"
            },
            "baxis": {
             "endlinecolor": "#2a3f5f",
             "gridcolor": "white",
             "linecolor": "white",
             "minorgridcolor": "white",
             "startlinecolor": "#2a3f5f"
            },
            "type": "carpet"
           }
          ],
          "choropleth": [
           {
            "colorbar": {
             "outlinewidth": 0,
             "ticks": ""
            },
            "type": "choropleth"
           }
          ],
          "contour": [
           {
            "colorbar": {
             "outlinewidth": 0,
             "ticks": ""
            },
            "colorscale": [
             [
              0,
              "#0d0887"
             ],
             [
              0.1111111111111111,
              "#46039f"
             ],
             [
              0.2222222222222222,
              "#7201a8"
             ],
             [
              0.3333333333333333,
              "#9c179e"
             ],
             [
              0.4444444444444444,
              "#bd3786"
             ],
             [
              0.5555555555555556,
              "#d8576b"
             ],
             [
              0.6666666666666666,
              "#ed7953"
             ],
             [
              0.7777777777777778,
              "#fb9f3a"
             ],
             [
              0.8888888888888888,
              "#fdca26"
             ],
             [
              1,
              "#f0f921"
             ]
            ],
            "type": "contour"
           }
          ],
          "contourcarpet": [
           {
            "colorbar": {
             "outlinewidth": 0,
             "ticks": ""
            },
            "type": "contourcarpet"
           }
          ],
          "heatmap": [
           {
            "colorbar": {
             "outlinewidth": 0,
             "ticks": ""
            },
            "colorscale": [
             [
              0,
              "#0d0887"
             ],
             [
              0.1111111111111111,
              "#46039f"
             ],
             [
              0.2222222222222222,
              "#7201a8"
             ],
             [
              0.3333333333333333,
              "#9c179e"
             ],
             [
              0.4444444444444444,
              "#bd3786"
             ],
             [
              0.5555555555555556,
              "#d8576b"
             ],
             [
              0.6666666666666666,
              "#ed7953"
             ],
             [
              0.7777777777777778,
              "#fb9f3a"
             ],
             [
              0.8888888888888888,
              "#fdca26"
             ],
             [
              1,
              "#f0f921"
             ]
            ],
            "type": "heatmap"
           }
          ],
          "heatmapgl": [
           {
            "colorbar": {
             "outlinewidth": 0,
             "ticks": ""
            },
            "colorscale": [
             [
              0,
              "#0d0887"
             ],
             [
              0.1111111111111111,
              "#46039f"
             ],
             [
              0.2222222222222222,
              "#7201a8"
             ],
             [
              0.3333333333333333,
              "#9c179e"
             ],
             [
              0.4444444444444444,
              "#bd3786"
             ],
             [
              0.5555555555555556,
              "#d8576b"
             ],
             [
              0.6666666666666666,
              "#ed7953"
             ],
             [
              0.7777777777777778,
              "#fb9f3a"
             ],
             [
              0.8888888888888888,
              "#fdca26"
             ],
             [
              1,
              "#f0f921"
             ]
            ],
            "type": "heatmapgl"
           }
          ],
          "histogram": [
           {
            "marker": {
             "pattern": {
              "fillmode": "overlay",
              "size": 10,
              "solidity": 0.2
             }
            },
            "type": "histogram"
           }
          ],
          "histogram2d": [
           {
            "colorbar": {
             "outlinewidth": 0,
             "ticks": ""
            },
            "colorscale": [
             [
              0,
              "#0d0887"
             ],
             [
              0.1111111111111111,
              "#46039f"
             ],
             [
              0.2222222222222222,
              "#7201a8"
             ],
             [
              0.3333333333333333,
              "#9c179e"
             ],
             [
              0.4444444444444444,
              "#bd3786"
             ],
             [
              0.5555555555555556,
              "#d8576b"
             ],
             [
              0.6666666666666666,
              "#ed7953"
             ],
             [
              0.7777777777777778,
              "#fb9f3a"
             ],
             [
              0.8888888888888888,
              "#fdca26"
             ],
             [
              1,
              "#f0f921"
             ]
            ],
            "type": "histogram2d"
           }
          ],
          "histogram2dcontour": [
           {
            "colorbar": {
             "outlinewidth": 0,
             "ticks": ""
            },
            "colorscale": [
             [
              0,
              "#0d0887"
             ],
             [
              0.1111111111111111,
              "#46039f"
             ],
             [
              0.2222222222222222,
              "#7201a8"
             ],
             [
              0.3333333333333333,
              "#9c179e"
             ],
             [
              0.4444444444444444,
              "#bd3786"
             ],
             [
              0.5555555555555556,
              "#d8576b"
             ],
             [
              0.6666666666666666,
              "#ed7953"
             ],
             [
              0.7777777777777778,
              "#fb9f3a"
             ],
             [
              0.8888888888888888,
              "#fdca26"
             ],
             [
              1,
              "#f0f921"
             ]
            ],
            "type": "histogram2dcontour"
           }
          ],
          "mesh3d": [
           {
            "colorbar": {
             "outlinewidth": 0,
             "ticks": ""
            },
            "type": "mesh3d"
           }
          ],
          "parcoords": [
           {
            "line": {
             "colorbar": {
              "outlinewidth": 0,
              "ticks": ""
             }
            },
            "type": "parcoords"
           }
          ],
          "pie": [
           {
            "automargin": true,
            "type": "pie"
           }
          ],
          "scatter": [
           {
            "fillpattern": {
             "fillmode": "overlay",
             "size": 10,
             "solidity": 0.2
            },
            "type": "scatter"
           }
          ],
          "scatter3d": [
           {
            "line": {
             "colorbar": {
              "outlinewidth": 0,
              "ticks": ""
             }
            },
            "marker": {
             "colorbar": {
              "outlinewidth": 0,
              "ticks": ""
             }
            },
            "type": "scatter3d"
           }
          ],
          "scattercarpet": [
           {
            "marker": {
             "colorbar": {
              "outlinewidth": 0,
              "ticks": ""
             }
            },
            "type": "scattercarpet"
           }
          ],
          "scattergeo": [
           {
            "marker": {
             "colorbar": {
              "outlinewidth": 0,
              "ticks": ""
             }
            },
            "type": "scattergeo"
           }
          ],
          "scattergl": [
           {
            "marker": {
             "colorbar": {
              "outlinewidth": 0,
              "ticks": ""
             }
            },
            "type": "scattergl"
           }
          ],
          "scattermapbox": [
           {
            "marker": {
             "colorbar": {
              "outlinewidth": 0,
              "ticks": ""
             }
            },
            "type": "scattermapbox"
           }
          ],
          "scatterpolar": [
           {
            "marker": {
             "colorbar": {
              "outlinewidth": 0,
              "ticks": ""
             }
            },
            "type": "scatterpolar"
           }
          ],
          "scatterpolargl": [
           {
            "marker": {
             "colorbar": {
              "outlinewidth": 0,
              "ticks": ""
             }
            },
            "type": "scatterpolargl"
           }
          ],
          "scatterternary": [
           {
            "marker": {
             "colorbar": {
              "outlinewidth": 0,
              "ticks": ""
             }
            },
            "type": "scatterternary"
           }
          ],
          "surface": [
           {
            "colorbar": {
             "outlinewidth": 0,
             "ticks": ""
            },
            "colorscale": [
             [
              0,
              "#0d0887"
             ],
             [
              0.1111111111111111,
              "#46039f"
             ],
             [
              0.2222222222222222,
              "#7201a8"
             ],
             [
              0.3333333333333333,
              "#9c179e"
             ],
             [
              0.4444444444444444,
              "#bd3786"
             ],
             [
              0.5555555555555556,
              "#d8576b"
             ],
             [
              0.6666666666666666,
              "#ed7953"
             ],
             [
              0.7777777777777778,
              "#fb9f3a"
             ],
             [
              0.8888888888888888,
              "#fdca26"
             ],
             [
              1,
              "#f0f921"
             ]
            ],
            "type": "surface"
           }
          ],
          "table": [
           {
            "cells": {
             "fill": {
              "color": "#EBF0F8"
             },
             "line": {
              "color": "white"
             }
            },
            "header": {
             "fill": {
              "color": "#C8D4E3"
             },
             "line": {
              "color": "white"
             }
            },
            "type": "table"
           }
          ]
         },
         "layout": {
          "annotationdefaults": {
           "arrowcolor": "#2a3f5f",
           "arrowhead": 0,
           "arrowwidth": 1
          },
          "autotypenumbers": "strict",
          "coloraxis": {
           "colorbar": {
            "outlinewidth": 0,
            "ticks": ""
           }
          },
          "colorscale": {
           "diverging": [
            [
             0,
             "#8e0152"
            ],
            [
             0.1,
             "#c51b7d"
            ],
            [
             0.2,
             "#de77ae"
            ],
            [
             0.3,
             "#f1b6da"
            ],
            [
             0.4,
             "#fde0ef"
            ],
            [
             0.5,
             "#f7f7f7"
            ],
            [
             0.6,
             "#e6f5d0"
            ],
            [
             0.7,
             "#b8e186"
            ],
            [
             0.8,
             "#7fbc41"
            ],
            [
             0.9,
             "#4d9221"
            ],
            [
             1,
             "#276419"
            ]
           ],
           "sequential": [
            [
             0,
             "#0d0887"
            ],
            [
             0.1111111111111111,
             "#46039f"
            ],
            [
             0.2222222222222222,
             "#7201a8"
            ],
            [
             0.3333333333333333,
             "#9c179e"
            ],
            [
             0.4444444444444444,
             "#bd3786"
            ],
            [
             0.5555555555555556,
             "#d8576b"
            ],
            [
             0.6666666666666666,
             "#ed7953"
            ],
            [
             0.7777777777777778,
             "#fb9f3a"
            ],
            [
             0.8888888888888888,
             "#fdca26"
            ],
            [
             1,
             "#f0f921"
            ]
           ],
           "sequentialminus": [
            [
             0,
             "#0d0887"
            ],
            [
             0.1111111111111111,
             "#46039f"
            ],
            [
             0.2222222222222222,
             "#7201a8"
            ],
            [
             0.3333333333333333,
             "#9c179e"
            ],
            [
             0.4444444444444444,
             "#bd3786"
            ],
            [
             0.5555555555555556,
             "#d8576b"
            ],
            [
             0.6666666666666666,
             "#ed7953"
            ],
            [
             0.7777777777777778,
             "#fb9f3a"
            ],
            [
             0.8888888888888888,
             "#fdca26"
            ],
            [
             1,
             "#f0f921"
            ]
           ]
          },
          "colorway": [
           "#636efa",
           "#EF553B",
           "#00cc96",
           "#ab63fa",
           "#FFA15A",
           "#19d3f3",
           "#FF6692",
           "#B6E880",
           "#FF97FF",
           "#FECB52"
          ],
          "font": {
           "color": "#2a3f5f"
          },
          "geo": {
           "bgcolor": "white",
           "lakecolor": "white",
           "landcolor": "#E5ECF6",
           "showlakes": true,
           "showland": true,
           "subunitcolor": "white"
          },
          "hoverlabel": {
           "align": "left"
          },
          "hovermode": "closest",
          "mapbox": {
           "style": "light"
          },
          "paper_bgcolor": "white",
          "plot_bgcolor": "#E5ECF6",
          "polar": {
           "angularaxis": {
            "gridcolor": "white",
            "linecolor": "white",
            "ticks": ""
           },
           "bgcolor": "#E5ECF6",
           "radialaxis": {
            "gridcolor": "white",
            "linecolor": "white",
            "ticks": ""
           }
          },
          "scene": {
           "xaxis": {
            "backgroundcolor": "#E5ECF6",
            "gridcolor": "white",
            "gridwidth": 2,
            "linecolor": "white",
            "showbackground": true,
            "ticks": "",
            "zerolinecolor": "white"
           },
           "yaxis": {
            "backgroundcolor": "#E5ECF6",
            "gridcolor": "white",
            "gridwidth": 2,
            "linecolor": "white",
            "showbackground": true,
            "ticks": "",
            "zerolinecolor": "white"
           },
           "zaxis": {
            "backgroundcolor": "#E5ECF6",
            "gridcolor": "white",
            "gridwidth": 2,
            "linecolor": "white",
            "showbackground": true,
            "ticks": "",
            "zerolinecolor": "white"
           }
          },
          "shapedefaults": {
           "line": {
            "color": "#2a3f5f"
           }
          },
          "ternary": {
           "aaxis": {
            "gridcolor": "white",
            "linecolor": "white",
            "ticks": ""
           },
           "baxis": {
            "gridcolor": "white",
            "linecolor": "white",
            "ticks": ""
           },
           "bgcolor": "#E5ECF6",
           "caxis": {
            "gridcolor": "white",
            "linecolor": "white",
            "ticks": ""
           }
          },
          "title": {
           "x": 0.05
          },
          "xaxis": {
           "automargin": true,
           "gridcolor": "white",
           "linecolor": "white",
           "ticks": "",
           "title": {
            "standoff": 15
           },
           "zerolinecolor": "white",
           "zerolinewidth": 2
          },
          "yaxis": {
           "automargin": true,
           "gridcolor": "white",
           "linecolor": "white",
           "ticks": "",
           "title": {
            "standoff": 15
           },
           "zerolinecolor": "white",
           "zerolinewidth": 2
          }
         }
        },
        "title": {
         "text": "Cluster 2 EPD Improvement with Sire MGB1854"
        },
        "xaxis": {
         "title": {
          "text": "EPD Traits"
         }
        },
        "yaxis": {
         "title": {
          "text": "EPD Values"
         }
        }
       }
      }
     },
     "metadata": {},
     "output_type": "display_data"
    },
    {
     "name": "stdout",
     "output_type": "stream",
     "text": [
      "\n",
      "Dams in Cluster 0:\n",
      "- AF112600\n",
      "- AF168517\n",
      "- AF173208\n",
      "- AF178217\n",
      "- AF178218\n",
      "- AF178221\n",
      "- AF178223\n",
      "- AF178224\n",
      "- AF197151\n",
      "- AF204570\n",
      "- AF217215\n",
      "- AF251303\n",
      "- AF251312\n",
      "- AF295579\n",
      "- AF295637\n",
      "- AF295639\n",
      "- AF295641\n",
      "- AF295642\n",
      "- AF295644\n",
      "- AF295645\n",
      "- AF295646\n",
      "- AF295647\n",
      "- AF295648\n",
      "- AF295651\n",
      "- AF295654\n",
      "- AF295655\n",
      "- AF295660\n",
      "- AF323236\n",
      "- AF323241\n",
      "- AF323243\n",
      "- AF323325\n",
      "- AF330801\n",
      "- AF36497\n",
      "- AF62449\n",
      "- AF91289\n",
      "\n",
      "Dams in Cluster 1:\n",
      "- AF106012\n",
      "- AF168513\n",
      "- AF170039\n",
      "- AF178219\n",
      "- AF178222\n",
      "- AF178225\n",
      "- AF197037\n",
      "- AF197130\n",
      "- AF197210\n",
      "- AF209880\n",
      "- AF21759\n",
      "- AF251294\n",
      "- AF251296\n",
      "- AF251311\n",
      "- AF274859\n",
      "- AF274862\n",
      "- AF291682\n",
      "- AF295640\n",
      "- AF295650\n",
      "- AF295652\n",
      "- AF295653\n",
      "- AF295659\n",
      "- AF295661\n",
      "- AF295668\n",
      "- AF323234\n",
      "- AF323242\n",
      "- AF323244\n",
      "- AF323245\n",
      "- AF323246\n",
      "- AF323247\n",
      "- AF323248\n",
      "- AF323252\n",
      "- AF323326\n",
      "- AF323327\n",
      "- AF323330\n",
      "- AF323332\n",
      "- AF323334\n",
      "- AF330782\n",
      "- AF330783\n",
      "- AF330784\n",
      "- AF330790\n",
      "- AF330793\n",
      "- AF330794\n",
      "- AF330795\n",
      "- AF330796\n",
      "- AF330797\n",
      "- AF330798\n",
      "- AF330799\n",
      "- AF91302\n",
      "\n",
      "Dams in Cluster 2:\n",
      "- AF106006\n",
      "- AF11048\n",
      "- AF11079\n",
      "- AF168220\n",
      "- AF168507\n",
      "- AF168578\n",
      "- AF173156\n",
      "- AF178228\n",
      "- AF178808\n",
      "- AF198103\n",
      "- AF198121\n",
      "- AF204603\n",
      "- AF20799\n",
      "- AF209876\n",
      "- AF209877\n",
      "- AF209879\n",
      "- AF21694\n",
      "- AF21701\n",
      "- AF21704\n",
      "- AF237290\n",
      "- AF237291\n",
      "- AF251300\n",
      "- AF251301\n",
      "- AF251304\n",
      "- AF274858\n",
      "- AF274860\n",
      "- AF274861\n",
      "- AF274863\n",
      "- AF295578\n",
      "- AF295635\n",
      "- AF295636\n",
      "- AF295638\n",
      "- AF295643\n",
      "- AF295649\n",
      "- AF295657\n",
      "- AF295664\n",
      "- AF295666\n",
      "- AF295667\n",
      "- AF323239\n",
      "- AF323240\n",
      "- AF323249\n",
      "- AF323328\n",
      "- AF323329\n",
      "- AF323331\n",
      "- AF323333\n",
      "- AF330785\n",
      "- AF330791\n",
      "- AF330792\n",
      "- AF330800\n",
      "- AF40212\n",
      "- AF87058\n"
     ]
    }
   ],
   "source": [
    "# Import necessary libraries\n",
    "import pandas as pd\n",
    "import numpy as np\n",
    "from sklearn.preprocessing import StandardScaler\n",
    "from sklearn.cluster import KMeans\n",
    "import plotly.graph_objs as go\n",
    "\n",
    "\n",
    "#This function will use the filteredDF for the df \n",
    "def clusterScenario(sireCSV, df):\n",
    "    epd_columns = ['CED', 'BW', 'WW', 'YW', 'MK', 'TM', 'Growth']\n",
    "    dams_df = df[df['Designation'] == 'Dam'].copy()\n",
    "    \n",
    "    #open csv file and convert to dataframe\n",
    "    sireDf = pd.read_csv(sireCSV)\n",
    "    #change column name from \"Reg No\" to \"Registration\"\n",
    "    sireDf = sireDf.rename(columns={\"Reg No\": \"Registration Number\"})\n",
    "    sireDf = sireDf.rename(columns={\"Milk\": \"MK\"})\n",
    "    sireDf = sireDf.rename(columns={\"Total Maternal\": \"TM\"})\n",
    "    sireDf = sireDf.rename(columns={\"Growth Idx\": \"Growth\"})\n",
    "    sires_df = sireDf.dropna(subset=epd_columns)\n",
    "    dams_df = df.dropna(subset=epd_columns)\n",
    "    \n",
    "    for col in epd_columns:\n",
    "        sires_df[col] = pd.to_numeric(sires_df[col], errors='coerce')\n",
    "        dams_df[col] = pd.to_numeric(dams_df[col], errors='coerce')\n",
    "\n",
    "    # Select identifier columns and EPDs\n",
    "    sires_df = sires_df[['Registration Number', 'Name'] + epd_columns]\n",
    "    sires_df.rename(columns={'Registration Number': 'Sire', 'Name': 'Sire Name'}, inplace=True)\n",
    "\n",
    "    dams_df = dams_df[['Registration Number'] + epd_columns]\n",
    "    dams_df.rename(columns={'Registration Number': 'Dam'}, inplace=True)\n",
    "\n",
    "    # Define desired traits and desired directions\n",
    "    desired_traits = {\n",
    "        'CED': 'high',      # Higher Calving Ease Direct is better\n",
    "        'BW': 'low',   # Moderate Birth Weight\n",
    "        'WW': 'high',       # Higher Weaning Weight\n",
    "        'YW': 'high',       # Higher Yearling Weight\n",
    "        'MK': 'moderate',   # Moderate Milk\n",
    "        'TM': 'moderate',   # Moderate Total Maternal\n",
    "        'Growth': 'high'    # Higher Growth\n",
    "    }\n",
    "\n",
    "    desired_directions = {\n",
    "        'CED': 'increase',  # Higher CED is better\n",
    "        'BW': 'decrease',   # Lower BW is better\n",
    "        'WW': 'increase',   # Higher WW is better\n",
    "        'YW': 'increase',   # Higher YW is better\n",
    "        'MK': 'increase',   # Higher MK is better\n",
    "        'TM': 'increase',   # Higher TM is better\n",
    "        'Growth': 'increase' # Higher Growth is better\n",
    "    }\n",
    "\n",
    "    # Function to match sires to dam clusters\n",
    "    def match_sires_to_dam_clusters(sires_df, dams_df, epd_columns, desired_traits, desired_directions, n_clusters=3):\n",
    "        \"\"\"\n",
    "        Clusters dams based on their EPDs, scores sires for each cluster, and identifies the best sire for each cluster.\n",
    "        \"\"\"\n",
    "        # Prepare dam data\n",
    "        dams_epd = dams_df[['Dam'] + epd_columns].dropna(subset=epd_columns)\n",
    "        dam_ids = dams_epd['Dam']\n",
    "        dams_epd_data = dams_epd[epd_columns]\n",
    "        \n",
    "        # Standardize dam EPDs\n",
    "        scaler = StandardScaler()\n",
    "        dams_epd_scaled = scaler.fit_transform(dams_epd_data)\n",
    "        \n",
    "        # Perform clustering on dams\n",
    "        kmeans = KMeans(n_clusters=n_clusters, random_state=42)\n",
    "        cluster_labels = kmeans.fit_predict(dams_epd_scaled)\n",
    "        dams_epd['Cluster'] = cluster_labels\n",
    "        \n",
    "        # Calculate cluster means and EPD gaps\n",
    "        cluster_means = dams_epd.groupby('Cluster')[epd_columns].mean()\n",
    "        overall_means = dams_epd[epd_columns].mean()\n",
    "        epd_gaps = cluster_means - overall_means\n",
    "        \n",
    "        # Prepare sire data\n",
    "        sires_epd = sires_df[['Sire', 'Sire Name'] + epd_columns].dropna(subset=epd_columns)\n",
    "        sire_ids = sires_epd['Sire']\n",
    "        sires_epd_data = sires_epd[epd_columns]\n",
    "        \n",
    "        # Function to calculate sire score for a cluster\n",
    "        def sire_cluster_score(sire_epds, cluster_gaps, overall_means, epd_columns, desired_traits, desired_directions):\n",
    "            score = 0\n",
    "            for epd in epd_columns:\n",
    "                trait_pref = desired_traits.get(epd)\n",
    "                desired_direction = desired_directions.get(epd)\n",
    "        \n",
    "                # Calculate the difference between the sire's EPD and the overall mean\n",
    "                sire_diff = sire_epds[epd] - overall_means[epd]\n",
    "                gap = cluster_gaps[epd]\n",
    "        \n",
    "                if trait_pref == 'high':\n",
    "                    if desired_direction == 'increase':\n",
    "                        score += sire_diff * gap\n",
    "                    elif desired_direction == 'decrease':\n",
    "                        score -= sire_diff * gap  # Since lower is better\n",
    "                elif trait_pref == 'moderate':\n",
    "                    score -= abs(sire_diff) * abs(gap)\n",
    "                elif trait_pref == 'low':\n",
    "                    if desired_direction == 'decrease':\n",
    "                        score += (-sire_diff) * gap\n",
    "                    elif desired_direction == 'increase':\n",
    "                        score -= (-sire_diff) * gap\n",
    "                else:\n",
    "                    continue\n",
    "            return score\n",
    "        \n",
    "        # Score sires for each cluster\n",
    "        sire_scores = {}\n",
    "        for index, sire in sires_epd.iterrows():\n",
    "            sire_id = sire['Sire']\n",
    "            sire_epds = sire[epd_columns]\n",
    "            scores = []\n",
    "            for cluster_num in cluster_means.index:\n",
    "                cluster_gap = epd_gaps.loc[cluster_num]\n",
    "                score = sire_cluster_score(\n",
    "                    sire_epds=sire_epds,\n",
    "                    cluster_gaps=cluster_gap,\n",
    "                    overall_means=overall_means,\n",
    "                    epd_columns=epd_columns,\n",
    "                    desired_traits=desired_traits,\n",
    "                    desired_directions=desired_directions\n",
    "                )\n",
    "                scores.append(score)\n",
    "            sire_scores[sire_id] = scores\n",
    "        \n",
    "        # Create a DataFrame of sire scores\n",
    "        sire_scores_df = pd.DataFrame(sire_scores, index=cluster_means.index)\n",
    "        \n",
    "        # Identify best sire for each cluster\n",
    "        best_sires = {}\n",
    "        for cluster_num in cluster_means.index:\n",
    "            best_sire_id = sire_scores_df.loc[cluster_num].idxmax()\n",
    "            best_sires[cluster_num] = best_sire_id\n",
    "        \n",
    "        # Predict offspring EPDs for each cluster\n",
    "        offspring_epds = {}\n",
    "        for cluster_num in cluster_means.index:\n",
    "            best_sire_id = best_sires[cluster_num]\n",
    "            sire_epds = sires_epd[sires_epd['Sire'] == best_sire_id][epd_columns].iloc[0]\n",
    "            dam_cluster_mean_epds = cluster_means.loc[cluster_num]\n",
    "            offspring_epd = (sire_epds + dam_cluster_mean_epds) / 2\n",
    "            offspring_epds[cluster_num] = offspring_epd\n",
    "        \n",
    "        # Prepare dam_clusters DataFrame\n",
    "        dam_clusters = dams_epd[['Dam', 'Cluster']]\n",
    "        \n",
    "        return dam_clusters, best_sires, offspring_epds, cluster_means, overall_means\n",
    "\n",
    "    # Function to analyze dam clusters\n",
    "    def analyze_dam_clusters(dams_df, dam_clusters, epd_columns):\n",
    "        \"\"\"\n",
    "        Analyzes each dam cluster to identify EPD deficiencies.\n",
    "        \"\"\"\n",
    "        # Merge dams with their clusters\n",
    "        dams_clustered = dams_df.merge(dam_clusters, on='Dam')\n",
    "        \n",
    "        # Calculate overall means\n",
    "        overall_means = dams_df[epd_columns].mean()\n",
    "        \n",
    "        cluster_analysis = {}\n",
    "        \n",
    "        for cluster_num in dam_clusters['Cluster'].unique():\n",
    "            cluster_dams = dams_clustered[dams_clustered['Cluster'] == cluster_num]\n",
    "            cluster_mean_epds = cluster_dams[epd_columns].mean()\n",
    "            epd_gaps = overall_means - cluster_mean_epds  # Positive values indicate deficiencies\n",
    "            \n",
    "            # Identify significant deficiencies (e.g., more than 5% below the overall mean)\n",
    "            deficiencies = epd_gaps[epd_gaps > (0.05 * overall_means)]\n",
    "            \n",
    "            cluster_analysis[cluster_num] = {\n",
    "                'mean_epds': cluster_mean_epds,\n",
    "                'deficiencies': deficiencies\n",
    "            }\n",
    "        \n",
    "        return cluster_analysis\n",
    "\n",
    "    # Function to explain sire selection\n",
    "    def explain_sire_selection(cluster_analysis, best_sires, sires_df, epd_columns):\n",
    "        \"\"\"\n",
    "        Provides explanations for why each sire was selected for a cluster.\n",
    "        \"\"\"\n",
    "        sire_explanations = {}\n",
    "        \n",
    "        for cluster_num, sire_id in best_sires.items():\n",
    "            sire_row = sires_df[sires_df['Sire'] == sire_id].iloc[0]\n",
    "            sire_epds = sire_row[epd_columns]\n",
    "            sire_name = sire_row.get('Sire Name', sire_id)\n",
    "            deficiencies = cluster_analysis[cluster_num]['deficiencies']\n",
    "            \n",
    "            # Check how sire's EPDs address deficiencies\n",
    "            improvements = {}\n",
    "            for epd in deficiencies.index:\n",
    "                sire_value = sire_epds[epd]\n",
    "                dam_cluster_mean = cluster_analysis[cluster_num]['mean_epds'][epd]\n",
    "                if desired_directions[epd] == 'increase':\n",
    "                    if sire_value > dam_cluster_mean:\n",
    "                        improvements[epd] = sire_value - dam_cluster_mean\n",
    "                elif desired_directions[epd] == 'decrease':\n",
    "                    if sire_value < dam_cluster_mean:\n",
    "                        improvements[epd] = dam_cluster_mean - sire_value\n",
    "            \n",
    "            sire_explanations[cluster_num] = {\n",
    "                'sire_id': sire_id,\n",
    "                'sire_name': sire_name,\n",
    "                'sire_epds': sire_epds,\n",
    "                'improvements': improvements\n",
    "            }\n",
    "        \n",
    "        return sire_explanations\n",
    "\n",
    "    # Function to plot EPD improvements using Plotly\n",
    "    def plot_epd_improvement(cluster_num, dam_mean_epds, offspring_epds, epd_columns, sire_name):\n",
    "        \"\"\"\n",
    "        Plots the average dam EPDs and predicted offspring EPDs for a cluster using Plotly.\n",
    "        Includes data labels and the Sire's name in the title.\n",
    "        \"\"\"\n",
    "        # Ensure that the Series are aligned and ordered\n",
    "        dam_epds = dam_mean_epds[epd_columns].round(2)\n",
    "        offspring_epds = offspring_epds[epd_columns].round(2)\n",
    "\n",
    "        # Create traces\n",
    "        trace1 = go.Bar(\n",
    "            x=epd_columns,\n",
    "            y=dam_epds.values,\n",
    "            name='Dam Average EPDs',\n",
    "            text=dam_epds.values,\n",
    "            textposition='auto'\n",
    "        )\n",
    "        trace2 = go.Bar(\n",
    "            x=epd_columns,\n",
    "            y=offspring_epds.values,\n",
    "            name='Predicted Offspring EPDs',\n",
    "            text=offspring_epds.values,\n",
    "            textposition='auto'\n",
    "        )\n",
    "\n",
    "        data = [trace1, trace2]\n",
    "\n",
    "        # Create layout\n",
    "        layout = go.Layout(\n",
    "            title=f'Cluster {cluster_num} EPD Improvement with Sire {sire_name}',\n",
    "            xaxis=dict(title='EPD Traits'),\n",
    "            yaxis=dict(title='EPD Values'),\n",
    "            barmode='group'\n",
    "        )\n",
    "\n",
    "        fig = go.Figure(data=data, layout=layout)\n",
    "        fig.show()\n",
    "\n",
    "    def display_dams_in_clusters(dam_clusters, dams_df):\n",
    "        \"\"\"\n",
    "        Displays the dams in each cluster.\n",
    "\n",
    "        Parameters:\n",
    "        - dam_clusters: DataFrame containing dams and their assigned clusters.\n",
    "        - dams_df: Original dams DataFrame with additional information if needed.\n",
    "        \"\"\"\n",
    "        # Merge dam_clusters with additional dam information if needed\n",
    "        dams_clustered = dam_clusters.merge(dams_df, on='Dam', how='left')\n",
    "\n",
    "        # Group dams by cluster\n",
    "        clusters = dams_clustered.groupby('Cluster')['Dam'].apply(list)\n",
    "\n",
    "        # Display dams in each cluster\n",
    "        for cluster_num, dam_list in clusters.items():\n",
    "            print(f\"\\nDams in Cluster {cluster_num}:\")\n",
    "            for dam in dam_list:\n",
    "                print(f\"- {dam}\")\n",
    "\n",
    "\n",
    "    # Number of clusters\n",
    "    n_clusters = 3  # Adjust based on your data\n",
    "\n",
    "    # Call the function to match sires to dam clusters\n",
    "    dam_clusters, best_sires, offspring_epds, cluster_means, overall_means = match_sires_to_dam_clusters(\n",
    "        sires_df, dams_df, epd_columns, desired_traits, desired_directions, n_clusters=n_clusters\n",
    "    )\n",
    "\n",
    "    # Analyze dam clusters\n",
    "    cluster_analysis = analyze_dam_clusters(dams_df, dam_clusters, epd_columns)\n",
    "\n",
    "    # Explain sire selection\n",
    "    sire_explanations = explain_sire_selection(cluster_analysis, best_sires, sires_df, epd_columns)\n",
    "\n",
    "    # Print detailed explanations and plot results\n",
    "    for cluster_num in sorted(cluster_analysis.keys()):\n",
    "        print(f\"\\n### Cluster {cluster_num} Analysis ###\")\n",
    "        print(\"Dam Cluster Average EPDs:\")\n",
    "        print(cluster_analysis[cluster_num]['mean_epds'])\n",
    "        print(\"\\nIdentified EPD Deficiencies (compared to overall means):\")\n",
    "        if not cluster_analysis[cluster_num]['deficiencies'].empty:\n",
    "            print(cluster_analysis[cluster_num]['deficiencies'])\n",
    "        else:\n",
    "            print(\"No significant deficiencies.\")\n",
    "        \n",
    "        # Sire selection explanation\n",
    "        sire_info = sire_explanations[cluster_num]\n",
    "        print(f\"\\nSelected Sire for Cluster {cluster_num}: {sire_info['sire_name']} (ID: {sire_info['sire_id']})\")\n",
    "        print(\"Sire EPDs:\")\n",
    "        print(sire_info['sire_epds'])\n",
    "        print(\"\\nSire Addresses the Following Deficiencies:\")\n",
    "        if sire_info['improvements']:\n",
    "            for epd, improvement in sire_info['improvements'].items():\n",
    "                print(f\"- {epd}: Sire improves by {improvement:.2f} units over dam cluster average.\")\n",
    "        else:\n",
    "            print(\"Sire does not address any deficiencies directly but was selected based on overall compatibility.\")\n",
    "        \n",
    "        # Calculate and display improvements\n",
    "        dam_mean_epds = cluster_analysis[cluster_num]['mean_epds']\n",
    "        offspring_epd = offspring_epds[cluster_num]\n",
    "        print(\"\\nExpected Improvement in Offspring EPDs:\")\n",
    "        for epd in epd_columns:\n",
    "            dam_value = dam_mean_epds[epd]\n",
    "            offspring_value = offspring_epd[epd]\n",
    "            improvement = offspring_value - dam_value\n",
    "            percentage = (improvement / abs(dam_value)) * 100 if dam_value != 0 else 0\n",
    "\n",
    "            desired_direction = desired_directions[epd]\n",
    "\n",
    "            # Determine if the change is in the desired direction\n",
    "            if desired_direction == 'increase':\n",
    "                is_improvement = improvement > 0\n",
    "                change_desc = 'increase'\n",
    "            elif desired_direction == 'decrease':\n",
    "                is_improvement = improvement < 0\n",
    "                change_desc = 'decrease'\n",
    "\n",
    "            # Format the improvement message accordingly\n",
    "            if is_improvement:\n",
    "                print(f\"- {epd}: Improved by {abs(improvement):.2f} units ({abs(percentage):.2f}% {change_desc})\")\n",
    "            else:\n",
    "                print(f\"- {epd}: No improvement (change of {improvement:.2f} units, {percentage:.2f}% change)\")\n",
    "        \n",
    "        # Retrieve the Sire's name for plotting\n",
    "        sire_name = sire_info['sire_name']\n",
    "\n",
    "        # Plot EPD improvements\n",
    "        plot_epd_improvement(cluster_num, dam_mean_epds, offspring_epd, epd_columns, sire_name)\n",
    "    # Display dams in clusters\n",
    "    display_dams_in_clusters(dam_clusters, dams_df)\n",
    "    \n",
    "clusterScenario(\"../datafiles/sireEpdsOnly.csv\", df)"
   ]
  }
 ],
 "metadata": {
  "kernelspec": {
   "display_name": "Python 3",
   "language": "python",
   "name": "python3"
  },
  "language_info": {
   "codemirror_mode": {
    "name": "ipython",
    "version": 3
   },
   "file_extension": ".py",
   "mimetype": "text/x-python",
   "name": "python",
   "nbconvert_exporter": "python",
   "pygments_lexer": "ipython3",
   "version": "3.12.7"
  }
 },
 "nbformat": 4,
 "nbformat_minor": 2
}
