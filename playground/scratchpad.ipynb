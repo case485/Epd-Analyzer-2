{
 "cells": [
  {
   "cell_type": "code",
   "execution_count": 5,
   "metadata": {},
   "outputs": [],
   "source": [
    "#open pickle file with dataframe\n",
    "import pickle\n",
    "import pandas as pd\n",
    "with open('../datafiles/activeDamsPercentileRankDf.pkl', 'rb') as f:\n",
    "    df = pickle.load(f)\n"
   ]
  },
  {
   "cell_type": "code",
   "execution_count": 6,
   "metadata": {},
   "outputs": [
    {
     "data": {
      "text/html": [
       "<div>\n",
       "<style scoped>\n",
       "    .dataframe tbody tr th:only-of-type {\n",
       "        vertical-align: middle;\n",
       "    }\n",
       "\n",
       "    .dataframe tbody tr th {\n",
       "        vertical-align: top;\n",
       "    }\n",
       "\n",
       "    .dataframe thead th {\n",
       "        text-align: right;\n",
       "    }\n",
       "</style>\n",
       "<table border=\"1\" class=\"dataframe\">\n",
       "  <thead>\n",
       "    <tr style=\"text-align: right;\">\n",
       "      <th></th>\n",
       "      <th>Categories</th>\n",
       "      <th>CED</th>\n",
       "      <th>BW</th>\n",
       "      <th>WW</th>\n",
       "      <th>YW</th>\n",
       "      <th>MK</th>\n",
       "      <th>TM</th>\n",
       "      <th>Growth</th>\n",
       "    </tr>\n",
       "  </thead>\n",
       "  <tbody>\n",
       "    <tr>\n",
       "      <th>0</th>\n",
       "      <td>Num Animals</td>\n",
       "      <td>8845</td>\n",
       "      <td>8845</td>\n",
       "      <td>8845</td>\n",
       "      <td>8845</td>\n",
       "      <td>8845</td>\n",
       "      <td>8845</td>\n",
       "      <td>8845</td>\n",
       "    </tr>\n",
       "    <tr>\n",
       "      <th>1</th>\n",
       "      <td>High</td>\n",
       "      <td>15</td>\n",
       "      <td>9.3</td>\n",
       "      <td>75</td>\n",
       "      <td>122</td>\n",
       "      <td>35</td>\n",
       "      <td>72</td>\n",
       "      <td>131.80</td>\n",
       "    </tr>\n",
       "    <tr>\n",
       "      <th>2</th>\n",
       "      <td>Average</td>\n",
       "      <td>-1</td>\n",
       "      <td>1.7</td>\n",
       "      <td>43</td>\n",
       "      <td>79</td>\n",
       "      <td>26</td>\n",
       "      <td>47</td>\n",
       "      <td>79.50</td>\n",
       "    </tr>\n",
       "    <tr>\n",
       "      <th>3</th>\n",
       "      <td>Low</td>\n",
       "      <td>-14</td>\n",
       "      <td>-5.9</td>\n",
       "      <td>18</td>\n",
       "      <td>45</td>\n",
       "      <td>12</td>\n",
       "      <td>25</td>\n",
       "      <td>34.03</td>\n",
       "    </tr>\n",
       "    <tr>\n",
       "      <th>4</th>\n",
       "      <td>1%</td>\n",
       "      <td>9</td>\n",
       "      <td>-1.6</td>\n",
       "      <td>56</td>\n",
       "      <td>96</td>\n",
       "      <td>31</td>\n",
       "      <td>57</td>\n",
       "      <td>106.44</td>\n",
       "    </tr>\n",
       "  </tbody>\n",
       "</table>\n",
       "</div>"
      ],
      "text/plain": [
       "0   Categories   CED    BW    WW    YW    MK    TM  Growth\n",
       "0  Num Animals  8845  8845  8845  8845  8845  8845    8845\n",
       "1         High    15   9.3    75   122    35    72  131.80\n",
       "2      Average    -1   1.7    43    79    26    47   79.50\n",
       "3          Low   -14  -5.9    18    45    12    25   34.03\n",
       "4           1%     9  -1.6    56    96    31    57  106.44"
      ]
     },
     "execution_count": 6,
     "metadata": {},
     "output_type": "execute_result"
    }
   ],
   "source": [
    "df.head()"
   ]
  },
  {
   "cell_type": "code",
   "execution_count": 13,
   "metadata": {},
   "outputs": [
    {
     "data": {
      "text/plain": [
       "'15'"
      ]
     },
     "execution_count": 13,
     "metadata": {},
     "output_type": "execute_result"
    }
   ],
   "source": [
    "df.loc[df['Categories'] == \"High\"][\"CED\"][1]"
   ]
  },
  {
   "cell_type": "code",
   "execution_count": null,
   "metadata": {},
   "outputs": [],
   "source": []
  }
 ],
 "metadata": {
  "kernelspec": {
   "display_name": "Python 3",
   "language": "python",
   "name": "python3"
  },
  "language_info": {
   "codemirror_mode": {
    "name": "ipython",
    "version": 3
   },
   "file_extension": ".py",
   "mimetype": "text/x-python",
   "name": "python",
   "nbconvert_exporter": "python",
   "pygments_lexer": "ipython3",
   "version": "3.12.7"
  }
 },
 "nbformat": 4,
 "nbformat_minor": 2
}
